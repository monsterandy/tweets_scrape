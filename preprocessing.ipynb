{
 "cells": [
  {
   "cell_type": "code",
   "execution_count": 1,
   "metadata": {},
   "outputs": [],
   "source": [
    "# specify the topic name here\n",
    "topic_name = 'Vaccine'\n",
    "\n",
    "# entry folder for the data\n",
    "# should be the form of 'data_{topic_name}/'\n",
    "entry_folder = 'data_Vaccine/'"
   ]
  },
  {
   "cell_type": "code",
   "execution_count": 2,
   "metadata": {},
   "outputs": [],
   "source": [
    "import os\n",
    "import glob\n",
    "import pandas as pd\n",
    "from tqdm import tqdm\n",
    "\n",
    "pd.options.mode.chained_assignment = None  # default='warn'"
   ]
  },
  {
   "cell_type": "code",
   "execution_count": null,
   "metadata": {},
   "outputs": [],
   "source": [
    "def get_image_path(image_url, csv_path):\n",
    "    image_name = image_url.split('/')[-1]\n",
    "    image_path = './' + csv_path[:-4] + '/' + image_name\n",
    "    return image_path"
   ]
  },
  {
   "cell_type": "code",
   "execution_count": null,
   "metadata": {},
   "outputs": [],
   "source": [
    "df_csv = pd.DataFrame(columns=['hashtag', 'tweet_id', 'image_path', 'body_text'])\n",
    "df_csv['tweet_id'] = df_csv['tweet_id'].astype('int64')\n",
    "\n",
    "entries = os.listdir(entry_folder)\n",
    "for hashtag in entries:\n",
    "    if hashtag.startswith('.'): continue\n",
    "    list_files = glob.glob(entry_folder + hashtag + '/*.csv')\n",
    "    tweets_count = 0\n",
    "    for csv_path in list_files:\n",
    "        # print(csv_path)\n",
    "        temp_df = pd.read_csv(csv_path)\n",
    "        tweets_count += len(temp_df.index)\n",
    "        temp_df.drop(columns=['tweet_url'], inplace=True)\n",
    "        temp_df.rename({'text_data': 'body_text', 'media': 'image_path'}, axis='columns', inplace=True)\n",
    "        temp_df.insert(loc=0, column='hashtag', value=hashtag)\n",
    "        cols = temp_df.columns.tolist()\n",
    "        # before: cols = ['hashtag', 'image_path', 'body_text', 'tweet_id']\n",
    "        cols = cols[:1] + cols[-1:] + cols[1:-1]\n",
    "        temp_df = temp_df[cols]\n",
    "        temp_df['image_path'] = temp_df['image_path'].apply(get_image_path, csv_path=csv_path)\n",
    "        temp_df['tweet_id'] = temp_df['tweet_id'].astype('int64')\n",
    "        df_csv = df_csv.append(temp_df)\n",
    "    print('{:>24s}: {:>5}'.format(hashtag, tweets_count))\n",
    "print('Topic: {} - Total tweets: {:>5}'.format(topic_name, len(df_csv.index)))"
   ]
  },
  {
   "cell_type": "code",
   "execution_count": null,
   "metadata": {},
   "outputs": [],
   "source": [
    "# remove tweets with invalid image path\n",
    "df_csv['path_is_valid'] = df_csv['image_path'].apply(lambda x: 1 if os.path.isfile(x) else 0)\n",
    "df_csv = df_csv[df_csv.path_is_valid.eq(1)]\n",
    "df_csv.drop(columns=['path_is_valid'], inplace=True)"
   ]
  },
  {
   "cell_type": "code",
   "execution_count": null,
   "metadata": {},
   "outputs": [],
   "source": [
    "df_csv.reset_index(drop=True, inplace=True)\n",
    "df_csv"
   ]
  },
  {
   "cell_type": "markdown",
   "metadata": {},
   "source": [
    "### Filter out images without text"
   ]
  },
  {
   "cell_type": "code",
   "execution_count": null,
   "metadata": {
    "tags": [
     "outputPrepend"
    ]
   },
   "outputs": [],
   "source": [
    "from opencv_text_detector import TextDetector\n",
    "\n",
    "tqdm.pandas()\n",
    "detector = TextDetector()\n",
    "\n",
    "# df_csv['has_text'] = df_csv['image_path'].apply(detector.detect_text)\n",
    "df_csv['has_text'] = df_csv['image_path'].progress_apply(detector.detect_text)\n",
    "\n",
    "df_csv"
   ]
  },
  {
   "cell_type": "code",
   "execution_count": null,
   "metadata": {},
   "outputs": [],
   "source": [
    "result_path = './csv_data/data_' + topic_name + '.csv'\n",
    "df_csv.to_csv(result_path)"
   ]
  },
  {
   "cell_type": "code",
   "execution_count": null,
   "metadata": {},
   "outputs": [],
   "source": [
    "# filter out those images without text\n",
    "result_path = './csv_data/data_' + topic_name + '.csv'\n",
    "df_csv = pd.read_csv(result_path, index_col=0)\n",
    "\n",
    "df_csv_cleaned = df_csv[df_csv.has_text.eq(1)]\n",
    "df_csv_cleaned.drop(columns=['has_text'], inplace=True)\n",
    "df_csv_cleaned.reset_index(drop=True, inplace=True)\n",
    "\n",
    "result_cleaned_path = './csv_data/data_' + topic_name + '_cleaned.csv'\n",
    "df_csv_cleaned.to_csv(result_cleaned_path)"
   ]
  },
  {
   "cell_type": "code",
   "execution_count": null,
   "metadata": {},
   "outputs": [],
   "source": [
    "df_csv_cleaned"
   ]
  },
  {
   "cell_type": "code",
   "execution_count": null,
   "metadata": {},
   "outputs": [],
   "source": [
    "result_cleaned_path = './csv_data/data_' + topic_name + '_cleaned.csv'\n",
    "df_csv_cleaned = pd.read_csv(result_cleaned_path, index_col=0)"
   ]
  },
  {
   "cell_type": "code",
   "execution_count": null,
   "metadata": {},
   "outputs": [],
   "source": [
    "# count the tweets in different hashtags after cleaning\n",
    "df_csv_cleaned['hashtag'].value_counts()"
   ]
  },
  {
   "cell_type": "markdown",
   "metadata": {},
   "source": [
    "### Filter out duplicate images"
   ]
  },
  {
   "cell_type": "code",
   "execution_count": 3,
   "metadata": {},
   "outputs": [],
   "source": [
    "result_cleaned_path = './csv_data/data_' + topic_name + '_cleaned.csv'\n",
    "cleaned_data = pd.read_csv(result_cleaned_path, index_col=0)\n",
    "image_paths = cleaned_data['image_path'].to_list()"
   ]
  },
  {
   "cell_type": "code",
   "execution_count": 4,
   "metadata": {
    "tags": [
     "outputPrepend"
    ]
   },
   "outputs": [
    {
     "output_type": "stream",
     "name": "stdout",
     "text": [
      "8 is being processed, ./data_Immigration/cdnpoli/tweets2/Ee7xwx4XoAEfN5b.jpg\n",
      "14450/14678 is being processed, ./data_Immigration/cdnpoli/tweets2/Ee74AMnUcAAzFV9.jpg\n",
      "14451/14678 is being processed, ./data_Immigration/cdnpoli/tweets2/Ee74SHqUYAAE2sY.jpg\n",
      "14452/14678 is being processed, ./data_Immigration/cdnpoli/tweets2/Ee8BvXZWoAAFmGq.jpg\n",
      "14453/14678 is being processed, ./data_Immigration/cdnpoli/tweets2/Ee7sW0LU0AIxsaJ.jpg\n",
      "14454/14678 is being processed, ./data_Immigration/cdnpoli/tweets2/Ee1hPhXWkAAkYRr.jpg\n",
      "14455/14678 is being processed, ./data_Immigration/cdnpoli/tweets2/Ee7x9WeUYAUplJN.jpg\n",
      "14456/14678 is being processed, ./data_Immigration/cdnpoli/tweets2/Ee7asDmX0AABGdY.jpg\n",
      "14457/14678 is being processed, ./data_Immigration/cdnpoli/tweets2/Ee7w3TpUEAAT3eG.jpg\n",
      "14458/14678 is being processed, ./data_Immigration/cdnpoli/tweets2/Ee7llELVAAAbCRO.jpg\n",
      "14459/14678 is being processed, ./data_Immigration/cdnpoli/tweets2/Ee76OcLVoAIPmgx.jpg\n",
      "14460/14678 is being processed, ./data_Immigration/cdnpoli/tweets2/Ee8B79zXkAAI_m0.jpg\n",
      "14461/14678 is being processed, ./data_Immigration/cdnpoli/tweets2/Ee7x5dTVoAAvms_.jpg\n",
      "14462/14678 is being processed, ./data_Immigration/cdnpoli/tweets2/Ee1fbvBUEAAqEPF.jpg\n",
      "14463/14678 is being processed, ./data_Immigration/cdnpoli/tweets2/Ee754X3XoAI57yk.jpg\n",
      "14464/14678 is being processed, ./data_Immigration/cdnpoli/tweets2/Ee71vR8WAAUVzSb.jpg\n",
      "14465/14678 is being processed, ./data_Immigration/cdnpoli/tweets2/Ee75bfEXgAAqnWG.jpg\n",
      "14466/14678 is being processed, ./data_Immigration/cdnpoli/tweets2/Ee78czwU8AAmSAp.jpg\n",
      "14467/14678 is being processed, ./data_Immigration/cdnpoli/tweets2/Ee70-g1U0AAt6mE.jpg\n",
      "14468/14678 is being processed, ./data_Immigration/cdnpoli/tweets2/Ee7t0TbWkAE5sqw.png\n",
      "14469/14678 is being processed, ./data_Immigration/cdnpoli/tweets2/Ee4O8ocUYAAav8I.jpg\n",
      "14470/14678 is being processed, ./data_Immigration/cdnpoli/tweets2/Ee7jY09VAAAL7FI.jpg\n",
      "14471/14678 is being processed, ./data_Immigration/cdnpoli/tweets2/Ee75zSWUcAA9J3F.jpg\n",
      "14472/14678 is being processed, ./data_Immigration/cdnpoli/tweets2/Ee5zIgpVoAAu0se.png\n",
      "14473/14678 is being processed, ./data_Immigration/cdnpoli/tweets2/Ee70gsEWAAI_Wmv.jpg\n",
      "14474/14678 is being processed, ./data_Immigration/cdnpoli/tweets2/Ee7gN54UYAAuxTg.jpg\n",
      "14475/14678 is being processed, ./data_Immigration/cdnpoli/tweets2/Ee70lPmVoAActih.jpg\n",
      "14476/14678 is being processed, ./data_Immigration/cdnpoli/tweets2/Ee7gk0oUwAASUzE.jpg\n",
      "14477/14678 is being processed, ./data_Immigration/cdnpoli/tweets2/Ee79CV_XoAYwowE.jpg\n",
      "14478/14678 is being processed, ./data_Immigration/cdnpoli/tweets2/Ee7kYBzUwAEnQ3n.jpg\n",
      "14479/14678 is being processed, ./data_Immigration/cdnpoli/tweets2/Ee76X_jXYAETB7Y.jpg\n",
      "14480/14678 is being processed, ./data_Immigration/cdnpoli/tweets2/Ee7m0daWsAse2NO.jpg\n",
      "14481/14678 is being processed, ./data_Immigration/cdnpoli/tweets2/Ee71V9BUMAAludO.jpg\n",
      "14482/14678 is being processed, ./data_Immigration/cdnpoli/tweets2/Ee7IrANUYAA0y-h.png\n",
      "14483/14678 is being processed, ./data_Immigration/cdnpoli/tweets2/Ee7LkYlXoAIxwzf.jpg\n",
      "14484/14678 is being processed, ./data_Immigration/cdnpoli/tweets2/Ee67B4iWkAAMP2K.jpg\n",
      "14485/14678 is being processed, ./data_Immigration/cdnpoli/tweets2/Ee7TPVeUwAEbBTk.jpg\n",
      "14486/14678 is being processed, ./data_Immigration/cdnpoli/tweets2/Ee34Bk-XYAI1WfP.jpg\n",
      "14487/14678 is being processed, ./data_Immigration/cdnpoli/tweets2/Ee65FEwWAAAJf0N.jpg\n",
      "14488/14678 is being processed, ./data_Immigration/cdnpoli/tweets2/Ee7C89uWkAEfMHS.jpg\n",
      "14489/14678 is being processed, ./data_Immigration/cdnpoli/tweets2/Ee7IT4BWAAI3HUs.jpg\n",
      "14490/14678 is being processed, ./data_Immigration/cdnpoli/tweets2/Ee7I6fLU8AA_M67.jpg\n",
      "14491/14678 is being processed, ./data_Immigration/cdnpoli/tweets2/Ee7SoHyXsAEZFAL.jpg\n",
      "14492/14678 is being processed, ./data_Immigration/cdnpoli/tweets2/Ee7Tp-xWAAI_tZY.jpg\n",
      "14493/14678 is being processed, ./data_Immigration/cdnpoli/tweets2/Ee7NWqqXoAE8G78.png\n",
      "14494/14678 is being processed, ./data_Immigration/cdnpoli/tweets2/Ee63jlRVAAAPmlm.png\n",
      "14495/14678 is being processed, ./data_Immigration/cdnpoli/tweets2/Ee6_AXUVoAA1yRE.jpg\n",
      "14496/14678 is being processed, ./data_Immigration/cdnpoli/tweets2/Ee7CfGvXgAU-pV0.jpg\n",
      "14497/14678 is being processed, ./data_Immigration/cdnpoli/tweets2/Ee63Ey4U4AEuaJU.jpg\n",
      "14498/14678 is being processed, ./data_Immigration/cdnpoli/tweets2/Ee7R5KLUYAA78CT.jpg\n",
      "14499/14678 is being processed, ./data_Immigration/cdnpoli/tweets2/Ee7ZQJcU4AAO2Ga.png\n",
      "14500/14678 is being processed, ./data_Immigration/cdnpoli/tweets2/Ee7PYNXUYAIf3Nm.png\n",
      "14501/14678 is being processed, ./data_Immigration/cdnpoli/tweets2/Ee7ZuXAWoAEg-Lw.jpg\n",
      "14502/14678 is being processed, ./data_Immigration/cdnpoli/tweets2/Ee7NvjVUwAAYVZx.jpg\n",
      "14503/14678 is being processed, ./data_Immigration/cdnpoli/tweets2/Ee64XkMU8AIZw1N.jpg\n",
      "14504/14678 is being processed, ./data_Immigration/cdnpoli/tweets2/Ee7GnvJUEAA1U5G.jpg\n",
      "14505/14678 is being processed, ./data_Immigration/cdnpoli/tweets2/Ee7LD6PU0AAk9vC.png\n",
      "14506/14678 is being processed, ./data_Immigration/cdnpoli/tweets2/Ee64bwTXYAEa6B0.jpg\n",
      "14507/14678 is being processed, ./data_Immigration/cdnpoli/tweets2/Ee7HC1HXkAQ5HYM.jpg\n",
      "14508/14678 is being processed, ./data_Immigration/cdnpoli/tweets2/Ee67HuMXsAAfAdq.png\n",
      "14509/14678 is being processed, ./data_Immigration/cdnpoli/tweets2/Ee7S_A3XgAE1Oa_.jpg\n",
      "14510/14678 is being processed, ./data_Immigration/cdnpoli/tweets2/Ee7agPaWkAIx8xc.jpg\n",
      "14511/14678 is being processed, ./data_Immigration/cdnpoli/tweets2/Ee7KY5TVAAIBRk1.png\n",
      "14512/14678 is being processed, ./data_Immigration/cdnpoli/tweets2/Ee7NxaMXkAA2wIR.jpg\n",
      "14513/14678 is being processed, ./data_Immigration/cdnpoli/tweets2/Ee6iMPcWAAEoRMn.png\n",
      "14514/14678 is being processed, ./data_Immigration/cdnpoli/tweets2/Ee6dvloXYAA6r-8.jpg\n",
      "14515/14678 is being processed, ./data_Immigration/cdnpoli/tweets2/Ee6lT55WkAEm8T6.png\n",
      "14516/14678 is being processed, ./data_Immigration/cdnpoli/tweets2/Ee6sfDPX0AUiBT1.jpg\n",
      "14517/14678 is being processed, ./data_Immigration/cdnpoli/tweets2/Ee6yMZeU0AAZFtF.jpg\n",
      "14518/14678 is being processed, ./data_Immigration/cdnpoli/tweets2/Ee6hKSfXsAAmjUa.jpg\n",
      "14519/14678 is being processed, ./data_Immigration/cdnpoli/tweets2/Ee6idL4U4AYtSuD.jpg\n",
      "14520/14678 is being processed, ./data_Immigration/cdnpoli/tweets2/Ee6kZjqXgAAtULR.jpg\n",
      "14521/14678 is being processed, ./data_Immigration/cdnpoli/tweets2/Ee6oSNHU0AAlkgY.jpg\n",
      "14522/14678 is being processed, ./data_Immigration/cdnpoli/tweets2/Ee6ipMpUYAA9Sdt.jpg\n",
      "14523/14678 is being processed, ./data_Immigration/cdnpoli/tweets2/EdQNuZ5WAAE9rF7.jpg\n",
      "14524/14678 is being processed, ./data_Immigration/cdnpoli/tweets2/Ee6hj-CXYAAVaCG.jpg\n",
      "14525/14678 is being processed, ./data_Immigration/cdnpoli/tweets2/Ee6mcbJU4AAhXau.jpg\n",
      "14526/14678 is being processed, ./data_Immigration/cdnpoli/tweets2/Ee6pIl2WoAA662U.jpg\n",
      "14527/14678 is being processed, ./data_Immigration/cdnpoli/tweets2/Ee6o0WVXgAEuWpk.jpg\n",
      "14528/14678 is being processed, ./data_Immigration/cdnpoli/tweets2/Ee6rjD0X0AAHsoQ.jpg\n",
      "14529/14678 is being processed, ./data_Immigration/cdnpoli/tweets2/Ee6gNoUX0AQr2qt.jpg\n",
      "14530/14678 is being processed, ./data_Immigration/cdnpoli/tweets2/Ee6ggqlWoAIO5CY.jpg\n",
      "14531/14678 is being processed, ./data_Immigration/cdnpoli/tweets2/Ee6mmE6UMAAhmwa.jpg\n",
      "14532/14678 is being processed, ./data_Immigration/cdnpoli/tweets2/Ee4RHHsUwAA2QTc.jpg\n",
      "14533/14678 is being processed, ./data_Immigration/cdnpoli/tweets2/Ee6rFriXgAEheci.jpg\n",
      "14534/14678 is being processed, ./data_Immigration/cdnpoli/tweets2/Ee6iPBVWsAQtMMS.jpg\n",
      "14535/14678 is being processed, ./data_Immigration/cdnpoli/tweets2/Ee6yfn8X0AAyyVJ.png\n",
      "14536/14678 is being processed, ./data_Immigration/cdnpoli/tweets2/Ee6hKVaUwAENNRG.png\n",
      "14537/14678 is being processed, ./data_Immigration/cdnpoli/tweets2/Ee6quuqWoAE-o52.jpg\n",
      "14538/14678 is being processed, ./data_Immigration/cdnpoli/tweets2/Ee6s5WuX0AIe081.jpg\n",
      "14539/14678 is being processed, ./data_Immigration/cdnpoli/tweets2/Ee6keGRVoAAithg.jpg\n",
      "14540/14678 is being processed, ./data_Immigration/cdnpoli/tweets2/Ee6iXY6UwAAHKlS.jpg\n",
      "14541/14678 is being processed, ./data_Immigration/cdnpoli/tweets2/Ee6lZ4QXsAERK8E.png\n",
      "14542/14678 is being processed, ./data_Immigration/cdnpoli/tweets2/Ee6zyJYWsAA6MMM.png\n",
      "14472/14678 is being processed, ./data_Immigration/cdnpoli/tweets2/Ee5zIgpVoAAu0se.png\n",
      "14544/14678 is being processed, ./data_Immigration/cdnpoli/tweets2/Ee6AxuTXoAMeXLa.jpg\n",
      "14545/14678 is being processed, ./data_Immigration/cdnpoli/tweets2/Ee6W7kxU0AAF03G.jpg\n",
      "14546/14678 is being processed, ./data_Immigration/cdnpoli/tweets2/Ee6Vt5OXoAIeuCK.jpg\n",
      "14462/14678 is being processed, ./data_Immigration/cdnpoli/tweets2/Ee1fbvBUEAAqEPF.jpg\n",
      "14548/14678 is being processed, ./data_Immigration/cdnpoli/tweets2/Ee6Y-jlVAAAh_Rf.png\n",
      "14549/14678 is being processed, ./data_Immigration/cdnpoli/tweets2/Ee6JI_KWoAIKITi.jpg\n",
      "14550/14678 is being processed, ./data_Immigration/cdnpoli/tweets2/Ee6HnWoWsAEmyin.jpg\n",
      "14551/14678 is being processed, ./data_Immigration/cdnpoli/tweets2/Ee6WYHIXsAApDVc.jpg\n",
      "14552/14678 is being processed, ./data_Immigration/cdnpoli/tweets2/Ee6RsosU8AEfKtF.png\n",
      "14553/14678 is being processed, ./data_Immigration/cdnpoli/tweets2/Ee58VraXsAA4Bef.jpg\n",
      "14554/14678 is being processed, ./data_Immigration/cdnpoli/tweets2/Ee6S4QXX0AASW9_.jpg\n",
      "14555/14678 is being processed, ./data_Immigration/cdnpoli/tweets2/Ee6YNm1WoAIqDB_.jpg\n",
      "14556/14678 is being processed, ./data_Immigration/cdnpoli/tweets2/Ee6EU0QXoAAKSNh.jpg\n",
      "14557/14678 is being processed, ./data_Immigration/cdnpoli/tweets2/Ee6Gd5LWsAADtMk.jpg\n",
      "14558/14678 is being processed, ./data_Immigration/cdnpoli/tweets2/Ee6YW8TUwAIwojF.jpg\n",
      "14559/14678 is being processed, ./data_Immigration/cdnpoli/tweets2/Ee4PVrBU4AEmAZo.jpg\n",
      "14560/14678 is being processed, ./data_Immigration/cdnpoli/tweets2/Ee6QQXqUEAIaVMP.jpg\n",
      "14561/14678 is being processed, ./data_Immigration/cdnpoli/tweets2/Ee35YT2WAAAEiee.jpg\n",
      "14562/14678 is being processed, ./data_Immigration/cdnpoli/tweets2/Ee6JGwiWAAAB_Ha.jpg\n",
      "14563/14678 is being processed, ./data_Immigration/cdnpoli/tweets2/Ee6R4Z3XgAEOvQv.jpg\n",
      "14564/14678 is being processed, ./data_Immigration/cdnpoli/tweets2/Eev3-mBXsAAFKa5.jpg\n",
      "14565/14678 is being processed, ./data_Immigration/cdnpoli/tweets2/Ee6QEVSVoAE77JB.jpg\n",
      "14566/14678 is being processed, ./data_Immigration/cdnpoli/tweets2/Ee6Uv-kXoAAaLDf.jpg\n",
      "14567/14678 is being processed, ./data_Immigration/cdnpoli/tweets2/Ee2biEnWsAE7IhS.png\n",
      "14568/14678 is being processed, ./data_Immigration/cdnpoli/tweets2/Ee6Sit1UYAgbIQ9.jpg\n",
      "14569/14678 is being processed, ./data_Immigration/cdnpoli/tweets2/Ee6JPvnXgAMKIHU.jpg\n",
      "14570/14678 is being processed, ./data_Immigration/cdnpoli/tweets2/Ee6ZlVjU8AAb-va.png\n",
      "14571/14678 is being processed, ./data_Immigration/cdnpoli/tweets2/Ee6IoAjWAAAPgl6.jpg\n",
      "14572/14678 is being processed, ./data_Immigration/cdnpoli/tweets2/Ee6SV_LWAAEhws1.jpg\n",
      "14573/14678 is being processed, ./data_Immigration/cdnpoli/tweets2/Ee1fhVbXoAQwu1q.jpg\n",
      "14574/14678 is being processed, ./data_Immigration/cdnpoli/tweets2/Ee6DPrTWAAAFxKN.jpg\n",
      "14575/14678 is being processed, ./data_Immigration/cdnpoli/tweets2/Ee6aJMRU4AEVUK9.jpg\n",
      "14576/14678 is being processed, ./data_Immigration/cdnpoli/tweets2/Ee6QiXVWsAAiYEC.jpg\n",
      "14577/14678 is being processed, ./data_Immigration/cdnpoli/tweets2/Ee6SAnPXYAAE-3c.jpg\n",
      "14578/14678 is being processed, ./data_Immigration/cdnpoli/tweets2/Ee5t1_VXsAAhRKG.jpg\n",
      "14579/14678 is being processed, ./data_Immigration/cdnpoli/tweets2/Ee5Z5wVXgAAbxyf.jpg\n",
      "14580/14678 is being processed, ./data_Immigration/cdnpoli/tweets2/Ee56DRhU0AAPVO-.jpg\n",
      "14581/14678 is being processed, ./data_Immigration/cdnpoli/tweets2/Ee5-WdaXkAAAi45.jpg\n",
      "14582/14678 is being processed, ./data_Immigration/cdnpoli/tweets2/Ee5UD1XWoAAvYLt.jpg\n",
      "14583/14678 is being processed, ./data_Immigration/cdnpoli/tweets2/Ee2ZeqbWoAMC-E9.png\n",
      "14584/14678 is being processed, ./data_Immigration/cdnpoli/tweets2/Ee5Z5r2XgAIM4wL.jpg\n",
      "14585/14678 is being processed, ./data_Immigration/cdnpoli/tweets2/Ee5ZpTNVAAAoSBr.png\n",
      "14586/14678 is being processed, ./data_Immigration/cdnpoli/tweets2/Ee5snhnWoAEr6cp.jpg\n",
      "14587/14678 is being processed, ./data_Immigration/cdnpoli/tweets2/Ee5388OU8AE_YCy.jpg\n",
      "14588/14678 is being processed, ./data_Immigration/cdnpoli/tweets2/Ee5UvGiXoAE8Q8h.jpg\n",
      "14589/14678 is being processed, ./data_Immigration/cdnpoli/tweets2/Ee5bVAcWsAApVz6.jpg\n",
      "14590/14678 is being processed, ./data_Immigration/cdnpoli/tweets2/Ee5aZinU0AAfcnD.jpg\n",
      "14591/14678 is being processed, ./data_Immigration/cdnpoli/tweets2/Ee6AGS-UMAAactN.jpg\n",
      "14592/14678 is being processed, ./data_Immigration/cdnpoli/tweets2/Ee50PttWkAIeIlI.jpg\n",
      "14593/14678 is being processed, ./data_Immigration/cdnpoli/tweets2/Ee5hyq8XgAEaV9p.jpg\n",
      "14594/14678 is being processed, ./data_Immigration/cdnpoli/tweets2/Ee5h4uFUcAEffsp.png\n",
      "14595/14678 is being processed, ./data_Immigration/cdnpoli/tweets2/Ee5uoIZXgAAQ541.jpg\n",
      "14596/14678 is being processed, ./data_Immigration/cdnpoli/tweets2/Ee5-XoAUEAAl1Cy.jpg\n",
      "14597/14678 is being processed, ./data_Immigration/cdnpoli/tweets2/Ee5zxrUWkAEhbfe.jpg\n",
      "14598/14678 is being processed, ./data_Immigration/cdnpoli/tweets2/Ee5fDh5WsAECtvy.jpg\n",
      "14599/14678 is being processed, ./data_Immigration/cdnpoli/tweets2/Ee2ZRW1WkAQAyNG.png\n",
      "14600/14678 is being processed, ./data_Immigration/cdnpoli/tweets2/Ee5q5GeXkAAWKy2.jpg\n",
      "14601/14678 is being processed, ./data_Immigration/cdnpoli/tweets2/Ee5rHGiWAAA5SeR.jpg\n",
      "14602/14678 is being processed, ./data_Immigration/cdnpoli/tweets2/Ee55BslUMAE2boX.jpg\n",
      "14603/14678 is being processed, ./data_Immigration/cdnpoli/tweets2/Ee58ub5VAAYLeCG.jpg\n",
      "14604/14678 is being processed, ./data_Immigration/cdnpoli/tweets2/Ee5rjXMWsAArZgG.jpg\n",
      "14605/14678 is being processed, ./data_Immigration/cdnpoli/tweets2/Ee5WDyzXYAAcaSF.jpg\n",
      "14606/14678 is being processed, ./data_Immigration/cdnpoli/tweets2/Ee5dGr0UMAAaE24.png\n",
      "14607/14678 is being processed, ./data_Immigration/cdnpoli/tweets2/Ee5zTvcXoAEgkeP.jpg\n",
      "14608/14678 is being processed, ./data_Immigration/cdnpoli/tweets2/Eev3jQaWkAAh5Rk.jpg\n",
      "14609/14678 is being processed, ./data_Immigration/cdnpoli/tweets2/Ee5m7eIX0AEvHGH.jpg\n",
      "14610/14678 is being processed, ./data_Immigration/cdnpoli/tweets2/Ee5789EX0AMVsow.jpg\n",
      "14611/14678 is being processed, ./data_Immigration/cdnpoli/tweets2/Ee5zIZGU8AQBcDe.jpg\n",
      "14612/14678 is being processed, ./data_Immigration/cdnpoli/tweets2/Ee5-X_OXkAMY_CW.jpg\n",
      "14613/14678 is being processed, ./data_Immigration/cdnpoli/tweets2/Ee3r2fOUEAAkLgf.jpg\n",
      "14614/14678 is being processed, ./data_Immigration/cdnpoli/tweets2/Ee32BvOU4AAdOVK.jpg\n",
      "14615/14678 is being processed, ./data_Immigration/cdnpoli/tweets2/Ee33ee3VAAAUkQ6.jpg\n",
      "14616/14678 is being processed, ./data_Immigration/cdnpoli/tweets2/Ee4gNyJXoAAKXDP.jpg\n",
      "14617/14678 is being processed, ./data_Immigration/cdnpoli/tweets2/Ee5GDYgXsAA2Fmr.jpg\n",
      "14618/14678 is being processed, ./data_Immigration/cdnpoli/tweets2/Ee4BPJBXkAEiPQk.jpg\n",
      "14619/14678 is being processed, ./data_Immigration/cdnpoli/tweets2/Ee3uNH2U0AIKUDq.jpg\n",
      "14620/14678 is being processed, ./data_Immigration/cdnpoli/tweets2/Ee3-H2oVAAYrOYU.jpg\n",
      "14621/14678 is being processed, ./data_Immigration/cdnpoli/tweets2/Ee4JyI9U0AAY4uD.jpg\n",
      "14622/14678 is being processed, ./data_Immigration/cdnpoli/tweets2/Ee4CUwbXoAEZ8-y.png\n",
      "14623/14678 is being processed, ./data_Immigration/cdnpoli/tweets2/Ee4frUFWAAAiU5B.jpg\n",
      "14624/14678 is being processed, ./data_Immigration/cdnpoli/tweets2/Ee42QEeWkAEAIOg.jpg\n",
      "14625/14678 is being processed, ./data_Immigration/cdnpoli/tweets2/Ee46sBGXgAEhMKq.jpg\n",
      "14626/14678 is being processed, ./data_Immigration/cdnpoli/tweets2/Ee38HziU4AE7Mso.jpg\n",
      "14627/14678 is being processed, ./data_Immigration/cdnpoli/tweets2/Ee4YCKkU4AI4Qpa.jpg\n",
      "14628/14678 is being processed, ./data_Immigration/cdnpoli/tweets2/Ee3ya7EUEAIyeEn.jpg\n",
      "14629/14678 is being processed, ./data_Immigration/cdnpoli/tweets2/Ee314R-XYAA_Dq-.jpg\n",
      "14630/14678 is being processed, ./data_Immigration/cdnpoli/tweets2/Ee5DAJ0XoAES8BR.jpg\n",
      "14631/14678 is being processed, ./data_Immigration/cdnpoli/tweets2/Ee3___jUEAExkMP.jpg\n",
      "14632/14678 is being processed, ./data_Immigration/cdnpoli/tweets2/Ee3vFxPUEAA2qKm.jpg\n",
      "14633/14678 is being processed, ./data_Immigration/cdnpoli/tweets2/Ee30y8uVoAAR-6U.jpg\n",
      "14634/14678 is being processed, ./data_Immigration/cdnpoli/tweets2/Ee3pUhfXYAUx68l.jpg\n",
      "14635/14678 is being processed, ./data_Immigration/cdnpoli/tweets2/Ee4Ju-KUcAQz2Zn.jpg\n",
      "14636/14678 is being processed, ./data_Immigration/cdnpoli/tweets2/Ee3uMAOXYAEXckI.jpg\n",
      "14637/14678 is being processed, ./data_Immigration/cdnpoli/tweets2/Ee3xbkSU4AE-qzV.jpg\n",
      "14638/14678 is being processed, ./data_Immigration/cdnpoli/tweets2/Ee4EwNKWoAklwoH.jpg\n",
      "14639/14678 is being processed, ./data_Immigration/cdnpoli/tweets2/Ee3rvWbU8AAwZqF.jpg\n",
      "14640/14678 is being processed, ./data_Immigration/cdnpoli/tweets2/Ee49VUWXYAAKWfz.jpg\n",
      "14641/14678 is being processed, ./data_Immigration/cdnpoli/tweets2/Ee5P4xeWsAAj9Y1.jpg\n",
      "14642/14678 is being processed, ./data_Immigration/cdnpoli/tweets2/Ee4HJdXUwAErmC1.jpg\n",
      "14643/14678 is being processed, ./data_Immigration/cdnpoli/tweets2/Ee364jQU4AEMc-4.jpg\n",
      "14644/14678 is being processed, ./data_Immigration/cdnpoli/tweets2/Ee38mb-VoAE9IAH.jpg\n",
      "14645/14678 is being processed, ./data_Immigration/cdnpoli/tweets2/Ee4A6E8XoAE2ubf.jpg\n",
      "14646/14678 is being processed, ./data_Immigration/cdnpoli/tweets2/Ee4EUdyUwAIZG1G.jpg\n",
      "14647/14678 is being processed, ./data_Immigration/cdnpoli/tweets2/Ee41y6MU4AIQytt.jpg\n",
      "14648/14678 is being processed, ./data_Immigration/cdnpoli/tweets2/Ee256u_XoAMx0Wt.png\n",
      "14649/14678 is being processed, ./data_Immigration/cdnpoli/tweets2/Ee3FhPwU0AASRzG.jpg\n",
      "14650/14678 is being processed, ./data_Immigration/cdnpoli/tweets2/Ee3fEmwVAAAfu7K.png\n",
      "14651/14678 is being processed, ./data_Immigration/cdnpoli/tweets2/Ee3oJfJUMAIMr27.jpg\n",
      "14652/14678 is being processed, ./data_Immigration/cdnpoli/tweets2/Ee20dkDXYAEuy6x.jpg\n",
      "14653/14678 is being processed, ./data_Immigration/cdnpoli/tweets2/Ee3AW4EXoAAJlOc.png\n",
      "14654/14678 is being processed, ./data_Immigration/cdnpoli/tweets2/Ee3TmHjU0AA2t5f.jpg\n",
      "14655/14678 is being processed, ./data_Immigration/cdnpoli/tweets2/Ee3NdJWUEAEpYqF.jpg\n",
      "14656/14678 is being processed, ./data_Immigration/cdnpoli/tweets2/EezKmulUEAAZFzR.jpg\n",
      "14657/14678 is being processed, ./data_Immigration/cdnpoli/tweets2/Ee3Y5tYXkAATbcV.jpg\n",
      "14658/14678 is being processed, ./data_Immigration/cdnpoli/tweets2/Ee3Qwb6XgAEUlw8.jpg\n",
      "14659/14678 is being processed, ./data_Immigration/cdnpoli/tweets2/Ee3FVcbUYAEhvDj.jpg\n",
      "14660/14678 is being processed, ./data_Immigration/cdnpoli/tweets2/Ee3lMqzXYAMo1ki.jpg\n",
      "14661/14678 is being processed, ./data_Immigration/cdnpoli/tweets2/Ee3OkZqXYAEoI3Q.jpg\n",
      "14662/14678 is being processed, ./data_Immigration/cdnpoli/tweets2/Ee3D6lzXYAYPWKw.jpg\n",
      "14663/14678 is being processed, ./data_Immigration/cdnpoli/tweets2/Ee3jM2wU0AAZ1m9.jpg\n",
      "14664/14678 is being processed, ./data_Immigration/cdnpoli/tweets2/Ee21rbOX0AAORCj.jpg\n",
      "14665/14678 is being processed, ./data_Immigration/cdnpoli/tweets2/Ee3SvEbXkAE6XxW.jpg\n",
      "14666/14678 is being processed, ./data_Immigration/cdnpoli/tweets2/Ee3IjzOVoAE1DoC.jpg\n",
      "14667/14678 is being processed, ./data_Immigration/cdnpoli/tweets2/Ee3HPjaXoAIrDIO.jpg\n",
      "14668/14678 is being processed, ./data_Immigration/cdnpoli/tweets2/Ee19rgsXYAElU3b.jpg\n",
      "14669/14678 is being processed, ./data_Immigration/cdnpoli/tweets2/Ee0reRpUMAAg-OO.png\n",
      "14670/14678 is being processed, ./data_Immigration/cdnpoli/tweets2/Ee25eCpUEAEGUcY.png\n",
      "14671/14678 is being processed, ./data_Immigration/cdnpoli/tweets2/Ee3RncEXkAAMcZq.jpg\n",
      "14672/14678 is being processed, ./data_Immigration/cdnpoli/tweets2/Ee2-GM_X0AE7b4T.jpg\n",
      "14673/14678 is being processed, ./data_Immigration/cdnpoli/tweets2/Ee3ZZ8lWsAAgIcX.jpg\n",
      "14674/14678 is being processed, ./data_Immigration/cdnpoli/tweets2/Ee3RIs7X0AMqZzO.jpg\n",
      "14675/14678 is being processed, ./data_Immigration/cdnpoli/tweets2/Ee3aEgjUEAEBMWv.jpg\n",
      "14676/14678 is being processed, ./data_Immigration/cdnpoli/tweets2/Ee3DYJYWsAUG044.jpg\n",
      "14677/14678 is being processed, ./data_Immigration/cdnpoli/tweets2/Ee3C-eJX0AArHwj.jpg\n",
      "14678/14678 is being processed, ./data_Immigration/cdnpoli/tweets2/Ee3FYo8UcAE_18B.jpg\n"
     ]
    }
   ],
   "source": [
    "from remove_duplicates import duplicate_detector\n",
    "no_duplicate_paths = duplicate_detector(image_paths)"
   ]
  },
  {
   "cell_type": "code",
   "execution_count": 5,
   "metadata": {},
   "outputs": [
    {
     "output_type": "execute_result",
     "data": {
      "text/plain": [
       "               hashtag             tweet_id  \\\n",
       "0      Antiimmigration  1300061500023898112   \n",
       "1      Antiimmigration  1300063612338348034   \n",
       "2      Antiimmigration  1300068611994853377   \n",
       "3      Antiimmigration  1300062894328090624   \n",
       "4      Antiimmigration  1300067744419905537   \n",
       "...                ...                  ...   \n",
       "12113          cdnpoli  1291918630075146247   \n",
       "12114          cdnpoli  1291928445157388288   \n",
       "12115          cdnpoli  1291903493075238913   \n",
       "12116          cdnpoli  1291903059120074754   \n",
       "12117          cdnpoli  1291905776907296768   \n",
       "\n",
       "                                              image_path  \\\n",
       "0      ./data_Immigration/Antiimmigration/tweets5/Egq...   \n",
       "1      ./data_Immigration/Antiimmigration/tweets5/Egr...   \n",
       "2      ./data_Immigration/Antiimmigration/tweets5/Egr...   \n",
       "3      ./data_Immigration/Antiimmigration/tweets5/Egr...   \n",
       "4      ./data_Immigration/Antiimmigration/tweets5/Egr...   \n",
       "...                                                  ...   \n",
       "12113  ./data_Immigration/cdnpoli/tweets2/Ee3RIs7X0AM...   \n",
       "12114  ./data_Immigration/cdnpoli/tweets2/Ee3aEgjUEAE...   \n",
       "12115  ./data_Immigration/cdnpoli/tweets2/Ee3DYJYWsAU...   \n",
       "12116  ./data_Immigration/cdnpoli/tweets2/Ee3C-eJX0AA...   \n",
       "12117  ./data_Immigration/cdnpoli/tweets2/Ee3FYo8UcAE...   \n",
       "\n",
       "                                               body_text  \n",
       "0      Editorial cartoon by Dave Granlund\\n#Sexism #R...  \n",
       "1      Editorial cartoon by Drew Sheneman\\n#Sexism #R...  \n",
       "2      Editorial cartoon by Mike Luckovich\\n#Sexism #...  \n",
       "3      Editorial cartoon by Bill Bramhall\\n#Sexism #R...  \n",
       "4      Editorial cartoon by David Horsey\\n#Sexism #Ra...  \n",
       "...                                                  ...  \n",
       "12113  This has been the case for quite some time. Bu...  \n",
       "12114  @ReutersScience Come on now.🙄\\nLiterally EVERY...  \n",
       "12115  We’re launching the CFCP, #canada’s only democ...  \n",
       "12116  @CBCPolitics Does your propaganda organization...  \n",
       "12117  @JonDziadyk @CityofEdmonton #cdnpoli #abpoli F...  \n",
       "\n",
       "[12118 rows x 4 columns]"
      ],
      "text/html": "<div>\n<style scoped>\n    .dataframe tbody tr th:only-of-type {\n        vertical-align: middle;\n    }\n\n    .dataframe tbody tr th {\n        vertical-align: top;\n    }\n\n    .dataframe thead th {\n        text-align: right;\n    }\n</style>\n<table border=\"1\" class=\"dataframe\">\n  <thead>\n    <tr style=\"text-align: right;\">\n      <th></th>\n      <th>hashtag</th>\n      <th>tweet_id</th>\n      <th>image_path</th>\n      <th>body_text</th>\n    </tr>\n  </thead>\n  <tbody>\n    <tr>\n      <th>0</th>\n      <td>Antiimmigration</td>\n      <td>1300061500023898112</td>\n      <td>./data_Immigration/Antiimmigration/tweets5/Egq...</td>\n      <td>Editorial cartoon by Dave Granlund\\n#Sexism #R...</td>\n    </tr>\n    <tr>\n      <th>1</th>\n      <td>Antiimmigration</td>\n      <td>1300063612338348034</td>\n      <td>./data_Immigration/Antiimmigration/tweets5/Egr...</td>\n      <td>Editorial cartoon by Drew Sheneman\\n#Sexism #R...</td>\n    </tr>\n    <tr>\n      <th>2</th>\n      <td>Antiimmigration</td>\n      <td>1300068611994853377</td>\n      <td>./data_Immigration/Antiimmigration/tweets5/Egr...</td>\n      <td>Editorial cartoon by Mike Luckovich\\n#Sexism #...</td>\n    </tr>\n    <tr>\n      <th>3</th>\n      <td>Antiimmigration</td>\n      <td>1300062894328090624</td>\n      <td>./data_Immigration/Antiimmigration/tweets5/Egr...</td>\n      <td>Editorial cartoon by Bill Bramhall\\n#Sexism #R...</td>\n    </tr>\n    <tr>\n      <th>4</th>\n      <td>Antiimmigration</td>\n      <td>1300067744419905537</td>\n      <td>./data_Immigration/Antiimmigration/tweets5/Egr...</td>\n      <td>Editorial cartoon by David Horsey\\n#Sexism #Ra...</td>\n    </tr>\n    <tr>\n      <th>...</th>\n      <td>...</td>\n      <td>...</td>\n      <td>...</td>\n      <td>...</td>\n    </tr>\n    <tr>\n      <th>12113</th>\n      <td>cdnpoli</td>\n      <td>1291918630075146247</td>\n      <td>./data_Immigration/cdnpoli/tweets2/Ee3RIs7X0AM...</td>\n      <td>This has been the case for quite some time. Bu...</td>\n    </tr>\n    <tr>\n      <th>12114</th>\n      <td>cdnpoli</td>\n      <td>1291928445157388288</td>\n      <td>./data_Immigration/cdnpoli/tweets2/Ee3aEgjUEAE...</td>\n      <td>@ReutersScience Come on now.🙄\\nLiterally EVERY...</td>\n    </tr>\n    <tr>\n      <th>12115</th>\n      <td>cdnpoli</td>\n      <td>1291903493075238913</td>\n      <td>./data_Immigration/cdnpoli/tweets2/Ee3DYJYWsAU...</td>\n      <td>We’re launching the CFCP, #canada’s only democ...</td>\n    </tr>\n    <tr>\n      <th>12116</th>\n      <td>cdnpoli</td>\n      <td>1291903059120074754</td>\n      <td>./data_Immigration/cdnpoli/tweets2/Ee3C-eJX0AA...</td>\n      <td>@CBCPolitics Does your propaganda organization...</td>\n    </tr>\n    <tr>\n      <th>12117</th>\n      <td>cdnpoli</td>\n      <td>1291905776907296768</td>\n      <td>./data_Immigration/cdnpoli/tweets2/Ee3FYo8UcAE...</td>\n      <td>@JonDziadyk @CityofEdmonton #cdnpoli #abpoli F...</td>\n    </tr>\n  </tbody>\n</table>\n<p>12118 rows × 4 columns</p>\n</div>"
     },
     "metadata": {},
     "execution_count": 5
    }
   ],
   "source": [
    "tqdm.pandas()\n",
    "cleaned_data['no_dups'] = cleaned_data['image_path'].apply(lambda x:1 if x in no_duplicate_paths else 0)\n",
    "df_csv_cleaned = cleaned_data[cleaned_data.no_dups.eq(1)]\n",
    "df_csv_cleaned.drop(columns=['no_dups'], inplace=True)\n",
    "df_csv_cleaned.reset_index(drop=True, inplace=True)\n",
    "\n",
    "df_csv_cleaned"
   ]
  },
  {
   "cell_type": "code",
   "execution_count": 6,
   "metadata": {},
   "outputs": [],
   "source": [
    "result_cleaned_path = './csv_data/data_' + topic_name + '_cleaned_nodups.csv'\n",
    "df_csv_cleaned.to_csv(result_cleaned_path)"
   ]
  },
  {
   "cell_type": "code",
   "execution_count": 7,
   "metadata": {},
   "outputs": [
    {
     "output_type": "execute_result",
     "data": {
      "text/plain": [
       "cdnpoli             6563\n",
       "immigration         1895\n",
       "americafirst        1373\n",
       "refugees            1018\n",
       "liberals             570\n",
       "buildthewall         532\n",
       "multiculturalism      47\n",
       "illegalaliens         35\n",
       "MuslimBan             28\n",
       "stoptheinvasion       14\n",
       "deport                13\n",
       "banislam              11\n",
       "Antiimmigration       11\n",
       "deportthemall          5\n",
       "NoBanNoWall            3\n",
       "Name: hashtag, dtype: int64"
      ]
     },
     "metadata": {},
     "execution_count": 7
    }
   ],
   "source": [
    "df_csv_cleaned['hashtag'].value_counts()"
   ]
  },
  {
   "source": [
    "### Filter out images with no objects"
   ],
   "cell_type": "markdown",
   "metadata": {}
  },
  {
   "cell_type": "code",
   "execution_count": 3,
   "metadata": {},
   "outputs": [],
   "source": [
    "csv_path = './csv_data/data_' + topic_name + '_cleaned_nodups.csv'\n",
    "df_read = pd.read_csv(csv_path, index_col=0)"
   ]
  },
  {
   "cell_type": "code",
   "execution_count": 4,
   "metadata": {
    "tags": []
   },
   "outputs": [
    {
     "output_type": "stream",
     "name": "stdout",
     "text": [
      "[INFO]  Loading YOLO from disk...\n",
      "  0%|          | 2/4378 [00:01<49:42,  1.47it/s]0 - ./data_Vaccine/vaccinesSaveLives/tweets5/Egs1WbeWoAUOgJU.jpg\n",
      "  0%|          | 3/4378 [00:02<1:00:41,  1.20it/s]0 - ./data_Vaccine/vaccinesSaveLives/tweets5/EgsugpNWkAAtUNB.png\n",
      "  0%|          | 4/4378 [00:03<1:07:04,  1.09it/s]cell phone - ./data_Vaccine/vaccinesSaveLives/tweets5/EgkeT55U4AAcE4w.jpg\n",
      "  0%|          | 5/4378 [00:04<1:10:32,  1.03it/s]0 - ./data_Vaccine/vaccinesSaveLives/tweets5/EgpN0dKU8AEQItZ.jpg\n",
      "  0%|          | 6/4378 [00:05<1:13:20,  1.01s/it]person - ./data_Vaccine/vaccinesSaveLives/tweets1/EeuRd-1XkAALBYu.jpg\n",
      "  0%|          | 7/4378 [00:06<1:14:40,  1.03s/it]0 - ./data_Vaccine/vaccinesSaveLives/tweets1/EehrjnsXgAo4S4R.jpg\n",
      "  0%|          | 8/4378 [00:07<1:15:23,  1.04s/it]0 - ./data_Vaccine/vaccinesSaveLives/tweets1/EeZPTj8XYAAnSsr.png\n",
      "  0%|          | 9/4378 [00:08<1:16:10,  1.05s/it]person - ./data_Vaccine/vaccinesSaveLives/tweets1/EegwSloVAAc4q-x.jpg\n",
      "  0%|          | 10/4378 [00:09<1:15:57,  1.04s/it]0 - ./data_Vaccine/vaccinesSaveLives/tweets1/EegTA9nXoAAocMd.png\n",
      "  0%|          | 11/4378 [00:11<1:18:30,  1.08s/it]person - ./data_Vaccine/vaccinesSaveLives/tweets1/EeumBlyXYAA8jzp.png\n",
      "  0%|          | 12/4378 [00:12<1:23:16,  1.14s/it]person - ./data_Vaccine/vaccinesSaveLives/tweets1/EeqFeGRXkAImuac.png\n",
      "  0%|          | 13/4378 [00:14<1:43:55,  1.43s/it]person - ./data_Vaccine/vaccinesSaveLives/tweets1/EelqUYBWkAAtPEa.jpg\n",
      "  0%|          | 14/4378 [00:15<1:43:18,  1.42s/it]0 - ./data_Vaccine/vaccinesSaveLives/tweets1/Eegf5QRXsAE3rIT.jpg\n",
      "  0%|          | 15/4378 [00:16<1:36:51,  1.33s/it]0 - ./data_Vaccine/vaccinesSaveLives/tweets1/EebEf18WoAAuZe9.jpg\n",
      "  0%|          | 16/4378 [00:18<1:35:18,  1.31s/it]0 - ./data_Vaccine/vaccinesSaveLives/tweets1/EegjkJqXoAEDjWQ.png\n",
      "  0%|          | 17/4378 [00:19<1:31:19,  1.26s/it]0 - ./data_Vaccine/vaccinesSaveLives/tweets1/EeUNEmOU4AE4sw3.png\n",
      "  0%|          | 18/4378 [00:20<1:26:34,  1.19s/it]chair - ./data_Vaccine/vaccinesSaveLives/tweets1/Eeu2r2bX0AAEln3.jpg\n",
      "  0%|          | 19/4378 [00:21<1:23:06,  1.14s/it]person - ./data_Vaccine/vaccinesSaveLives/tweets1/EeggsGqWsAAP6wP.jpg\n",
      "  0%|          | 20/4378 [00:22<1:21:09,  1.12s/it]person - ./data_Vaccine/vaccinesSaveLives/tweets4/EgJp5vsUwAA9-NE.jpg\n",
      "  0%|          | 21/4378 [00:23<1:20:32,  1.11s/it]person - ./data_Vaccine/vaccinesSaveLives/tweets4/Egbe8uZVAAAY4Dm.jpg\n",
      "  1%|          | 22/4378 [00:24<1:19:54,  1.10s/it]tie - ./data_Vaccine/vaccinesSaveLives/tweets4/EgW4kh5XgAkHccX.jpg\n",
      "  1%|          | 23/4378 [00:25<1:18:52,  1.09s/it]person - ./data_Vaccine/vaccinesSaveLives/tweets4/EgDMZ1eUcAApzX6.jpg\n",
      "  1%|          | 24/4378 [00:26<1:18:38,  1.08s/it]0 - ./data_Vaccine/vaccinesSaveLives/tweets4/EgXzF9tUwAAdJ49.jpg\n",
      "  1%|          | 25/4378 [00:27<1:20:54,  1.12s/it]person - ./data_Vaccine/vaccinesSaveLives/tweets4/EgdmhlTWoAEgyUa.jpg\n",
      "  1%|          | 26/4378 [00:29<1:21:06,  1.12s/it]laptop - ./data_Vaccine/vaccinesSaveLives/tweets4/EgTBnGTXYAAtJu3.jpg\n",
      "  1%|          | 27/4378 [00:30<1:21:51,  1.13s/it]0 - ./data_Vaccine/vaccinesSaveLives/tweets4/EgFeuMuU8AY0jrZ.jpg\n",
      "  1%|          | 28/4378 [00:31<1:22:31,  1.14s/it]person - ./data_Vaccine/vaccinesSaveLives/tweets4/EgY8OqpUcAIQaan.png\n",
      "  1%|          | 29/4378 [00:32<1:26:09,  1.19s/it]0 - ./data_Vaccine/vaccinesSaveLives/tweets4/EgMl27sWsAQxWBT.jpg\n",
      "  1%|          | 30/4378 [00:34<1:31:50,  1.27s/it]0 - ./data_Vaccine/vaccinesSaveLives/tweets4/EgY8QrxWAAA54XQ.png\n",
      "  1%|          | 31/4378 [00:35<1:27:43,  1.21s/it]0 - ./data_Vaccine/vaccinesSaveLives/tweets4/EgdYszBWAAA1KE5.jpg\n",
      "  1%|          | 32/4378 [00:36<1:25:39,  1.18s/it]0 - ./data_Vaccine/vaccinesSaveLives/tweets4/EgVTcw9UYAAeacg.jpg\n",
      "  1%|          | 33/4378 [00:37<1:22:11,  1.14s/it]0 - ./data_Vaccine/vaccinesSaveLives/tweets4/EgAZ2SjU8AAnmO-.jpg\n",
      "  1%|          | 34/4378 [00:38<1:20:32,  1.11s/it]person - ./data_Vaccine/vaccinesSaveLives/tweets4/EgbcnoiX0AIdpQg.jpg\n",
      "  1%|          | 35/4378 [00:39<1:18:46,  1.09s/it]0 - ./data_Vaccine/vaccinesSaveLives/tweets4/EgS7b2EUcAErgsb.jpg\n",
      "  1%|          | 36/4378 [00:40<1:17:32,  1.07s/it]tie - ./data_Vaccine/vaccinesSaveLives/tweets4/EgXCl2tXYAAkDdZ.jpg\n",
      "  1%|          | 37/4378 [00:41<1:16:56,  1.06s/it]person - ./data_Vaccine/vaccinesSaveLives/tweets4/EgH_ai-XsAAoPq3.jpg\n",
      "  1%|          | 38/4378 [00:42<1:19:35,  1.10s/it]person - ./data_Vaccine/vaccinesSaveLives/tweets4/EgYBigmWoAIis7z.jpg\n",
      "  1%|          | 39/4378 [00:43<1:22:09,  1.14s/it]person - ./data_Vaccine/vaccinesSaveLives/tweets4/Ef_IFuCU0AEbbwD.jpg\n",
      "  1%|          | 40/4378 [00:44<1:19:32,  1.10s/it]0 - ./data_Vaccine/vaccinesSaveLives/tweets4/Ef_zvnPUcAEkaMd.jpg\n",
      "  1%|          | 41/4378 [00:46<1:22:58,  1.15s/it]person - ./data_Vaccine/vaccinesSaveLives/tweets4/EgbddhjWsAEuASk.jpg\n",
      "  1%|          | 42/4378 [00:47<1:25:56,  1.19s/it]person - ./data_Vaccine/vaccinesSaveLives/tweets4/Ef_BM5bUcAAhiEi.jpg\n",
      "  1%|          | 43/4378 [00:48<1:25:58,  1.19s/it]person - ./data_Vaccine/vaccinesSaveLives/tweets4/EgCSdBxWkAA8Xfh.jpg\n",
      "  1%|          | 44/4378 [00:49<1:26:54,  1.20s/it]bottle - ./data_Vaccine/vaccinesSaveLives/tweets4/EgOCrY_WoAE5Jbw.jpg\n",
      "  1%|          | 45/4378 [00:51<1:27:52,  1.22s/it]person - ./data_Vaccine/vaccinesSaveLives/tweets3/EfdzbMEUcAc7hPD.jpg\n",
      "  1%|          | 46/4378 [00:52<1:31:04,  1.26s/it]0 - ./data_Vaccine/vaccinesSaveLives/tweets3/EfhYEKHX0AAHwJH.jpg\n",
      "  1%|          | 47/4378 [00:53<1:33:07,  1.29s/it]person - ./data_Vaccine/vaccinesSaveLives/tweets3/EftYSy8WsAAa2zk.jpg\n",
      "  1%|          | 48/4378 [00:55<1:35:57,  1.33s/it]laptop - ./data_Vaccine/vaccinesSaveLives/tweets3/EfhEf4rUMAAziBV.jpg\n",
      "  1%|          | 49/4378 [00:56<1:31:01,  1.26s/it]bottle - ./data_Vaccine/vaccinesSaveLives/tweets3/Efc567PUYAk5axt.jpg\n",
      "  1%|          | 50/4378 [00:57<1:27:34,  1.21s/it]0 - ./data_Vaccine/vaccinesSaveLives/tweets3/EftWsb-XsAExp8b.jpg\n",
      "  1%|          | 51/4378 [00:59<1:34:10,  1.31s/it]0 - ./data_Vaccine/vaccinesSaveLives/tweets3/EfeiMBfUMAA6A_3.jpg\n",
      "  1%|          | 52/4378 [01:00<1:36:02,  1.33s/it]person - ./data_Vaccine/vaccinesSaveLives/tweets3/Efo0IS7VAAAqpyt.jpg\n",
      "  1%|          | 53/4378 [01:01<1:37:17,  1.35s/it]0 - ./data_Vaccine/vaccinesSaveLives/tweets3/Efyn6fJXYAA66lz.png\n",
      "  1%|          | 54/4378 [01:03<1:40:27,  1.39s/it]0 - ./data_Vaccine/vaccinesSaveLives/tweets3/Ef4bJXGWAAEb2w6.jpg\n",
      "  1%|          | 54/4378 [01:04<1:26:22,  1.20s/it]\n"
     ]
    },
    {
     "output_type": "error",
     "ename": "KeyboardInterrupt",
     "evalue": "",
     "traceback": [
      "\u001b[0;31m---------------------------------------------------------------------------\u001b[0m",
      "\u001b[0;31mKeyboardInterrupt\u001b[0m                         Traceback (most recent call last)",
      "\u001b[0;32m<ipython-input-4-8dd443154fea>\u001b[0m in \u001b[0;36m<module>\u001b[0;34m\u001b[0m\n\u001b[1;32m      4\u001b[0m \u001b[0mdetector\u001b[0m \u001b[0;34m=\u001b[0m \u001b[0mObjectDetector\u001b[0m\u001b[0;34m(\u001b[0m\u001b[0;34m)\u001b[0m\u001b[0;34m\u001b[0m\u001b[0;34m\u001b[0m\u001b[0m\n\u001b[1;32m      5\u001b[0m \u001b[0;34m\u001b[0m\u001b[0m\n\u001b[0;32m----> 6\u001b[0;31m \u001b[0mdf_read\u001b[0m\u001b[0;34m[\u001b[0m\u001b[0;34m'has_object'\u001b[0m\u001b[0;34m]\u001b[0m \u001b[0;34m=\u001b[0m \u001b[0mdf_read\u001b[0m\u001b[0;34m[\u001b[0m\u001b[0;34m'image_path'\u001b[0m\u001b[0;34m]\u001b[0m\u001b[0;34m.\u001b[0m\u001b[0mprogress_apply\u001b[0m\u001b[0;34m(\u001b[0m\u001b[0mdetector\u001b[0m\u001b[0;34m.\u001b[0m\u001b[0mdetect_object\u001b[0m\u001b[0;34m)\u001b[0m\u001b[0;34m\u001b[0m\u001b[0;34m\u001b[0m\u001b[0m\n\u001b[0m\u001b[1;32m      7\u001b[0m \u001b[0;34m\u001b[0m\u001b[0m\n\u001b[1;32m      8\u001b[0m \u001b[0mdf_read\u001b[0m\u001b[0;34m\u001b[0m\u001b[0;34m\u001b[0m\u001b[0m\n",
      "\u001b[0;32m~/anaconda3/envs/tweets/lib/python3.9/site-packages/tqdm/std.py\u001b[0m in \u001b[0;36minner\u001b[0;34m(df, func, *args, **kwargs)\u001b[0m\n\u001b[1;32m    808\u001b[0m                 \u001b[0;31m# on the df using our wrapper (which provides bar updating)\u001b[0m\u001b[0;34m\u001b[0m\u001b[0;34m\u001b[0m\u001b[0;34m\u001b[0m\u001b[0m\n\u001b[1;32m    809\u001b[0m                 \u001b[0;32mtry\u001b[0m\u001b[0;34m:\u001b[0m\u001b[0;34m\u001b[0m\u001b[0;34m\u001b[0m\u001b[0m\n\u001b[0;32m--> 810\u001b[0;31m                     \u001b[0;32mreturn\u001b[0m \u001b[0mgetattr\u001b[0m\u001b[0;34m(\u001b[0m\u001b[0mdf\u001b[0m\u001b[0;34m,\u001b[0m \u001b[0mdf_function\u001b[0m\u001b[0;34m)\u001b[0m\u001b[0;34m(\u001b[0m\u001b[0mwrapper\u001b[0m\u001b[0;34m,\u001b[0m \u001b[0;34m**\u001b[0m\u001b[0mkwargs\u001b[0m\u001b[0;34m)\u001b[0m\u001b[0;34m\u001b[0m\u001b[0;34m\u001b[0m\u001b[0m\n\u001b[0m\u001b[1;32m    811\u001b[0m                 \u001b[0;32mfinally\u001b[0m\u001b[0;34m:\u001b[0m\u001b[0;34m\u001b[0m\u001b[0;34m\u001b[0m\u001b[0m\n\u001b[1;32m    812\u001b[0m                     \u001b[0mt\u001b[0m\u001b[0;34m.\u001b[0m\u001b[0mclose\u001b[0m\u001b[0;34m(\u001b[0m\u001b[0;34m)\u001b[0m\u001b[0;34m\u001b[0m\u001b[0;34m\u001b[0m\u001b[0m\n",
      "\u001b[0;32m~/anaconda3/envs/tweets/lib/python3.9/site-packages/pandas/core/series.py\u001b[0m in \u001b[0;36mapply\u001b[0;34m(self, func, convert_dtype, args, **kwds)\u001b[0m\n\u001b[1;32m   4136\u001b[0m             \u001b[0;32melse\u001b[0m\u001b[0;34m:\u001b[0m\u001b[0;34m\u001b[0m\u001b[0;34m\u001b[0m\u001b[0m\n\u001b[1;32m   4137\u001b[0m                 \u001b[0mvalues\u001b[0m \u001b[0;34m=\u001b[0m \u001b[0mself\u001b[0m\u001b[0;34m.\u001b[0m\u001b[0mastype\u001b[0m\u001b[0;34m(\u001b[0m\u001b[0mobject\u001b[0m\u001b[0;34m)\u001b[0m\u001b[0;34m.\u001b[0m\u001b[0m_values\u001b[0m\u001b[0;34m\u001b[0m\u001b[0;34m\u001b[0m\u001b[0m\n\u001b[0;32m-> 4138\u001b[0;31m                 \u001b[0mmapped\u001b[0m \u001b[0;34m=\u001b[0m \u001b[0mlib\u001b[0m\u001b[0;34m.\u001b[0m\u001b[0mmap_infer\u001b[0m\u001b[0;34m(\u001b[0m\u001b[0mvalues\u001b[0m\u001b[0;34m,\u001b[0m \u001b[0mf\u001b[0m\u001b[0;34m,\u001b[0m \u001b[0mconvert\u001b[0m\u001b[0;34m=\u001b[0m\u001b[0mconvert_dtype\u001b[0m\u001b[0;34m)\u001b[0m\u001b[0;34m\u001b[0m\u001b[0;34m\u001b[0m\u001b[0m\n\u001b[0m\u001b[1;32m   4139\u001b[0m \u001b[0;34m\u001b[0m\u001b[0m\n\u001b[1;32m   4140\u001b[0m         \u001b[0;32mif\u001b[0m \u001b[0mlen\u001b[0m\u001b[0;34m(\u001b[0m\u001b[0mmapped\u001b[0m\u001b[0;34m)\u001b[0m \u001b[0;32mand\u001b[0m \u001b[0misinstance\u001b[0m\u001b[0;34m(\u001b[0m\u001b[0mmapped\u001b[0m\u001b[0;34m[\u001b[0m\u001b[0;36m0\u001b[0m\u001b[0;34m]\u001b[0m\u001b[0;34m,\u001b[0m \u001b[0mSeries\u001b[0m\u001b[0;34m)\u001b[0m\u001b[0;34m:\u001b[0m\u001b[0;34m\u001b[0m\u001b[0;34m\u001b[0m\u001b[0m\n",
      "\u001b[0;32mpandas/_libs/lib.pyx\u001b[0m in \u001b[0;36mpandas._libs.lib.map_infer\u001b[0;34m()\u001b[0m\n",
      "\u001b[0;32m~/anaconda3/envs/tweets/lib/python3.9/site-packages/tqdm/std.py\u001b[0m in \u001b[0;36mwrapper\u001b[0;34m(*args, **kwargs)\u001b[0m\n\u001b[1;32m    803\u001b[0m                     \u001b[0;31m# take a fast or slow code path; so stop when t.total==t.n\u001b[0m\u001b[0;34m\u001b[0m\u001b[0;34m\u001b[0m\u001b[0;34m\u001b[0m\u001b[0m\n\u001b[1;32m    804\u001b[0m                     \u001b[0mt\u001b[0m\u001b[0;34m.\u001b[0m\u001b[0mupdate\u001b[0m\u001b[0;34m(\u001b[0m\u001b[0mn\u001b[0m\u001b[0;34m=\u001b[0m\u001b[0;36m1\u001b[0m \u001b[0;32mif\u001b[0m \u001b[0;32mnot\u001b[0m \u001b[0mt\u001b[0m\u001b[0;34m.\u001b[0m\u001b[0mtotal\u001b[0m \u001b[0;32mor\u001b[0m \u001b[0mt\u001b[0m\u001b[0;34m.\u001b[0m\u001b[0mn\u001b[0m \u001b[0;34m<\u001b[0m \u001b[0mt\u001b[0m\u001b[0;34m.\u001b[0m\u001b[0mtotal\u001b[0m \u001b[0;32melse\u001b[0m \u001b[0;36m0\u001b[0m\u001b[0;34m)\u001b[0m\u001b[0;34m\u001b[0m\u001b[0;34m\u001b[0m\u001b[0m\n\u001b[0;32m--> 805\u001b[0;31m                     \u001b[0;32mreturn\u001b[0m \u001b[0mfunc\u001b[0m\u001b[0;34m(\u001b[0m\u001b[0;34m*\u001b[0m\u001b[0margs\u001b[0m\u001b[0;34m,\u001b[0m \u001b[0;34m**\u001b[0m\u001b[0mkwargs\u001b[0m\u001b[0;34m)\u001b[0m\u001b[0;34m\u001b[0m\u001b[0;34m\u001b[0m\u001b[0m\n\u001b[0m\u001b[1;32m    806\u001b[0m \u001b[0;34m\u001b[0m\u001b[0m\n\u001b[1;32m    807\u001b[0m                 \u001b[0;31m# Apply the provided function (in **kwargs)\u001b[0m\u001b[0;34m\u001b[0m\u001b[0;34m\u001b[0m\u001b[0;34m\u001b[0m\u001b[0m\n",
      "\u001b[0;32m~/Desktop/tweets_scrape/yolo_object_detector.py\u001b[0m in \u001b[0;36mdetect_object\u001b[0;34m(self, path)\u001b[0m\n\u001b[1;32m     44\u001b[0m         \u001b[0mblob\u001b[0m \u001b[0;34m=\u001b[0m \u001b[0mcv2\u001b[0m\u001b[0;34m.\u001b[0m\u001b[0mdnn\u001b[0m\u001b[0;34m.\u001b[0m\u001b[0mblobFromImage\u001b[0m\u001b[0;34m(\u001b[0m\u001b[0mimg\u001b[0m\u001b[0;34m,\u001b[0m \u001b[0;36m1\u001b[0m \u001b[0;34m/\u001b[0m \u001b[0;36m255.0\u001b[0m\u001b[0;34m,\u001b[0m \u001b[0;34m(\u001b[0m\u001b[0;36m416\u001b[0m\u001b[0;34m,\u001b[0m \u001b[0;36m416\u001b[0m\u001b[0;34m)\u001b[0m\u001b[0;34m,\u001b[0m \u001b[0mswapRB\u001b[0m\u001b[0;34m=\u001b[0m\u001b[0;32mTrue\u001b[0m\u001b[0;34m,\u001b[0m \u001b[0mcrop\u001b[0m\u001b[0;34m=\u001b[0m\u001b[0;32mFalse\u001b[0m\u001b[0;34m)\u001b[0m\u001b[0;34m\u001b[0m\u001b[0;34m\u001b[0m\u001b[0m\n\u001b[1;32m     45\u001b[0m         \u001b[0mself\u001b[0m\u001b[0;34m.\u001b[0m\u001b[0mnet\u001b[0m\u001b[0;34m.\u001b[0m\u001b[0msetInput\u001b[0m\u001b[0;34m(\u001b[0m\u001b[0mblob\u001b[0m\u001b[0;34m)\u001b[0m\u001b[0;34m\u001b[0m\u001b[0;34m\u001b[0m\u001b[0m\n\u001b[0;32m---> 46\u001b[0;31m         \u001b[0mlayerOutputs\u001b[0m \u001b[0;34m=\u001b[0m \u001b[0mself\u001b[0m\u001b[0;34m.\u001b[0m\u001b[0mnet\u001b[0m\u001b[0;34m.\u001b[0m\u001b[0mforward\u001b[0m\u001b[0;34m(\u001b[0m\u001b[0mself\u001b[0m\u001b[0;34m.\u001b[0m\u001b[0mln\u001b[0m\u001b[0;34m)\u001b[0m\u001b[0;34m\u001b[0m\u001b[0;34m\u001b[0m\u001b[0m\n\u001b[0m\u001b[1;32m     47\u001b[0m \u001b[0;34m\u001b[0m\u001b[0m\n\u001b[1;32m     48\u001b[0m         \u001b[0mmax_confidence\u001b[0m \u001b[0;34m=\u001b[0m \u001b[0;36m0\u001b[0m\u001b[0;34m\u001b[0m\u001b[0;34m\u001b[0m\u001b[0m\n",
      "\u001b[0;31mKeyboardInterrupt\u001b[0m: "
     ]
    }
   ],
   "source": [
    "from yolo_object_detector import ObjectDetector\n",
    "\n",
    "tqdm.pandas()\n",
    "detector = ObjectDetector()\n",
    "\n",
    "df_read['has_object'] = df_read['image_path'].progress_apply(detector.detect_object)\n",
    "\n",
    "df_read"
   ]
  },
  {
   "cell_type": "code",
   "execution_count": null,
   "metadata": {},
   "outputs": [],
   "source": []
  }
 ],
 "metadata": {
  "kernelspec": {
   "name": "python392jvsc74a57bd0cd1f5da85199302314bd73b2bb6f21c64cad1b4f001173fa3ddb4057b62cb3fe",
   "display_name": "Python 3.9.2 64-bit ('tweets': conda)"
  },
  "language_info": {
   "codemirror_mode": {
    "name": "ipython",
    "version": 3
   },
   "file_extension": ".py",
   "mimetype": "text/x-python",
   "name": "python",
   "nbconvert_exporter": "python",
   "pygments_lexer": "ipython3",
   "version": "3.9.2"
  },
  "metadata": {
   "interpreter": {
    "hash": "cd1f5da85199302314bd73b2bb6f21c64cad1b4f001173fa3ddb4057b62cb3fe"
   }
  }
 },
 "nbformat": 4,
 "nbformat_minor": 2
}