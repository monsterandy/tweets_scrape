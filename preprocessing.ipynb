{
 "metadata": {
  "language_info": {
   "codemirror_mode": {
    "name": "ipython",
    "version": 3
   },
   "file_extension": ".py",
   "mimetype": "text/x-python",
   "name": "python",
   "nbconvert_exporter": "python",
   "pygments_lexer": "ipython3",
   "version": "3.9.2"
  },
  "orig_nbformat": 2,
  "kernelspec": {
   "name": "python392jvsc74a57bd0cd1f5da85199302314bd73b2bb6f21c64cad1b4f001173fa3ddb4057b62cb3fe",
   "display_name": "Python 3.9.2 64-bit ('tweets': conda)"
  },
  "metadata": {
   "interpreter": {
    "hash": "cd1f5da85199302314bd73b2bb6f21c64cad1b4f001173fa3ddb4057b62cb3fe"
   }
  }
 },
 "nbformat": 4,
 "nbformat_minor": 2,
 "cells": [
  {
   "cell_type": "code",
   "execution_count": 1,
   "metadata": {},
   "outputs": [],
   "source": [
    "# specify the topic name here\n",
    "topic_name = 'Vaccine'\n",
    "\n",
    "# entry folder for the data\n",
    "# should be the form of 'data_{topic_name}/'\n",
    "entry_folder = 'data_Vaccine/'"
   ]
  },
  {
   "cell_type": "code",
   "execution_count": 2,
   "metadata": {},
   "outputs": [],
   "source": [
    "import os\n",
    "import glob\n",
    "import pandas as pd\n",
    "from tqdm import tqdm\n",
    "\n",
    "pd.options.mode.chained_assignment = None  # default='warn'"
   ]
  },
  {
   "cell_type": "code",
   "execution_count": 3,
   "metadata": {},
   "outputs": [],
   "source": [
    "def get_image_path(image_url, csv_path):\n",
    "    image_name = image_url.split('/')[-1]\n",
    "    image_path = './' + csv_path[:-4] + '/' + image_name\n",
    "    return image_path"
   ]
  },
  {
   "cell_type": "code",
   "execution_count": 4,
   "metadata": {},
   "outputs": [
    {
     "output_type": "stream",
     "name": "stdout",
     "text": [
      "   BillGatesBioTerrorist:   160\n",
      " covidvaccinesideeffects:     0\n",
      "       vaccinesSaveLives:   133\n",
      "                Convid19:    38\n",
      "            covidvaccine:  1033\n",
      "      CoronavirusVaccine:  1793\n",
      "     FauciLiedPeopleDied:    80\n",
      "             antivaxxers:    51\n",
      "             akeUpWiseUp:     0\n",
      "            VaccinesWork:   806\n",
      "               CovidHoax:   844\n",
      "           scamdemic2020:   206\n",
      "            depopulation:    75\n",
      "           GetVaccinated:    82\n",
      "               FireFauci:   203\n",
      "           CovidVaxFacts:     0\n",
      "          COVID19Vaccine:   597\n",
      "           FauciTheFraud:   303\n",
      "         billgatesofhell:     8\n",
      "          VaccineFreedom:    17\n",
      "Topic: Vaccine - Total tweets:  6429\n"
     ]
    }
   ],
   "source": [
    "df_csv = pd.DataFrame(columns=['hashtag', 'tweet_id', 'image_path', 'body_text'])\n",
    "df_csv['tweet_id'] = df_csv['tweet_id'].astype('int64')\n",
    "\n",
    "entries = os.listdir(entry_folder)\n",
    "for hashtag in entries:\n",
    "    if hashtag.startswith('.'): continue\n",
    "    list_files = glob.glob(entry_folder + hashtag + '/*.csv')\n",
    "    tweets_count = 0\n",
    "    for csv_path in list_files:\n",
    "        # print(csv_path)\n",
    "        temp_df = pd.read_csv(csv_path)\n",
    "        tweets_count += len(temp_df.index)\n",
    "        temp_df.drop(columns=['tweet_url'], inplace=True)\n",
    "        temp_df.rename({'text_data': 'body_text', 'media': 'image_path'}, axis='columns', inplace=True)\n",
    "        temp_df.insert(loc=0, column='hashtag', value=hashtag)\n",
    "        cols = temp_df.columns.tolist()\n",
    "        # before: cols = ['hashtag', 'image_path', 'body_text', 'tweet_id']\n",
    "        cols = cols[:1] + cols[-1:] + cols[1:-1]\n",
    "        temp_df = temp_df[cols]\n",
    "        temp_df['image_path'] = temp_df['image_path'].apply(get_image_path, csv_path=csv_path)\n",
    "        temp_df['tweet_id'] = temp_df['tweet_id'].astype('int64')\n",
    "        df_csv = df_csv.append(temp_df)\n",
    "    print('{:>24s}: {:>5}'.format(hashtag, tweets_count))\n",
    "print('Topic: {} - Total tweets: {:>5}'.format(topic_name, len(df_csv.index)))"
   ]
  },
  {
   "cell_type": "code",
   "execution_count": 5,
   "metadata": {},
   "outputs": [],
   "source": [
    "# remove tweets with invalid image path\n",
    "df_csv['path_is_valid'] = df_csv['image_path'].apply(lambda x: 1 if os.path.isfile(x) else 0)\n",
    "df_csv = df_csv[df_csv.path_is_valid.eq(1)]\n",
    "df_csv.drop(columns=['path_is_valid'], inplace=True)"
   ]
  },
  {
   "cell_type": "code",
   "execution_count": 6,
   "metadata": {},
   "outputs": [
    {
     "output_type": "execute_result",
     "data": {
      "text/plain": [
       "                    hashtag             tweet_id  \\\n",
       "0     BillGatesBioTerrorist  1290588067615649794   \n",
       "1     BillGatesBioTerrorist  1290517935786807297   \n",
       "2     BillGatesBioTerrorist  1290606587581800454   \n",
       "3     BillGatesBioTerrorist  1290251387201138688   \n",
       "4     BillGatesBioTerrorist  1290097574393741313   \n",
       "...                     ...                  ...   \n",
       "6423         VaccineFreedom  1298757369103609856   \n",
       "6424         VaccineFreedom  1300176748223569922   \n",
       "6425         VaccineFreedom  1299904802902736902   \n",
       "6426         VaccineFreedom  1299874675951104001   \n",
       "6427         VaccineFreedom  1299723889656901633   \n",
       "\n",
       "                                             image_path  \\\n",
       "0     ./data_Vaccine/BillGatesBioTerrorist/tweets1/E...   \n",
       "1     ./data_Vaccine/BillGatesBioTerrorist/tweets1/E...   \n",
       "2     ./data_Vaccine/BillGatesBioTerrorist/tweets1/E...   \n",
       "3     ./data_Vaccine/BillGatesBioTerrorist/tweets1/E...   \n",
       "4     ./data_Vaccine/BillGatesBioTerrorist/tweets1/E...   \n",
       "...                                                 ...   \n",
       "6423  ./data_Vaccine/VaccineFreedom/tweets4/EgYc8d2X...   \n",
       "6424  ./data_Vaccine/VaccineFreedom/tweets5/Egsn3M1W...   \n",
       "6425  ./data_Vaccine/VaccineFreedom/tweets5/Egowh4PX...   \n",
       "6426  ./data_Vaccine/VaccineFreedom/tweets5/EgoVISoX...   \n",
       "6427  ./data_Vaccine/VaccineFreedom/tweets5/EgmL_YvX...   \n",
       "\n",
       "                                              body_text  \n",
       "0     Oh Billy boy.. #BillGates #BillGatesIsNotADoct...  \n",
       "1     #Hydroxychloroquine GOOD ..... #BillGates BAD!...  \n",
       "2     Kill Bill has locked his comments aaaaahahahah...  \n",
       "3     People is Berlin wokeup #plandemic #coronaviru...  \n",
       "4     DON'T LIKE WEARING A MASK? GOGGLES, FACE SHIEL...  \n",
       "...                                                 ...  \n",
       "6423  Vaccines Rely on Horseshoe Crab’s Blue Blood f...  \n",
       "6424  Pharmacists, Pharmacy Interns Given Green Ligh...  \n",
       "6425  Flu Vaccination Associated With Increased Vira...  \n",
       "6426  Pharmacists, Pharmacy Interns Given Green Ligh...  \n",
       "6427  Mom Questions Safety of Gardasil - The Vaccine...  \n",
       "\n",
       "[6428 rows x 4 columns]"
      ],
      "text/html": "<div>\n<style scoped>\n    .dataframe tbody tr th:only-of-type {\n        vertical-align: middle;\n    }\n\n    .dataframe tbody tr th {\n        vertical-align: top;\n    }\n\n    .dataframe thead th {\n        text-align: right;\n    }\n</style>\n<table border=\"1\" class=\"dataframe\">\n  <thead>\n    <tr style=\"text-align: right;\">\n      <th></th>\n      <th>hashtag</th>\n      <th>tweet_id</th>\n      <th>image_path</th>\n      <th>body_text</th>\n    </tr>\n  </thead>\n  <tbody>\n    <tr>\n      <th>0</th>\n      <td>BillGatesBioTerrorist</td>\n      <td>1290588067615649794</td>\n      <td>./data_Vaccine/BillGatesBioTerrorist/tweets1/E...</td>\n      <td>Oh Billy boy.. #BillGates #BillGatesIsNotADoct...</td>\n    </tr>\n    <tr>\n      <th>1</th>\n      <td>BillGatesBioTerrorist</td>\n      <td>1290517935786807297</td>\n      <td>./data_Vaccine/BillGatesBioTerrorist/tweets1/E...</td>\n      <td>#Hydroxychloroquine GOOD ..... #BillGates BAD!...</td>\n    </tr>\n    <tr>\n      <th>2</th>\n      <td>BillGatesBioTerrorist</td>\n      <td>1290606587581800454</td>\n      <td>./data_Vaccine/BillGatesBioTerrorist/tweets1/E...</td>\n      <td>Kill Bill has locked his comments aaaaahahahah...</td>\n    </tr>\n    <tr>\n      <th>3</th>\n      <td>BillGatesBioTerrorist</td>\n      <td>1290251387201138688</td>\n      <td>./data_Vaccine/BillGatesBioTerrorist/tweets1/E...</td>\n      <td>People is Berlin wokeup #plandemic #coronaviru...</td>\n    </tr>\n    <tr>\n      <th>4</th>\n      <td>BillGatesBioTerrorist</td>\n      <td>1290097574393741313</td>\n      <td>./data_Vaccine/BillGatesBioTerrorist/tweets1/E...</td>\n      <td>DON'T LIKE WEARING A MASK? GOGGLES, FACE SHIEL...</td>\n    </tr>\n    <tr>\n      <th>...</th>\n      <td>...</td>\n      <td>...</td>\n      <td>...</td>\n      <td>...</td>\n    </tr>\n    <tr>\n      <th>6423</th>\n      <td>VaccineFreedom</td>\n      <td>1298757369103609856</td>\n      <td>./data_Vaccine/VaccineFreedom/tweets4/EgYc8d2X...</td>\n      <td>Vaccines Rely on Horseshoe Crab’s Blue Blood f...</td>\n    </tr>\n    <tr>\n      <th>6424</th>\n      <td>VaccineFreedom</td>\n      <td>1300176748223569922</td>\n      <td>./data_Vaccine/VaccineFreedom/tweets5/Egsn3M1W...</td>\n      <td>Pharmacists, Pharmacy Interns Given Green Ligh...</td>\n    </tr>\n    <tr>\n      <th>6425</th>\n      <td>VaccineFreedom</td>\n      <td>1299904802902736902</td>\n      <td>./data_Vaccine/VaccineFreedom/tweets5/Egowh4PX...</td>\n      <td>Flu Vaccination Associated With Increased Vira...</td>\n    </tr>\n    <tr>\n      <th>6426</th>\n      <td>VaccineFreedom</td>\n      <td>1299874675951104001</td>\n      <td>./data_Vaccine/VaccineFreedom/tweets5/EgoVISoX...</td>\n      <td>Pharmacists, Pharmacy Interns Given Green Ligh...</td>\n    </tr>\n    <tr>\n      <th>6427</th>\n      <td>VaccineFreedom</td>\n      <td>1299723889656901633</td>\n      <td>./data_Vaccine/VaccineFreedom/tweets5/EgmL_YvX...</td>\n      <td>Mom Questions Safety of Gardasil - The Vaccine...</td>\n    </tr>\n  </tbody>\n</table>\n<p>6428 rows × 4 columns</p>\n</div>"
     },
     "metadata": {},
     "execution_count": 6
    }
   ],
   "source": [
    "df_csv.reset_index(drop=True, inplace=True)\n",
    "df_csv"
   ]
  },
  {
   "source": [
    "### Filter out images without text"
   ],
   "cell_type": "markdown",
   "metadata": {}
  },
  {
   "cell_type": "code",
   "execution_count": 7,
   "metadata": {
    "tags": []
   },
   "outputs": [
    {
     "output_type": "stream",
     "name": "stderr",
     "text": [
      "  0%|          | 2/6428 [00:00<29:37,  3.62it/s]1 - ./data_Vaccine/BillGatesBioTerrorist/tweets1/EekXAVSXkAEz5uv.jpg\n",
      "  0%|          | 3/6428 [00:00<28:07,  3.81it/s]1 - ./data_Vaccine/BillGatesBioTerrorist/tweets1/EejWZ10WoAEtdlx.jpg\n",
      "  0%|          | 5/6428 [00:01<26:54,  3.98it/s]1 - ./data_Vaccine/BillGatesBioTerrorist/tweets1/EeknvbuWsAM3R4h.jpg\n",
      "0 - ./data_Vaccine/BillGatesBioTerrorist/tweets1/Eefkyf4X0AA_toe.jpg\n",
      "  0%|          | 6/6428 [00:01<27:52,  3.84it/s]1 - ./data_Vaccine/BillGatesBioTerrorist/tweets1/EedYpoGWAAU1dmE.jpg\n",
      "  0%|          | 7/6428 [00:01<26:09,  4.09it/s]1 - ./data_Vaccine/BillGatesBioTerrorist/tweets1/EegR2RlXoAY1aXA.jpg\n",
      "  0%|          | 8/6428 [00:02<24:55,  4.29it/s]1 - ./data_Vaccine/BillGatesBioTerrorist/tweets1/EegLZ5kWsAAkKej.jpg\n",
      "  0%|          | 10/6428 [00:02<23:21,  4.58it/s]0 - ./data_Vaccine/BillGatesBioTerrorist/tweets1/Eed7kkGXsAAF8-9.jpg\n",
      "0 - ./data_Vaccine/BillGatesBioTerrorist/tweets1/Eeu4Q-hXsAAL2Gl.jpg\n",
      "  0%|          | 11/6428 [00:02<23:49,  4.49it/s]0 - ./data_Vaccine/BillGatesBioTerrorist/tweets1/Eeiiyk6U8AAiydl.jpg\n",
      "  0%|          | 12/6428 [00:02<24:22,  4.39it/s]0 - ./data_Vaccine/BillGatesBioTerrorist/tweets1/EenKj8JU0AAIVDA.jpg\n",
      "  0%|          | 13/6428 [00:03<25:16,  4.23it/s]1 - ./data_Vaccine/BillGatesBioTerrorist/tweets1/Eewp7H1WoAAx1CO.jpg\n",
      "  0%|          | 14/6428 [00:03<24:26,  4.37it/s]1 - ./data_Vaccine/BillGatesBioTerrorist/tweets1/Eeqmbf-XoAATYKF.png\n",
      "  0%|          | 15/6428 [00:03<26:02,  4.10it/s]1 - ./data_Vaccine/BillGatesBioTerrorist/tweets1/EejAbEiUwAAUk2_.jpg\n",
      "  0%|          | 16/6428 [00:03<26:07,  4.09it/s]1 - ./data_Vaccine/BillGatesBioTerrorist/tweets1/EeeyYUdWoAUvzRl.jpg\n",
      "  0%|          | 18/6428 [00:04<23:52,  4.47it/s]1 - ./data_Vaccine/BillGatesBioTerrorist/tweets1/EesFTITX0AIq7dr.jpg\n",
      "1 - ./data_Vaccine/BillGatesBioTerrorist/tweets1/EegQuLvX0AEKqw2.jpg\n",
      "  0%|          | 19/6428 [00:04<25:09,  4.25it/s]1 - ./data_Vaccine/BillGatesBioTerrorist/tweets1/EegVM86WoAAN185.jpg\n",
      "  0%|          | 20/6428 [00:04<25:44,  4.15it/s]1 - ./data_Vaccine/BillGatesBioTerrorist/tweets1/EeYjQ7GWkAA9Ooq.jpg\n",
      "  0%|          | 21/6428 [00:05<25:50,  4.13it/s]1 - ./data_Vaccine/BillGatesBioTerrorist/tweets1/Eec1tGWXgAA1xvS.jpg\n",
      "  0%|          | 22/6428 [00:05<25:56,  4.12it/s]1 - ./data_Vaccine/BillGatesBioTerrorist/tweets1/EeW-xfNXkAAr0-I.jpg\n",
      "  0%|          | 23/6428 [00:05<28:25,  3.76it/s]1 - ./data_Vaccine/BillGatesBioTerrorist/tweets1/EeS3pjMXoAAIxdM.jpg\n",
      "  0%|          | 24/6428 [00:05<26:53,  3.97it/s]1 - ./data_Vaccine/BillGatesBioTerrorist/tweets1/EeWGvV0XoAICFSC.jpg\n",
      "  0%|          | 25/6428 [00:06<29:09,  3.66it/s]1 - ./data_Vaccine/BillGatesBioTerrorist/tweets1/EeVHm71XkAAcSCt.jpg\n",
      "  0%|          | 26/6428 [00:06<30:01,  3.55it/s]1 - ./data_Vaccine/BillGatesBioTerrorist/tweets1/Eea5y1nXsAIJBz6.jpg\n",
      "  0%|          | 27/6428 [00:06<30:32,  3.49it/s]1 - ./data_Vaccine/BillGatesBioTerrorist/tweets1/Eec676GXgAEWEoL.jpg\n",
      "  0%|          | 28/6428 [00:07<29:40,  3.59it/s]0 - ./data_Vaccine/BillGatesBioTerrorist/tweets1/EeWjsSKWoAAVdn7.jpg\n",
      "  0%|          | 30/6428 [00:07<26:45,  3.99it/s]0 - ./data_Vaccine/BillGatesBioTerrorist/tweets1/EeXNxAWXoAEt_3S.jpg\n",
      "1 - ./data_Vaccine/BillGatesBioTerrorist/tweets1/EeceZguWoAIGQDZ.jpg\n",
      "  0%|          | 31/6428 [00:07<25:16,  4.22it/s]1 - ./data_Vaccine/BillGatesBioTerrorist/tweets1/EeU9hOsUYAE_8yk.jpg\n",
      "  0%|          | 32/6428 [00:07<26:53,  3.96it/s]1 - ./data_Vaccine/BillGatesBioTerrorist/tweets1/EeXbM0CWoAUtg8e.jpg\n",
      "  1%|          | 33/6428 [00:08<28:59,  3.68it/s]1 - ./data_Vaccine/BillGatesBioTerrorist/tweets1/EecijChXYAAM4Zl.jpg\n",
      "  1%|          | 34/6428 [00:08<30:57,  3.44it/s]1 - ./data_Vaccine/BillGatesBioTerrorist/tweets1/EeW80-bWAAEjZHm.jpg\n",
      "  1%|          | 35/6428 [00:08<31:02,  3.43it/s]1 - ./data_Vaccine/BillGatesBioTerrorist/tweets1/EeTpNHBWoAIn7Y9.jpg\n",
      "  1%|          | 36/6428 [00:09<31:00,  3.44it/s]1 - ./data_Vaccine/BillGatesBioTerrorist/tweets1/EeYhrC8WoAAQJYh.jpg\n",
      "  1%|          | 37/6428 [00:09<31:08,  3.42it/s]1 - ./data_Vaccine/BillGatesBioTerrorist/tweets1/EeWfSONXsAITwFT.jpg\n",
      "  1%|          | 38/6428 [00:09<35:29,  3.00it/s]1 - ./data_Vaccine/BillGatesBioTerrorist/tweets1/EeXAExVX0AAGB82.jpg\n",
      "  1%|          | 39/6428 [00:10<35:55,  2.96it/s]1 - ./data_Vaccine/BillGatesBioTerrorist/tweets1/EeXW2RmWoAAcG4m.png\n",
      "  1%|          | 40/6428 [00:10<36:05,  2.95it/s]1 - ./data_Vaccine/BillGatesBioTerrorist/tweets1/EeZiy04VAAA5cEX.jpg\n",
      "  1%|          | 41/6428 [00:10<36:57,  2.88it/s]1 - ./data_Vaccine/BillGatesBioTerrorist/tweets1/EeVZ07_XYAAFnfc.jpg\n",
      "  1%|          | 42/6428 [00:11<35:52,  2.97it/s]1 - ./data_Vaccine/BillGatesBioTerrorist/tweets1/EeYEp5hXkAA5qwl.jpg\n",
      "  1%|          | 43/6428 [00:11<35:20,  3.01it/s]0 - ./data_Vaccine/BillGatesBioTerrorist/tweets1/EeVLHs1WsAUQILG.png\n",
      "  1%|          | 44/6428 [00:11<34:04,  3.12it/s]1 - ./data_Vaccine/BillGatesBioTerrorist/tweets1/EeXg5B6WkAMptyk.jpg\n",
      "  1%|          | 46/6428 [00:12<28:12,  3.77it/s]1 - ./data_Vaccine/BillGatesBioTerrorist/tweets2/EfLXcTtVoAA9sxt.jpg\n",
      "1 - ./data_Vaccine/BillGatesBioTerrorist/tweets2/EfGN_PyX0AACoVB.jpg\n",
      "  1%|          | 47/6428 [00:12<26:11,  4.06it/s]0 - ./data_Vaccine/BillGatesBioTerrorist/tweets2/EfUBv-iWsAES0SP.png\n",
      "  1%|          | 48/6428 [00:12<25:27,  4.18it/s]0 - ./data_Vaccine/BillGatesBioTerrorist/tweets2/EfDgAsqWkAYEU19.jpg\n",
      "  1%|          | 49/6428 [00:13<27:45,  3.83it/s]1 - ./data_Vaccine/BillGatesBioTerrorist/tweets2/EfUaAg8WsAEY6Y-.png\n",
      "  1%|          | 50/6428 [00:13<27:51,  3.82it/s]1 - ./data_Vaccine/BillGatesBioTerrorist/tweets2/EfGaI5TX0AAcr_3.jpg\n",
      "  1%|          | 51/6428 [00:13<27:46,  3.83it/s]1 - ./data_Vaccine/BillGatesBioTerrorist/tweets2/EfUV6I9XgAANMhr.jpg\n",
      "  1%|          | 52/6428 [00:13<29:12,  3.64it/s]1 - ./data_Vaccine/BillGatesBioTerrorist/tweets2/EfO77UhWkAk2tku.jpg\n",
      "  1%|          | 54/6428 [00:14<25:36,  4.15it/s]1 - ./data_Vaccine/BillGatesBioTerrorist/tweets2/EfTjDewVAAIzAca.jpg\n",
      "1 - ./data_Vaccine/BillGatesBioTerrorist/tweets2/EfJpvzIVAAENbZ_.jpg\n",
      "  1%|          | 55/6428 [00:14<24:30,  4.33it/s]1 - ./data_Vaccine/BillGatesBioTerrorist/tweets2/EfQtVonXgAE10XR.jpg\n",
      "  1%|          | 56/6428 [00:14<24:28,  4.34it/s]1 - ./data_Vaccine/BillGatesBioTerrorist/tweets2/EfNEy1BXYAAGJTd.png\n",
      "  1%|          | 57/6428 [00:15<26:42,  3.97it/s]1 - ./data_Vaccine/BillGatesBioTerrorist/tweets2/EfIdiw8XkAEttFC.jpg\n",
      "  1%|          | 58/6428 [00:15<28:14,  3.76it/s]1 - ./data_Vaccine/BillGatesBioTerrorist/tweets2/EfO6y8xWAAI_824.jpg\n",
      "  1%|          | 59/6428 [00:15<27:53,  3.81it/s]1 - ./data_Vaccine/BillGatesBioTerrorist/tweets2/EfJPTWUUwAI7bXF.jpg\n",
      "  1%|          | 60/6428 [00:15<29:50,  3.56it/s]1 - ./data_Vaccine/BillGatesBioTerrorist/tweets2/EfRmjE8VAAEfgfV.jpg\n",
      "  1%|          | 61/6428 [00:16<29:35,  3.59it/s]1 - ./data_Vaccine/BillGatesBioTerrorist/tweets2/EfFQf0cXkAAEeoj.jpg\n",
      "  1%|          | 62/6428 [00:16<29:10,  3.64it/s]1 - ./data_Vaccine/BillGatesBioTerrorist/tweets2/EfUGmmvVAAIw0Kp.jpg\n",
      "  1%|          | 63/6428 [00:16<31:43,  3.34it/s]1 - ./data_Vaccine/BillGatesBioTerrorist/tweets2/EfP0E9bWoAcpjWF.jpg\n",
      "  1%|          | 64/6428 [00:17<33:05,  3.21it/s]1 - ./data_Vaccine/BillGatesBioTerrorist/tweets2/EfE1fIoWsAEIvw_.png\n",
      "  1%|          | 65/6428 [00:17<33:48,  3.14it/s]1 - ./data_Vaccine/BillGatesBioTerrorist/tweets2/EfF_GmxU0AABvAg.jpg\n",
      "  1%|          | 66/6428 [00:17<30:16,  3.50it/s]0 - ./data_Vaccine/BillGatesBioTerrorist/tweets2/EfVGv0WX0AIGqM_.jpg\n",
      "  1%|          | 67/6428 [00:18<29:44,  3.56it/s]1 - ./data_Vaccine/BillGatesBioTerrorist/tweets2/EfDs93BWoAAc70b.jpg\n",
      "  1%|          | 68/6428 [00:18<27:48,  3.81it/s]1 - ./data_Vaccine/BillGatesBioTerrorist/tweets2/EfTMniNXgAEgENS.png\n",
      "  1%|          | 69/6428 [00:18<26:22,  4.02it/s]1 - ./data_Vaccine/BillGatesBioTerrorist/tweets2/EfFdZ_6WkAcqMOT.jpg\n",
      "  1%|          | 70/6428 [00:18<25:58,  4.08it/s]1 - ./data_Vaccine/BillGatesBioTerrorist/tweets2/EfE_2GGXYAIPzcd.jpg\n",
      "  1%|          | 71/6428 [00:18<27:15,  3.89it/s]1 - ./data_Vaccine/BillGatesBioTerrorist/tweets2/EfVO5JKUYAEqZ50.jpg\n",
      "  1%|          | 72/6428 [00:19<30:13,  3.51it/s]1 - ./data_Vaccine/BillGatesBioTerrorist/tweets2/Ee6bh0RUMAYm0Zv.jpg\n",
      "  1%|          | 73/6428 [00:19<34:25,  3.08it/s]1 - ./data_Vaccine/BillGatesBioTerrorist/tweets2/EfDGbxnXkAEVT49.png\n",
      "  1%|          | 74/6428 [00:20<37:52,  2.80it/s]0 - ./data_Vaccine/BillGatesBioTerrorist/tweets2/Ee-zwlwVAAI_X9L.jpg\n",
      "  1%|          | 75/6428 [00:20<37:12,  2.85it/s]1 - ./data_Vaccine/BillGatesBioTerrorist/tweets2/Ee7xZXoVAAEojAj.jpg\n",
      "  1%|          | 76/6428 [00:20<38:32,  2.75it/s]1 - ./data_Vaccine/BillGatesBioTerrorist/tweets2/EfAWhDqXsAMiSiG.jpg\n",
      "  1%|          | 77/6428 [00:21<36:57,  2.86it/s]1 - ./data_Vaccine/BillGatesBioTerrorist/tweets2/EfBAFdMWoAg6hVt.jpg\n",
      "  1%|          | 78/6428 [00:21<33:45,  3.14it/s]1 - ./data_Vaccine/BillGatesBioTerrorist/tweets2/EfC9cBLWsAA4yon.png\n",
      "  1%|          | 79/6428 [00:21<31:43,  3.34it/s]1 - ./data_Vaccine/BillGatesBioTerrorist/tweets2/Ee3LVpGWkAASchp.jpg\n",
      "  1%|▏         | 81/6428 [00:22<31:45,  3.33it/s]1 - ./data_Vaccine/BillGatesBioTerrorist/tweets2/Ee_VXRPWAAUZ2XF.jpg\n",
      "1 - ./data_Vaccine/BillGatesBioTerrorist/tweets2/Ee58ptFXYAIVCgc.png\n",
      "  1%|▏         | 82/6428 [00:22<28:43,  3.68it/s]1 - ./data_Vaccine/BillGatesBioTerrorist/tweets2/Ee3d_0MUMAAe1VD.jpg\n",
      "  1%|▏         | 83/6428 [00:22<30:07,  3.51it/s]1 - ./data_Vaccine/BillGatesBioTerrorist/tweets2/EfBjEpGXgAUxiEl.jpg\n",
      "  1%|▏         | 84/6428 [00:23<27:58,  3.78it/s]1 - ./data_Vaccine/BillGatesBioTerrorist/tweets2/Ee_IwUZX0AIGKeJ.jpg\n",
      "  1%|▏         | 85/6428 [00:23<26:22,  4.01it/s]1 - ./data_Vaccine/BillGatesBioTerrorist/tweets2/Ee6Jo7rUEAAAcNi.jpg\n",
      "  1%|▏         | 86/6428 [00:23<26:07,  4.05it/s]1 - ./data_Vaccine/BillGatesBioTerrorist/tweets2/Ee5xQ1SUYAYhHwJ.jpg\n",
      "  1%|▏         | 87/6428 [00:23<25:02,  4.22it/s]1 - ./data_Vaccine/BillGatesBioTerrorist/tweets2/Ee9n02dXkAIUfMH.jpg\n",
      "  1%|▏         | 88/6428 [00:24<26:15,  4.02it/s]1 - ./data_Vaccine/BillGatesBioTerrorist/tweets2/Ee31pYOUEAAEHwH.jpg\n",
      "  1%|▏         | 89/6428 [00:24<25:17,  4.18it/s]1 - ./data_Vaccine/BillGatesBioTerrorist/tweets2/Ee9EShhWoAEZ7Q5.jpg\n",
      "  1%|▏         | 90/6428 [00:24<24:10,  4.37it/s]1 - ./data_Vaccine/BillGatesBioTerrorist/tweets2/EfAXuu-XoAAR1J1.jpg\n",
      "  1%|▏         | 91/6428 [00:24<24:15,  4.36it/s]1 - ./data_Vaccine/BillGatesBioTerrorist/tweets2/Ee3RCxqVoAEZ_3x.jpg\n",
      "  1%|▏         | 93/6428 [00:25<23:52,  4.42it/s]1 - ./data_Vaccine/BillGatesBioTerrorist/tweets2/Ee4HMdgUcAcoPV3.jpg\n",
      "1 - ./data_Vaccine/BillGatesBioTerrorist/tweets2/Ee82zz0WkAEa7du.jpg\n",
      "  1%|▏         | 94/6428 [00:25<23:27,  4.50it/s]1 - ./data_Vaccine/BillGatesBioTerrorist/tweets2/Ee3KygIXsAA0XEe.jpg\n",
      "  1%|▏         | 95/6428 [00:25<25:30,  4.14it/s]1 - ./data_Vaccine/BillGatesBioTerrorist/tweets2/Ee2_76cVAAErycD.jpg\n",
      "  1%|▏         | 96/6428 [00:25<28:02,  3.76it/s]0 - ./data_Vaccine/BillGatesBioTerrorist/tweets3/Efm3EFGWAAAfWqh.jpg\n",
      "  2%|▏         | 97/6428 [00:26<29:51,  3.53it/s]1 - ./data_Vaccine/BillGatesBioTerrorist/tweets3/EfjyijgUEAAJFPf.png\n",
      "  2%|▏         | 98/6428 [00:26<27:34,  3.83it/s]1 - ./data_Vaccine/BillGatesBioTerrorist/tweets3/EftcbdQWkAIqCCu.jpg\n",
      "  2%|▏         | 99/6428 [00:26<27:08,  3.89it/s]1 - ./data_Vaccine/BillGatesBioTerrorist/tweets3/EfkfAPzXYAUAWeM.jpg\n",
      "  2%|▏         | 100/6428 [00:27<26:45,  3.94it/s]1 - ./data_Vaccine/BillGatesBioTerrorist/tweets3/Efv5d4FWoAAe844.jpg\n",
      "  2%|▏         | 101/6428 [00:27<28:37,  3.68it/s]1 - ./data_Vaccine/BillGatesBioTerrorist/tweets3/Efkq6rfWAAw_BMc.jpg\n",
      "  2%|▏         | 102/6428 [00:27<29:03,  3.63it/s]1 - ./data_Vaccine/BillGatesBioTerrorist/tweets3/Eftoa0IXoAUXnMO.png\n",
      "  2%|▏         | 103/6428 [00:27<29:58,  3.52it/s]1 - ./data_Vaccine/BillGatesBioTerrorist/tweets3/Ef1PSJ_XsAAAtLA.jpg\n",
      "  2%|▏         | 104/6428 [00:28<30:07,  3.50it/s]1 - ./data_Vaccine/BillGatesBioTerrorist/tweets3/EfxQ4FDU4AAxWlb.jpg\n",
      "  2%|▏         | 105/6428 [00:28<28:05,  3.75it/s]1 - ./data_Vaccine/BillGatesBioTerrorist/tweets3/Ef0FImFU8AEFlJz.jpg\n",
      "  2%|▏         | 106/6428 [00:28<27:13,  3.87it/s]1 - ./data_Vaccine/BillGatesBioTerrorist/tweets3/EfzUH_qWoAIPJAR.jpg\n",
      "  2%|▏         | 107/6428 [00:28<27:13,  3.87it/s]1 - ./data_Vaccine/BillGatesBioTerrorist/tweets3/Efjp0iyWAAEkIig.jpg\n",
      "  2%|▏         | 108/6428 [00:29<26:47,  3.93it/s]1 - ./data_Vaccine/BillGatesBioTerrorist/tweets3/EftJKrdWoAEtZ6h.jpg\n",
      "  2%|▏         | 109/6428 [00:29<27:59,  3.76it/s]1 - ./data_Vaccine/BillGatesBioTerrorist/tweets3/EfpmneWXoAITA_D.jpg\n",
      "  2%|▏         | 110/6428 [00:29<29:08,  3.61it/s]1 - ./data_Vaccine/BillGatesBioTerrorist/tweets3/Ef2cC6iXYAAoSGp.jpg\n",
      "  2%|▏         | 111/6428 [00:30<31:28,  3.34it/s]1 - ./data_Vaccine/BillGatesBioTerrorist/tweets3/Ef4OgV2XgAAvLY-.jpg\n",
      "  2%|▏         | 112/6428 [00:30<36:49,  2.86it/s]1 - ./data_Vaccine/BillGatesBioTerrorist/tweets3/EfteDyJX0AU7Kz-.jpg\n",
      "  2%|▏         | 113/6428 [00:30<37:49,  2.78it/s]1 - ./data_Vaccine/BillGatesBioTerrorist/tweets3/Efs1wGPXsAIMgVf.png\n",
      "  2%|▏         | 114/6428 [00:31<39:24,  2.67it/s]1 - ./data_Vaccine/BillGatesBioTerrorist/tweets3/Efsd-d4XkAECyoO.jpg\n",
      "  2%|▏         | 115/6428 [00:31<38:00,  2.77it/s]1 - ./data_Vaccine/BillGatesBioTerrorist/tweets3/EfnivrmXkAA4n6r.jpg\n",
      "  2%|▏         | 116/6428 [00:32<37:24,  2.81it/s]1 - ./data_Vaccine/BillGatesBioTerrorist/tweets3/Ef5KlOwXkAc2h4m.jpg\n",
      "  2%|▏         | 117/6428 [00:32<34:29,  3.05it/s]1 - ./data_Vaccine/BillGatesBioTerrorist/tweets3/EfjzYPLUYAEC75K.jpg\n",
      "  2%|▏         | 118/6428 [00:32<34:56,  3.01it/s]0 - ./data_Vaccine/BillGatesBioTerrorist/tweets3/Efv52bnVoAAIQS9.jpg\n",
      "  2%|▏         | 120/6428 [00:33<30:26,  3.45it/s]1 - ./data_Vaccine/BillGatesBioTerrorist/tweets3/Efw-BXQU4AEfEhl.jpg\n",
      "1 - ./data_Vaccine/BillGatesBioTerrorist/tweets3/EfzKwrzWsAI6Sc9.jpg\n",
      "  2%|▏         | 121/6428 [00:33<27:51,  3.77it/s]1 - ./data_Vaccine/BillGatesBioTerrorist/tweets3/Efw2qHYXoAAbRJm.jpg\n",
      "  2%|▏         | 122/6428 [00:33<28:24,  3.70it/s]1 - ./data_Vaccine/BillGatesBioTerrorist/tweets3/EfqIT0cU8AAk9V0.jpg\n",
      "  2%|▏         | 124/6428 [00:34<27:03,  3.88it/s]1 - ./data_Vaccine/BillGatesBioTerrorist/tweets3/EflFJ5OWAAMZJtB.jpg\n",
      "1 - ./data_Vaccine/BillGatesBioTerrorist/tweets4/EgNwThfWoAEyZOX.jpg\n",
      "  2%|▏         | 125/6428 [00:34<25:31,  4.12it/s]1 - ./data_Vaccine/BillGatesBioTerrorist/tweets4/EgKD8_mUMAAbLHU.jpg\n",
      "  2%|▏         | 126/6428 [00:34<27:40,  3.80it/s]1 - ./data_Vaccine/BillGatesBioTerrorist/tweets4/EgdjL2MXsAAjERz.jpg\n",
      "  2%|▏         | 127/6428 [00:35<29:00,  3.62it/s]1 - ./data_Vaccine/BillGatesBioTerrorist/tweets4/EgE073HU0AAcLC5.jpg\n",
      "  2%|▏         | 128/6428 [00:35<28:08,  3.73it/s]1 - ./data_Vaccine/BillGatesBioTerrorist/tweets4/EgRNuSzWAAAA894.jpg\n",
      "  2%|▏         | 129/6428 [00:35<28:17,  3.71it/s]1 - ./data_Vaccine/BillGatesBioTerrorist/tweets4/Egbqj_6UMAEzzQ9.jpg\n",
      "  2%|▏         | 130/6428 [00:35<28:47,  3.65it/s]1 - ./data_Vaccine/BillGatesBioTerrorist/tweets4/EgIUU79WsAERttJ.jpg\n",
      "  2%|▏         | 131/6428 [00:36<29:12,  3.59it/s]1 - ./data_Vaccine/BillGatesBioTerrorist/tweets4/Egcp0v6UEAEGOFn.jpg\n",
      "  2%|▏         | 133/6428 [00:36<26:44,  3.92it/s]1 - ./data_Vaccine/BillGatesBioTerrorist/tweets4/EgRDcq9WsAQREil.jpg\n",
      "1 - ./data_Vaccine/BillGatesBioTerrorist/tweets4/EgPJ91yVAAI-ezj.jpg\n",
      "  2%|▏         | 134/6428 [00:36<25:33,  4.10it/s]1 - ./data_Vaccine/BillGatesBioTerrorist/tweets4/EgEnSLOXoAAlSpb.jpg\n",
      "  2%|▏         | 135/6428 [00:37<27:34,  3.80it/s]0 - ./data_Vaccine/BillGatesBioTerrorist/tweets4/EgHYKB-XkAAxCYc.jpg\n",
      "  2%|▏         | 136/6428 [00:37<28:38,  3.66it/s]1 - ./data_Vaccine/BillGatesBioTerrorist/tweets4/EgUgrFjUEAEAwR4.jpg\n",
      "  2%|▏         | 137/6428 [00:37<29:34,  3.54it/s]1 - ./data_Vaccine/BillGatesBioTerrorist/tweets4/EgMFYDcXoAMpAFp.jpg\n",
      "  2%|▏         | 138/6428 [00:37<29:45,  3.52it/s]1 - ./data_Vaccine/BillGatesBioTerrorist/tweets4/EgR0OxzX0AEAOrv.png\n",
      "  2%|▏         | 139/6428 [00:38<29:04,  3.61it/s]1 - ./data_Vaccine/BillGatesBioTerrorist/tweets4/EgWCjg3XkAUOFm8.jpg\n",
      "  2%|▏         | 140/6428 [00:38<28:37,  3.66it/s]1 - ./data_Vaccine/BillGatesBioTerrorist/tweets4/EgND4gBXsAYwwYk.jpg\n",
      "  2%|▏         | 142/6428 [00:38<25:39,  4.08it/s]1 - ./data_Vaccine/BillGatesBioTerrorist/tweets4/EgZboNuWsAAa50z.jpg\n",
      "1 - ./data_Vaccine/BillGatesBioTerrorist/tweets4/EgNIjdCWoAAZRk2.png\n",
      "  2%|▏         | 143/6428 [00:39<25:02,  4.18it/s]1 - ./data_Vaccine/BillGatesBioTerrorist/tweets4/EgYMWjnXYAAM2tQ.jpg\n",
      "  2%|▏         | 144/6428 [00:39<24:16,  4.32it/s]1 - ./data_Vaccine/BillGatesBioTerrorist/tweets4/EgZqSATXgAA7ZLI.png\n",
      "  2%|▏         | 145/6428 [00:39<25:39,  4.08it/s]1 - ./data_Vaccine/BillGatesBioTerrorist/tweets4/EgHdXzPU4AECEJz.jpg\n",
      "  2%|▏         | 146/6428 [00:39<25:39,  4.08it/s]0 - ./data_Vaccine/BillGatesBioTerrorist/tweets4/EgQ-VAvUwCUP9KQ.jpg\n",
      "  2%|▏         | 147/6428 [00:40<30:18,  3.45it/s]1 - ./data_Vaccine/BillGatesBioTerrorist/tweets4/EgRmddEUEAISOpb.jpg\n",
      "  2%|▏         | 148/6428 [00:40<31:09,  3.36it/s]1 - ./data_Vaccine/BillGatesBioTerrorist/tweets4/EgXsoq1XgAAKYzz.jpg\n",
      "  2%|▏         | 149/6428 [00:40<32:17,  3.24it/s]1 - ./data_Vaccine/BillGatesBioTerrorist/tweets4/EgIL2O0XgAAhhoj.jpg\n",
      "  2%|▏         | 150/6428 [00:41<29:14,  3.58it/s]1 - ./data_Vaccine/BillGatesBioTerrorist/tweets4/EgEO3rCXoAIVqm4.jpg\n",
      "  2%|▏         | 151/6428 [00:41<27:14,  3.84it/s]1 - ./data_Vaccine/BillGatesBioTerrorist/tweets4/EgBmDGVXsAErX2P.jpg\n",
      "  2%|▏         | 152/6428 [00:41<30:39,  3.41it/s]1 - ./data_Vaccine/BillGatesBioTerrorist/tweets4/EgECq7GXkAYv9V5.jpg\n",
      "  2%|▏         | 153/6428 [00:42<33:07,  3.16it/s]1 - ./data_Vaccine/BillGatesBioTerrorist/tweets4/EgCIv2AXkAEoTkb.jpg\n",
      "  2%|▏         | 154/6428 [00:42<29:39,  3.52it/s]1 - ./data_Vaccine/BillGatesBioTerrorist/tweets4/Ef_ktk3U4AAIkeB.jpg\n",
      "  2%|▏         | 155/6428 [00:42<34:55,  2.99it/s]1 - ./data_Vaccine/BillGatesBioTerrorist/tweets4/EgDt6ZqXYAARtX-.jpg\n",
      "  2%|▏         | 156/6428 [00:43<32:39,  3.20it/s]1 - ./data_Vaccine/BillGatesBioTerrorist/tweets5/EgkozDCU4AAIJGH.png\n",
      "  2%|▏         | 157/6428 [00:43<33:10,  3.15it/s]1 - ./data_Vaccine/BillGatesBioTerrorist/tweets5/Ego47U-VgAAQdZK.jpg\n",
      "  2%|▏         | 158/6428 [00:43<32:24,  3.22it/s]1 - ./data_Vaccine/BillGatesBioTerrorist/tweets5/EgmoFdOWoAAefSL.jpg\n",
      "  2%|▏         | 159/6428 [00:43<32:14,  3.24it/s]1 - ./data_Vaccine/BillGatesBioTerrorist/tweets5/Egnd1cEXsAApNfC.jpg\n",
      "  2%|▏         | 160/6428 [00:44<30:02,  3.48it/s]1 - ./data_Vaccine/BillGatesBioTerrorist/tweets5/EgrhG1fUwAEvWAT.jpg\n",
      "  3%|▎         | 161/6428 [00:44<28:18,  3.69it/s]1 - ./data_Vaccine/BillGatesBioTerrorist/tweets5/Egp47FGWAAA4u4o.jpg\n",
      "  3%|▎         | 162/6428 [00:44<28:05,  3.72it/s]1 - ./data_Vaccine/vaccinesSaveLives/tweets1/EeuRd-1XkAALBYu.jpg\n",
      "  3%|▎         | 162/6428 [00:44<28:59,  3.60it/s]\n"
     ]
    },
    {
     "output_type": "error",
     "ename": "KeyboardInterrupt",
     "evalue": "",
     "traceback": [
      "\u001b[0;31m---------------------------------------------------------------------------\u001b[0m",
      "\u001b[0;31mKeyboardInterrupt\u001b[0m                         Traceback (most recent call last)",
      "\u001b[0;32m<ipython-input-7-fe2d1c031191>\u001b[0m in \u001b[0;36m<module>\u001b[0;34m\u001b[0m\n\u001b[1;32m      5\u001b[0m \u001b[0;34m\u001b[0m\u001b[0m\n\u001b[1;32m      6\u001b[0m \u001b[0;31m# df_csv['has_text'] = df_csv['image_path'].apply(detector.detect_text)\u001b[0m\u001b[0;34m\u001b[0m\u001b[0;34m\u001b[0m\u001b[0;34m\u001b[0m\u001b[0m\n\u001b[0;32m----> 7\u001b[0;31m \u001b[0mdf_csv\u001b[0m\u001b[0;34m[\u001b[0m\u001b[0;34m'has_text'\u001b[0m\u001b[0;34m]\u001b[0m \u001b[0;34m=\u001b[0m \u001b[0mdf_csv\u001b[0m\u001b[0;34m[\u001b[0m\u001b[0;34m'image_path'\u001b[0m\u001b[0;34m]\u001b[0m\u001b[0;34m.\u001b[0m\u001b[0mprogress_apply\u001b[0m\u001b[0;34m(\u001b[0m\u001b[0mdetector\u001b[0m\u001b[0;34m.\u001b[0m\u001b[0mdetect_text\u001b[0m\u001b[0;34m)\u001b[0m\u001b[0;34m\u001b[0m\u001b[0;34m\u001b[0m\u001b[0m\n\u001b[0m\u001b[1;32m      8\u001b[0m \u001b[0;34m\u001b[0m\u001b[0m\n\u001b[1;32m      9\u001b[0m \u001b[0mdf_csv\u001b[0m\u001b[0;34m\u001b[0m\u001b[0;34m\u001b[0m\u001b[0m\n",
      "\u001b[0;32m~/anaconda3/envs/tweets/lib/python3.9/site-packages/tqdm/std.py\u001b[0m in \u001b[0;36minner\u001b[0;34m(df, func, *args, **kwargs)\u001b[0m\n\u001b[1;32m    808\u001b[0m                 \u001b[0;31m# on the df using our wrapper (which provides bar updating)\u001b[0m\u001b[0;34m\u001b[0m\u001b[0;34m\u001b[0m\u001b[0;34m\u001b[0m\u001b[0m\n\u001b[1;32m    809\u001b[0m                 \u001b[0;32mtry\u001b[0m\u001b[0;34m:\u001b[0m\u001b[0;34m\u001b[0m\u001b[0;34m\u001b[0m\u001b[0m\n\u001b[0;32m--> 810\u001b[0;31m                     \u001b[0;32mreturn\u001b[0m \u001b[0mgetattr\u001b[0m\u001b[0;34m(\u001b[0m\u001b[0mdf\u001b[0m\u001b[0;34m,\u001b[0m \u001b[0mdf_function\u001b[0m\u001b[0;34m)\u001b[0m\u001b[0;34m(\u001b[0m\u001b[0mwrapper\u001b[0m\u001b[0;34m,\u001b[0m \u001b[0;34m**\u001b[0m\u001b[0mkwargs\u001b[0m\u001b[0;34m)\u001b[0m\u001b[0;34m\u001b[0m\u001b[0;34m\u001b[0m\u001b[0m\n\u001b[0m\u001b[1;32m    811\u001b[0m                 \u001b[0;32mfinally\u001b[0m\u001b[0;34m:\u001b[0m\u001b[0;34m\u001b[0m\u001b[0;34m\u001b[0m\u001b[0m\n\u001b[1;32m    812\u001b[0m                     \u001b[0mt\u001b[0m\u001b[0;34m.\u001b[0m\u001b[0mclose\u001b[0m\u001b[0;34m(\u001b[0m\u001b[0;34m)\u001b[0m\u001b[0;34m\u001b[0m\u001b[0;34m\u001b[0m\u001b[0m\n",
      "\u001b[0;32m~/anaconda3/envs/tweets/lib/python3.9/site-packages/pandas/core/series.py\u001b[0m in \u001b[0;36mapply\u001b[0;34m(self, func, convert_dtype, args, **kwds)\u001b[0m\n\u001b[1;32m   4136\u001b[0m             \u001b[0;32melse\u001b[0m\u001b[0;34m:\u001b[0m\u001b[0;34m\u001b[0m\u001b[0;34m\u001b[0m\u001b[0m\n\u001b[1;32m   4137\u001b[0m                 \u001b[0mvalues\u001b[0m \u001b[0;34m=\u001b[0m \u001b[0mself\u001b[0m\u001b[0;34m.\u001b[0m\u001b[0mastype\u001b[0m\u001b[0;34m(\u001b[0m\u001b[0mobject\u001b[0m\u001b[0;34m)\u001b[0m\u001b[0;34m.\u001b[0m\u001b[0m_values\u001b[0m\u001b[0;34m\u001b[0m\u001b[0;34m\u001b[0m\u001b[0m\n\u001b[0;32m-> 4138\u001b[0;31m                 \u001b[0mmapped\u001b[0m \u001b[0;34m=\u001b[0m \u001b[0mlib\u001b[0m\u001b[0;34m.\u001b[0m\u001b[0mmap_infer\u001b[0m\u001b[0;34m(\u001b[0m\u001b[0mvalues\u001b[0m\u001b[0;34m,\u001b[0m \u001b[0mf\u001b[0m\u001b[0;34m,\u001b[0m \u001b[0mconvert\u001b[0m\u001b[0;34m=\u001b[0m\u001b[0mconvert_dtype\u001b[0m\u001b[0;34m)\u001b[0m\u001b[0;34m\u001b[0m\u001b[0;34m\u001b[0m\u001b[0m\n\u001b[0m\u001b[1;32m   4139\u001b[0m \u001b[0;34m\u001b[0m\u001b[0m\n\u001b[1;32m   4140\u001b[0m         \u001b[0;32mif\u001b[0m \u001b[0mlen\u001b[0m\u001b[0;34m(\u001b[0m\u001b[0mmapped\u001b[0m\u001b[0;34m)\u001b[0m \u001b[0;32mand\u001b[0m \u001b[0misinstance\u001b[0m\u001b[0;34m(\u001b[0m\u001b[0mmapped\u001b[0m\u001b[0;34m[\u001b[0m\u001b[0;36m0\u001b[0m\u001b[0;34m]\u001b[0m\u001b[0;34m,\u001b[0m \u001b[0mSeries\u001b[0m\u001b[0;34m)\u001b[0m\u001b[0;34m:\u001b[0m\u001b[0;34m\u001b[0m\u001b[0;34m\u001b[0m\u001b[0m\n",
      "\u001b[0;32mpandas/_libs/lib.pyx\u001b[0m in \u001b[0;36mpandas._libs.lib.map_infer\u001b[0;34m()\u001b[0m\n",
      "\u001b[0;32m~/anaconda3/envs/tweets/lib/python3.9/site-packages/tqdm/std.py\u001b[0m in \u001b[0;36mwrapper\u001b[0;34m(*args, **kwargs)\u001b[0m\n\u001b[1;32m    803\u001b[0m                     \u001b[0;31m# take a fast or slow code path; so stop when t.total==t.n\u001b[0m\u001b[0;34m\u001b[0m\u001b[0;34m\u001b[0m\u001b[0;34m\u001b[0m\u001b[0m\n\u001b[1;32m    804\u001b[0m                     \u001b[0mt\u001b[0m\u001b[0;34m.\u001b[0m\u001b[0mupdate\u001b[0m\u001b[0;34m(\u001b[0m\u001b[0mn\u001b[0m\u001b[0;34m=\u001b[0m\u001b[0;36m1\u001b[0m \u001b[0;32mif\u001b[0m \u001b[0;32mnot\u001b[0m \u001b[0mt\u001b[0m\u001b[0;34m.\u001b[0m\u001b[0mtotal\u001b[0m \u001b[0;32mor\u001b[0m \u001b[0mt\u001b[0m\u001b[0;34m.\u001b[0m\u001b[0mn\u001b[0m \u001b[0;34m<\u001b[0m \u001b[0mt\u001b[0m\u001b[0;34m.\u001b[0m\u001b[0mtotal\u001b[0m \u001b[0;32melse\u001b[0m \u001b[0;36m0\u001b[0m\u001b[0;34m)\u001b[0m\u001b[0;34m\u001b[0m\u001b[0;34m\u001b[0m\u001b[0m\n\u001b[0;32m--> 805\u001b[0;31m                     \u001b[0;32mreturn\u001b[0m \u001b[0mfunc\u001b[0m\u001b[0;34m(\u001b[0m\u001b[0;34m*\u001b[0m\u001b[0margs\u001b[0m\u001b[0;34m,\u001b[0m \u001b[0;34m**\u001b[0m\u001b[0mkwargs\u001b[0m\u001b[0;34m)\u001b[0m\u001b[0;34m\u001b[0m\u001b[0;34m\u001b[0m\u001b[0m\n\u001b[0m\u001b[1;32m    806\u001b[0m \u001b[0;34m\u001b[0m\u001b[0m\n\u001b[1;32m    807\u001b[0m                 \u001b[0;31m# Apply the provided function (in **kwargs)\u001b[0m\u001b[0;34m\u001b[0m\u001b[0;34m\u001b[0m\u001b[0;34m\u001b[0m\u001b[0m\n",
      "\u001b[0;32m~/Desktop/tweets_scrape/opencv_text_detector.py\u001b[0m in \u001b[0;36mdetect_text\u001b[0;34m(self, path, min_confidence, width, height)\u001b[0m\n\u001b[1;32m     48\u001b[0m         \u001b[0;31m# start = time.time()\u001b[0m\u001b[0;34m\u001b[0m\u001b[0;34m\u001b[0m\u001b[0;34m\u001b[0m\u001b[0m\n\u001b[1;32m     49\u001b[0m         \u001b[0mself\u001b[0m\u001b[0;34m.\u001b[0m\u001b[0mnet\u001b[0m\u001b[0;34m.\u001b[0m\u001b[0msetInput\u001b[0m\u001b[0;34m(\u001b[0m\u001b[0mblob\u001b[0m\u001b[0;34m)\u001b[0m\u001b[0;34m\u001b[0m\u001b[0;34m\u001b[0m\u001b[0m\n\u001b[0;32m---> 50\u001b[0;31m         \u001b[0;34m(\u001b[0m\u001b[0mscores\u001b[0m\u001b[0;34m,\u001b[0m \u001b[0mgeometry\u001b[0m\u001b[0;34m)\u001b[0m \u001b[0;34m=\u001b[0m \u001b[0mself\u001b[0m\u001b[0;34m.\u001b[0m\u001b[0mnet\u001b[0m\u001b[0;34m.\u001b[0m\u001b[0mforward\u001b[0m\u001b[0;34m(\u001b[0m\u001b[0mlayerNames\u001b[0m\u001b[0;34m)\u001b[0m\u001b[0;34m\u001b[0m\u001b[0;34m\u001b[0m\u001b[0m\n\u001b[0m\u001b[1;32m     51\u001b[0m         \u001b[0;31m# end = time.time()\u001b[0m\u001b[0;34m\u001b[0m\u001b[0;34m\u001b[0m\u001b[0;34m\u001b[0m\u001b[0m\n\u001b[1;32m     52\u001b[0m \u001b[0;34m\u001b[0m\u001b[0m\n",
      "\u001b[0;31mKeyboardInterrupt\u001b[0m: "
     ]
    }
   ],
   "source": [
    "from opencv_text_detector import TextDetector\n",
    "\n",
    "tqdm.pandas()\n",
    "detector = TextDetector()\n",
    "\n",
    "# df_csv['has_text'] = df_csv['image_path'].apply(detector.detect_text)\n",
    "df_csv['has_text'] = df_csv['image_path'].progress_apply(detector.detect_text)\n",
    "\n",
    "df_csv"
   ]
  },
  {
   "cell_type": "code",
   "execution_count": 8,
   "metadata": {},
   "outputs": [],
   "source": [
    "result_path = './csv_data/data_' + topic_name + '.csv'\n",
    "df_csv.to_csv(result_path)"
   ]
  },
  {
   "cell_type": "code",
   "execution_count": 15,
   "metadata": {},
   "outputs": [],
   "source": [
    "# filter out those images without text\n",
    "result_path = './csv_data/data_' + topic_name + '.csv'\n",
    "df_csv = pd.read_csv(result_path, index_col=0)\n",
    "\n",
    "df_csv_cleaned = df_csv[df_csv.has_text.eq(1)]\n",
    "df_csv_cleaned.drop(columns=['has_text'], inplace=True)\n",
    "df_csv_cleaned.reset_index(drop=True, inplace=True)\n",
    "\n",
    "result_cleaned_path = './csv_data/data_' + topic_name + '_cleaned.csv'\n",
    "df_csv_cleaned.to_csv(result_cleaned_path)"
   ]
  },
  {
   "cell_type": "code",
   "execution_count": 16,
   "metadata": {},
   "outputs": [
    {
     "output_type": "execute_result",
     "data": {
      "text/plain": [
       "                hashtag             tweet_id  \\\n",
       "0     vaccinesSaveLives  1300191578649235712   \n",
       "1     vaccinesSaveLives  1300184057733615616   \n",
       "2     vaccinesSaveLives  1299603371947483136   \n",
       "3     vaccinesSaveLives  1299937036640501760   \n",
       "4     vaccinesSaveLives  1291285670737084416   \n",
       "...                 ...                  ...   \n",
       "8124       VaccinesWork  1292070329066586112   \n",
       "8125       VaccinesWork  1292162361374019584   \n",
       "8126       VaccinesWork  1292145946197929984   \n",
       "8127       VaccinesWork  1292161343336910848   \n",
       "8128       VaccinesWork  1292300869132857088   \n",
       "\n",
       "                                             image_path  \\\n",
       "0     ./data_Vaccine/vaccinesSaveLives/tweets5/Egs1W...   \n",
       "1     ./data_Vaccine/vaccinesSaveLives/tweets5/Egsug...   \n",
       "2     ./data_Vaccine/vaccinesSaveLives/tweets5/EgkeT...   \n",
       "3     ./data_Vaccine/vaccinesSaveLives/tweets5/EgpN0...   \n",
       "4     ./data_Vaccine/vaccinesSaveLives/tweets1/EeuRd...   \n",
       "...                                                 ...   \n",
       "8124  ./data_Vaccine/VaccinesWork/tweets2/Ee5bGryXkA...   \n",
       "8125  ./data_Vaccine/VaccinesWork/tweets2/Ee6tOA0U8A...   \n",
       "8126  ./data_Vaccine/VaccinesWork/tweets2/Ee6f4_1WoA...   \n",
       "8127  ./data_Vaccine/VaccinesWork/tweets2/Ee6trl1WoA...   \n",
       "8128  ./data_Vaccine/VaccinesWork/tweets2/Ee8syjEWkA...   \n",
       "\n",
       "                                              body_text  \n",
       "0     @CDCgov #vaccine patents – Robert F Kennedy Jr...  \n",
       "1     @CDCgov #vaccine patents – Robert F Kennedy Jr...  \n",
       "2     #vhspl #Coolgix #BioMeds #blockchaincommunity ...  \n",
       "3     #vhspl #Coolgix #BioMeds #blockchaincommunity ...  \n",
       "4     In love 😍\\nThank you, @DrJennersHouse ❤️\\n\\n#E...  \n",
       "...                                                 ...  \n",
       "8124  Voor t eerst in m'n leven iemand geblocked. Da...  \n",
       "8125  First,\\n\\nPlease continue COVID precautions - ...  \n",
       "8126  Still trust Leigh-Allyn Baker? Do some researc...  \n",
       "8127  #JoJorgensen2020 #LetHerSpeak #VaccinesWork ht...  \n",
       "8128  #VaccinesWork  this made me lol https://t.co/r...  \n",
       "\n",
       "[8129 rows x 4 columns]"
      ],
      "text/html": "<div>\n<style scoped>\n    .dataframe tbody tr th:only-of-type {\n        vertical-align: middle;\n    }\n\n    .dataframe tbody tr th {\n        vertical-align: top;\n    }\n\n    .dataframe thead th {\n        text-align: right;\n    }\n</style>\n<table border=\"1\" class=\"dataframe\">\n  <thead>\n    <tr style=\"text-align: right;\">\n      <th></th>\n      <th>hashtag</th>\n      <th>tweet_id</th>\n      <th>image_path</th>\n      <th>body_text</th>\n    </tr>\n  </thead>\n  <tbody>\n    <tr>\n      <th>0</th>\n      <td>vaccinesSaveLives</td>\n      <td>1300191578649235712</td>\n      <td>./data_Vaccine/vaccinesSaveLives/tweets5/Egs1W...</td>\n      <td>@CDCgov #vaccine patents – Robert F Kennedy Jr...</td>\n    </tr>\n    <tr>\n      <th>1</th>\n      <td>vaccinesSaveLives</td>\n      <td>1300184057733615616</td>\n      <td>./data_Vaccine/vaccinesSaveLives/tweets5/Egsug...</td>\n      <td>@CDCgov #vaccine patents – Robert F Kennedy Jr...</td>\n    </tr>\n    <tr>\n      <th>2</th>\n      <td>vaccinesSaveLives</td>\n      <td>1299603371947483136</td>\n      <td>./data_Vaccine/vaccinesSaveLives/tweets5/EgkeT...</td>\n      <td>#vhspl #Coolgix #BioMeds #blockchaincommunity ...</td>\n    </tr>\n    <tr>\n      <th>3</th>\n      <td>vaccinesSaveLives</td>\n      <td>1299937036640501760</td>\n      <td>./data_Vaccine/vaccinesSaveLives/tweets5/EgpN0...</td>\n      <td>#vhspl #Coolgix #BioMeds #blockchaincommunity ...</td>\n    </tr>\n    <tr>\n      <th>4</th>\n      <td>vaccinesSaveLives</td>\n      <td>1291285670737084416</td>\n      <td>./data_Vaccine/vaccinesSaveLives/tweets1/EeuRd...</td>\n      <td>In love 😍\\nThank you, @DrJennersHouse ❤️\\n\\n#E...</td>\n    </tr>\n    <tr>\n      <th>...</th>\n      <td>...</td>\n      <td>...</td>\n      <td>...</td>\n      <td>...</td>\n    </tr>\n    <tr>\n      <th>8124</th>\n      <td>VaccinesWork</td>\n      <td>1292070329066586112</td>\n      <td>./data_Vaccine/VaccinesWork/tweets2/Ee5bGryXkA...</td>\n      <td>Voor t eerst in m'n leven iemand geblocked. Da...</td>\n    </tr>\n    <tr>\n      <th>8125</th>\n      <td>VaccinesWork</td>\n      <td>1292162361374019584</td>\n      <td>./data_Vaccine/VaccinesWork/tweets2/Ee6tOA0U8A...</td>\n      <td>First,\\n\\nPlease continue COVID precautions - ...</td>\n    </tr>\n    <tr>\n      <th>8126</th>\n      <td>VaccinesWork</td>\n      <td>1292145946197929984</td>\n      <td>./data_Vaccine/VaccinesWork/tweets2/Ee6f4_1WoA...</td>\n      <td>Still trust Leigh-Allyn Baker? Do some researc...</td>\n    </tr>\n    <tr>\n      <th>8127</th>\n      <td>VaccinesWork</td>\n      <td>1292161343336910848</td>\n      <td>./data_Vaccine/VaccinesWork/tweets2/Ee6trl1WoA...</td>\n      <td>#JoJorgensen2020 #LetHerSpeak #VaccinesWork ht...</td>\n    </tr>\n    <tr>\n      <th>8128</th>\n      <td>VaccinesWork</td>\n      <td>1292300869132857088</td>\n      <td>./data_Vaccine/VaccinesWork/tweets2/Ee8syjEWkA...</td>\n      <td>#VaccinesWork  this made me lol https://t.co/r...</td>\n    </tr>\n  </tbody>\n</table>\n<p>8129 rows × 4 columns</p>\n</div>"
     },
     "metadata": {},
     "execution_count": 16
    }
   ],
   "source": [
    "df_csv_cleaned"
   ]
  },
  {
   "source": [
    "### Count the tweets in different hashtags after cleaning"
   ],
   "cell_type": "markdown",
   "metadata": {}
  },
  {
   "cell_type": "code",
   "execution_count": 3,
   "metadata": {},
   "outputs": [],
   "source": [
    "result_cleaned_path = './csv_data/data_' + topic_name + '_cleaned.csv'\n",
    "df_csv_cleaned = pd.read_csv(result_cleaned_path, index_col=0)"
   ]
  },
  {
   "cell_type": "code",
   "execution_count": 14,
   "metadata": {},
   "outputs": [
    {
     "output_type": "execute_result",
     "data": {
      "text/plain": [
       "CoronavirusVaccine       2172\n",
       "CovidHoax                1374\n",
       "covidvaccine             1209\n",
       "VaccinesWork              843\n",
       "COVID19Vaccine            645\n",
       "FauciTheFraud             437\n",
       "scamdemic2020             312\n",
       "BillGatesBioTerrorist     301\n",
       "FireFauci                 262\n",
       "vaccinesSaveLives         124\n",
       "FauciLiedPeopleDied       121\n",
       "depopulation              102\n",
       "GetVaccinated              74\n",
       "Convid19                   61\n",
       "antivaxxers                55\n",
       "VaccineFreedom             24\n",
       "billgatesofhell            13\n",
       "Name: hashtag, dtype: int64"
      ]
     },
     "metadata": {},
     "execution_count": 14
    }
   ],
   "source": [
    "# count the tweets in different hashtags after cleaning\n",
    "df_csv_cleaned['hashtag'].value_counts()"
   ]
  }
 ]
}