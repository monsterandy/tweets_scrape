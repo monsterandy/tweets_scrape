{
 "metadata": {
  "language_info": {
   "codemirror_mode": {
    "name": "ipython",
    "version": 3
   },
   "file_extension": ".py",
   "mimetype": "text/x-python",
   "name": "python",
   "nbconvert_exporter": "python",
   "pygments_lexer": "ipython3",
   "version": "3.9.2"
  },
  "orig_nbformat": 2,
  "kernelspec": {
   "name": "python392jvsc74a57bd0cd1f5da85199302314bd73b2bb6f21c64cad1b4f001173fa3ddb4057b62cb3fe",
   "display_name": "Python 3.9.2 64-bit ('tweets': conda)"
  },
  "metadata": {
   "interpreter": {
    "hash": "cd1f5da85199302314bd73b2bb6f21c64cad1b4f001173fa3ddb4057b62cb3fe"
   }
  }
 },
 "nbformat": 4,
 "nbformat_minor": 2,
 "cells": [
  {
   "cell_type": "code",
   "execution_count": 1,
   "metadata": {},
   "outputs": [],
   "source": [
    "# specify the topic name here\n",
    "topic_name = 'Immigration'\n",
    "\n",
    "# entry folder for the data\n",
    "# should be the form of 'data_{topic_name}/'\n",
    "entry_folder = 'data_Immigration/'"
   ]
  },
  {
   "cell_type": "code",
   "execution_count": 2,
   "metadata": {},
   "outputs": [],
   "source": [
    "import os\n",
    "import glob\n",
    "import pandas as pd"
   ]
  },
  {
   "cell_type": "code",
   "execution_count": 3,
   "metadata": {},
   "outputs": [],
   "source": [
    "def get_image_path(image_url, csv_path):\n",
    "    image_name = image_url.split('/')[-1]\n",
    "    image_path = './' + csv_path[:-4] + '/' + image_name\n",
    "    return image_path"
   ]
  },
  {
   "cell_type": "code",
   "execution_count": 4,
   "metadata": {},
   "outputs": [
    {
     "output_type": "stream",
     "name": "stdout",
     "text": [
      "               bansharia:     3\n",
      "               MuslimBan:    70\n",
      "             immigration:  3281\n",
      "                liberals:   935\n",
      "                  deport:    25\n",
      "             NoBanNoWall:     3\n",
      "            americafirst:  2674\n",
      "         Antiimmigration:    13\n",
      "      refuggesnotwelcome:     0\n",
      "                refugees:  1923\n",
      "           illegalaliens:    65\n",
      "            buildthewall:  1373\n",
      "                banislam:    36\n",
      "         stoptheinvasion:    25\n",
      "        multiculturalism:    85\n",
      "           deportthemall:    11\n",
      "                 cdnpoli: 11333\n",
      "Topic: Immigration - Total tweets: 21855\n"
     ]
    }
   ],
   "source": [
    "df_csv = pd.DataFrame(columns=['hashtag', 'tweet_id', 'image_path', 'body_text'])\n",
    "df_csv['tweet_id'] = df_csv['tweet_id'].astype('int64')\n",
    "\n",
    "entries = os.listdir(entry_folder)\n",
    "for hashtag in entries:\n",
    "    if hashtag.startswith('.'): continue\n",
    "    list_files = glob.glob(entry_folder + hashtag + '/*.csv')\n",
    "    tweets_count = 0\n",
    "    for csv_path in list_files:\n",
    "        # print(csv_path)\n",
    "        temp_df = pd.read_csv(csv_path)\n",
    "        tweets_count += len(temp_df.index)\n",
    "        temp_df.drop(columns=['tweet_url'], inplace=True)\n",
    "        temp_df.rename({'text_data': 'body_text', 'media': 'image_path'}, axis='columns', inplace=True)\n",
    "        temp_df.insert(loc=0, column='hashtag', value=hashtag)\n",
    "        cols = temp_df.columns.tolist()\n",
    "        # before: cols = ['hashtag', 'image_path', 'body_text', 'tweet_id']\n",
    "        cols = cols[:1] + cols[-1:] + cols[1:-1]\n",
    "        temp_df = temp_df[cols]\n",
    "        temp_df['image_path'] = temp_df['image_path'].apply(get_image_path, csv_path=csv_path)\n",
    "        temp_df['tweet_id'] = temp_df['tweet_id'].astype('int64')\n",
    "        df_csv = df_csv.append(temp_df)\n",
    "    print('{:>24s}: {:>5}'.format(hashtag, tweets_count))\n",
    "print('Topic: {} - Total tweets: {:>5}'.format(topic_name, len(df_csv.index)))"
   ]
  },
  {
   "cell_type": "code",
   "execution_count": 5,
   "metadata": {},
   "outputs": [
    {
     "output_type": "execute_result",
     "data": {
      "text/plain": [
       "         hashtag             tweet_id  \\\n",
       "0      bansharia  1290045094125621248   \n",
       "1      bansharia  1289590876843290624   \n",
       "2      bansharia  1293161414580826112   \n",
       "3      MuslimBan  1290772302938943488   \n",
       "4      MuslimBan  1290683372759523328   \n",
       "...          ...                  ...   \n",
       "21850    cdnpoli  1299516876918108160   \n",
       "21851    cdnpoli  1299505580449595392   \n",
       "21852    cdnpoli  1299527942716837888   \n",
       "21853    cdnpoli  1299521504661639168   \n",
       "21854    cdnpoli  1299516946929590272   \n",
       "\n",
       "                                              image_path  \\\n",
       "0      ./data_Immigration/bansharia/tweets1/EecpLSkXk...   \n",
       "1      ./data_Immigration/bansharia/tweets1/EeWMEKGWA...   \n",
       "2      ./data_Immigration/bansharia/tweets2/EfI7c1ZU0...   \n",
       "3      ./data_Immigration/MuslimBan/tweets1/Eem-jhpWk...   \n",
       "4      ./data_Immigration/MuslimBan/tweets1/EeltloLVo...   \n",
       "...                                                  ...   \n",
       "21850  ./data_Immigration/cdnpoli/tweets5/EgjPtlQU8AE...   \n",
       "21851  ./data_Immigration/cdnpoli/tweets5/EgjFbkmXkAA...   \n",
       "21852  ./data_Immigration/cdnpoli/tweets5/EgedcHZWAAQ...   \n",
       "21853  ./data_Immigration/cdnpoli/tweets5/EgjSl_5WsAE...   \n",
       "21854  ./data_Immigration/cdnpoli/tweets5/EgjPCqxWAAI...   \n",
       "\n",
       "                                               body_text  \n",
       "0      @Ilhan #DNCisEVIL #DNCisAntiAmerican #BanShari...  \n",
       "1      @ErikaGrove14 @gopoundsand1234 @Ilhan Child br...  \n",
       "2      #bansharia and #deport these 4 #trump2020 #Tru...  \n",
       "3      @ElementSerpent @theangiestanton @RyanAFournie...  \n",
       "4      2016, 17, 18, 19, 20. This is the travel ban. ...  \n",
       "...                                                  ...  \n",
       "21850  The Alberta government is reportedly providing...  \n",
       "21851  “You have been well trained my young apprentic...  \n",
       "21852  Paramedics have had to respond to an average o...  \n",
       "21853  Mr. Erin O'Toole @ErinOTooleMP, where are the ...  \n",
       "21854  Have you figured it out yet?\\n\\n#TaxationIsThe...  \n",
       "\n",
       "[21855 rows x 4 columns]"
      ],
      "text/html": "<div>\n<style scoped>\n    .dataframe tbody tr th:only-of-type {\n        vertical-align: middle;\n    }\n\n    .dataframe tbody tr th {\n        vertical-align: top;\n    }\n\n    .dataframe thead th {\n        text-align: right;\n    }\n</style>\n<table border=\"1\" class=\"dataframe\">\n  <thead>\n    <tr style=\"text-align: right;\">\n      <th></th>\n      <th>hashtag</th>\n      <th>tweet_id</th>\n      <th>image_path</th>\n      <th>body_text</th>\n    </tr>\n  </thead>\n  <tbody>\n    <tr>\n      <th>0</th>\n      <td>bansharia</td>\n      <td>1290045094125621248</td>\n      <td>./data_Immigration/bansharia/tweets1/EecpLSkXk...</td>\n      <td>@Ilhan #DNCisEVIL #DNCisAntiAmerican #BanShari...</td>\n    </tr>\n    <tr>\n      <th>1</th>\n      <td>bansharia</td>\n      <td>1289590876843290624</td>\n      <td>./data_Immigration/bansharia/tweets1/EeWMEKGWA...</td>\n      <td>@ErikaGrove14 @gopoundsand1234 @Ilhan Child br...</td>\n    </tr>\n    <tr>\n      <th>2</th>\n      <td>bansharia</td>\n      <td>1293161414580826112</td>\n      <td>./data_Immigration/bansharia/tweets2/EfI7c1ZU0...</td>\n      <td>#bansharia and #deport these 4 #trump2020 #Tru...</td>\n    </tr>\n    <tr>\n      <th>3</th>\n      <td>MuslimBan</td>\n      <td>1290772302938943488</td>\n      <td>./data_Immigration/MuslimBan/tweets1/Eem-jhpWk...</td>\n      <td>@ElementSerpent @theangiestanton @RyanAFournie...</td>\n    </tr>\n    <tr>\n      <th>4</th>\n      <td>MuslimBan</td>\n      <td>1290683372759523328</td>\n      <td>./data_Immigration/MuslimBan/tweets1/EeltloLVo...</td>\n      <td>2016, 17, 18, 19, 20. This is the travel ban. ...</td>\n    </tr>\n    <tr>\n      <th>...</th>\n      <td>...</td>\n      <td>...</td>\n      <td>...</td>\n      <td>...</td>\n    </tr>\n    <tr>\n      <th>21850</th>\n      <td>cdnpoli</td>\n      <td>1299516876918108160</td>\n      <td>./data_Immigration/cdnpoli/tweets5/EgjPtlQU8AE...</td>\n      <td>The Alberta government is reportedly providing...</td>\n    </tr>\n    <tr>\n      <th>21851</th>\n      <td>cdnpoli</td>\n      <td>1299505580449595392</td>\n      <td>./data_Immigration/cdnpoli/tweets5/EgjFbkmXkAA...</td>\n      <td>“You have been well trained my young apprentic...</td>\n    </tr>\n    <tr>\n      <th>21852</th>\n      <td>cdnpoli</td>\n      <td>1299527942716837888</td>\n      <td>./data_Immigration/cdnpoli/tweets5/EgedcHZWAAQ...</td>\n      <td>Paramedics have had to respond to an average o...</td>\n    </tr>\n    <tr>\n      <th>21853</th>\n      <td>cdnpoli</td>\n      <td>1299521504661639168</td>\n      <td>./data_Immigration/cdnpoli/tweets5/EgjSl_5WsAE...</td>\n      <td>Mr. Erin O'Toole @ErinOTooleMP, where are the ...</td>\n    </tr>\n    <tr>\n      <th>21854</th>\n      <td>cdnpoli</td>\n      <td>1299516946929590272</td>\n      <td>./data_Immigration/cdnpoli/tweets5/EgjPCqxWAAI...</td>\n      <td>Have you figured it out yet?\\n\\n#TaxationIsThe...</td>\n    </tr>\n  </tbody>\n</table>\n<p>21855 rows × 4 columns</p>\n</div>"
     },
     "metadata": {},
     "execution_count": 5
    }
   ],
   "source": [
    "df_csv.reset_index(drop=True, inplace=True)\n",
    "df_csv"
   ]
  },
  {
   "cell_type": "code",
   "execution_count": 6,
   "metadata": {},
   "outputs": [],
   "source": [
    "result_path = './csv_data/data_' + topic_name + '.csv'\n",
    "df_csv.to_csv(result_path)"
   ]
  }
 ]
}