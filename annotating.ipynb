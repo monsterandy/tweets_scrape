{
 "metadata": {
  "language_info": {
   "codemirror_mode": {
    "name": "ipython",
    "version": 3
   },
   "file_extension": ".py",
   "mimetype": "text/x-python",
   "name": "python",
   "nbconvert_exporter": "python",
   "pygments_lexer": "ipython3",
   "version": "3.9.2"
  },
  "orig_nbformat": 2,
  "kernelspec": {
   "name": "python3",
   "display_name": "Python 3.9.2 64-bit ('tweets': conda)"
  },
  "interpreter": {
   "hash": "cd1f5da85199302314bd73b2bb6f21c64cad1b4f001173fa3ddb4057b62cb3fe"
  }
 },
 "nbformat": 4,
 "nbformat_minor": 2,
 "cells": [
  {
   "cell_type": "code",
   "execution_count": 1,
   "metadata": {},
   "outputs": [],
   "source": [
    "import os\n",
    "import re\n",
    "from pathlib import Path\n",
    "from shutil import copyfile\n",
    "import pandas as pd\n",
    "import numpy as np"
   ]
  },
  {
   "cell_type": "code",
   "execution_count": 2,
   "metadata": {},
   "outputs": [],
   "source": [
    "data_folder = './csv_data'\n",
    "total_samples = 2400"
   ]
  },
  {
   "cell_type": "code",
   "execution_count": 3,
   "metadata": {},
   "outputs": [
    {
     "output_type": "stream",
     "name": "stdout",
     "text": [
      "Political    29663  \n",
      "Immigration  6854   \n",
      "AsianHate    1602   \n",
      "Boomer       2184   \n",
      "Vaccine      2671   \n",
      "Mask         20149  \n"
     ]
    }
   ],
   "source": [
    "df_count = pd.DataFrame(columns=['topic', 'count', 'proportion_count'])\n",
    "\n",
    "csv_dfs = {}\n",
    "total_count = 0\n",
    "\n",
    "entries = os.listdir(data_folder)\n",
    "regex = re.compile('data_([a-zA-Z]*)_nodups_wobj\\.csv')\n",
    "\n",
    "for filename in entries:\n",
    "    if filename.startswith('.'): continue\n",
    "    matched = regex.search(filename)\n",
    "    if matched:\n",
    "        topic_name = matched.group(1)\n",
    "        csv_path = os.path.join(data_folder, filename)\n",
    "        csv_dfs[topic_name] = pd.read_csv(csv_path, index_col=0)\n",
    "        row_count = len(csv_dfs[topic_name].index)\n",
    "        total_count += row_count\n",
    "        df_count.loc[len(df_count)] = [topic_name, row_count, -1]\n",
    "        print('{:<13}{:<7}'.format(topic_name, row_count))\n"
   ]
  },
  {
   "cell_type": "code",
   "execution_count": 4,
   "metadata": {},
   "outputs": [],
   "source": [
    "# df_count['proportion_count'] = df_count['count'].apply(lambda x: round((x/total_count)*total_samples))\n",
    "df_count['proportion_count'] = round(total_samples / len(df_count.index))"
   ]
  },
  {
   "cell_type": "code",
   "execution_count": 5,
   "metadata": {},
   "outputs": [
    {
     "output_type": "execute_result",
     "data": {
      "text/plain": [
       "         topic  count  proportion_count\n",
       "0    Political  29663               400\n",
       "1  Immigration   6854               400\n",
       "2    AsianHate   1602               400\n",
       "3       Boomer   2184               400\n",
       "4      Vaccine   2671               400\n",
       "5         Mask  20149               400"
      ],
      "text/html": "<div>\n<style scoped>\n    .dataframe tbody tr th:only-of-type {\n        vertical-align: middle;\n    }\n\n    .dataframe tbody tr th {\n        vertical-align: top;\n    }\n\n    .dataframe thead th {\n        text-align: right;\n    }\n</style>\n<table border=\"1\" class=\"dataframe\">\n  <thead>\n    <tr style=\"text-align: right;\">\n      <th></th>\n      <th>topic</th>\n      <th>count</th>\n      <th>proportion_count</th>\n    </tr>\n  </thead>\n  <tbody>\n    <tr>\n      <th>0</th>\n      <td>Political</td>\n      <td>29663</td>\n      <td>400</td>\n    </tr>\n    <tr>\n      <th>1</th>\n      <td>Immigration</td>\n      <td>6854</td>\n      <td>400</td>\n    </tr>\n    <tr>\n      <th>2</th>\n      <td>AsianHate</td>\n      <td>1602</td>\n      <td>400</td>\n    </tr>\n    <tr>\n      <th>3</th>\n      <td>Boomer</td>\n      <td>2184</td>\n      <td>400</td>\n    </tr>\n    <tr>\n      <th>4</th>\n      <td>Vaccine</td>\n      <td>2671</td>\n      <td>400</td>\n    </tr>\n    <tr>\n      <th>5</th>\n      <td>Mask</td>\n      <td>20149</td>\n      <td>400</td>\n    </tr>\n  </tbody>\n</table>\n</div>"
     },
     "metadata": {},
     "execution_count": 5
    }
   ],
   "source": [
    "df_count.to_csv('./csv_data/sample_count.csv', index=False)\n",
    "df_count"
   ]
  },
  {
   "cell_type": "code",
   "execution_count": 6,
   "metadata": {},
   "outputs": [
    {
     "output_type": "execute_result",
     "data": {
      "text/plain": [
       "2400"
      ]
     },
     "metadata": {},
     "execution_count": 6
    }
   ],
   "source": [
    "df_count['proportion_count'].sum()"
   ]
  },
  {
   "cell_type": "code",
   "execution_count": 7,
   "metadata": {},
   "outputs": [
    {
     "output_type": "execute_result",
     "data": {
      "text/plain": [
       "          topic                hashtag             tweet_id  \\\n",
       "0          Mask               masksoff  1290868734429560833   \n",
       "1       Vaccine              CovidHoax  1298333011654533121   \n",
       "2     AsianHate             ChinaVirus  1298416220341809153   \n",
       "3       Vaccine         COVID19Vaccine  1297957738069110784   \n",
       "4          Mask                NoMasks  1295274000311099392   \n",
       "...         ...                    ...                  ...   \n",
       "2395    Vaccine              CovidHoax  1289652181981786114   \n",
       "2396  AsianHate             ChinaVirus  1299044347480928257   \n",
       "2397  AsianHate               CCPVirus  1290292534346883077   \n",
       "2398     Boomer  trumpliesamericansdie  1299009244696645632   \n",
       "2399  AsianHate             ChinaVirus  1291407105531031552   \n",
       "\n",
       "                                             image_path sample_path  \\\n",
       "0      ./data_Mask/masksoff/tweets1/EeoWRcMUcAkQCPv.jpg         NaN   \n",
       "1     ./data_Vaccine/CovidHoax/tweets4/EgSYL8-UEAAvm...         NaN   \n",
       "2     ./data_AsianHate/ChinaVirus/tweets4/EgTmq8KVoA...         NaN   \n",
       "3     ./data_Vaccine/COVID19Vaccine/tweets4/EgNFrqDU...         NaN   \n",
       "4       ./data_Mask/NoMasks/tweets3/Efm8eAkWkAAdDdq.jpg         NaN   \n",
       "...                                                 ...         ...   \n",
       "2395  ./data_Vaccine/CovidHoax/tweets1/EeXD00OXsAAHT...         NaN   \n",
       "2396  ./data_AsianHate/ChinaVirus/tweets4/Egch8qDVAA...         NaN   \n",
       "2397  ./data_AsianHate/CCPVirus/tweets1/EegKN1sXsAEv...         NaN   \n",
       "2398  ./data_Boomer/trumpliesamericansdie/tweets4/Eg...         NaN   \n",
       "2399  ./data_AsianHate/ChinaVirus/tweets1/Eev_6t_XYA...         NaN   \n",
       "\n",
       "                                              body_text image_text  \n",
       "0     @realDonaldTrump Is this the correct way to we...        NaN  \n",
       "1     #covidHOAX #PLANDEMIC \\n\\nWhy FORCE vaccines?\\...        NaN  \n",
       "2     In a “wartime state” of lockdown, residents in...        NaN  \n",
       "3     @briantylercohen @realDonaldTrump needs Russia...        NaN  \n",
       "4     @Uber ...you won't be getting my business from...        NaN  \n",
       "...                                                 ...        ...  \n",
       "2395  As Unemployment Benefits End Today Trump Admin...        NaN  \n",
       "2396  @TheBrandonMorse @shiroihamusan Told you 😀 \\n\\...        NaN  \n",
       "2397  @realDonaldTrump Chinese communist party won’t...        NaN  \n",
       "2398  .@vp Pence should really stop plagiarizing the...        NaN  \n",
       "2399  @MSNBC @kurtbardella Wouldn’t have to be negot...        NaN  \n",
       "\n",
       "[2400 rows x 7 columns]"
      ],
      "text/html": "<div>\n<style scoped>\n    .dataframe tbody tr th:only-of-type {\n        vertical-align: middle;\n    }\n\n    .dataframe tbody tr th {\n        vertical-align: top;\n    }\n\n    .dataframe thead th {\n        text-align: right;\n    }\n</style>\n<table border=\"1\" class=\"dataframe\">\n  <thead>\n    <tr style=\"text-align: right;\">\n      <th></th>\n      <th>topic</th>\n      <th>hashtag</th>\n      <th>tweet_id</th>\n      <th>image_path</th>\n      <th>sample_path</th>\n      <th>body_text</th>\n      <th>image_text</th>\n    </tr>\n  </thead>\n  <tbody>\n    <tr>\n      <th>0</th>\n      <td>Mask</td>\n      <td>masksoff</td>\n      <td>1290868734429560833</td>\n      <td>./data_Mask/masksoff/tweets1/EeoWRcMUcAkQCPv.jpg</td>\n      <td>NaN</td>\n      <td>@realDonaldTrump Is this the correct way to we...</td>\n      <td>NaN</td>\n    </tr>\n    <tr>\n      <th>1</th>\n      <td>Vaccine</td>\n      <td>CovidHoax</td>\n      <td>1298333011654533121</td>\n      <td>./data_Vaccine/CovidHoax/tweets4/EgSYL8-UEAAvm...</td>\n      <td>NaN</td>\n      <td>#covidHOAX #PLANDEMIC \\n\\nWhy FORCE vaccines?\\...</td>\n      <td>NaN</td>\n    </tr>\n    <tr>\n      <th>2</th>\n      <td>AsianHate</td>\n      <td>ChinaVirus</td>\n      <td>1298416220341809153</td>\n      <td>./data_AsianHate/ChinaVirus/tweets4/EgTmq8KVoA...</td>\n      <td>NaN</td>\n      <td>In a “wartime state” of lockdown, residents in...</td>\n      <td>NaN</td>\n    </tr>\n    <tr>\n      <th>3</th>\n      <td>Vaccine</td>\n      <td>COVID19Vaccine</td>\n      <td>1297957738069110784</td>\n      <td>./data_Vaccine/COVID19Vaccine/tweets4/EgNFrqDU...</td>\n      <td>NaN</td>\n      <td>@briantylercohen @realDonaldTrump needs Russia...</td>\n      <td>NaN</td>\n    </tr>\n    <tr>\n      <th>4</th>\n      <td>Mask</td>\n      <td>NoMasks</td>\n      <td>1295274000311099392</td>\n      <td>./data_Mask/NoMasks/tweets3/Efm8eAkWkAAdDdq.jpg</td>\n      <td>NaN</td>\n      <td>@Uber ...you won't be getting my business from...</td>\n      <td>NaN</td>\n    </tr>\n    <tr>\n      <th>...</th>\n      <td>...</td>\n      <td>...</td>\n      <td>...</td>\n      <td>...</td>\n      <td>...</td>\n      <td>...</td>\n      <td>...</td>\n    </tr>\n    <tr>\n      <th>2395</th>\n      <td>Vaccine</td>\n      <td>CovidHoax</td>\n      <td>1289652181981786114</td>\n      <td>./data_Vaccine/CovidHoax/tweets1/EeXD00OXsAAHT...</td>\n      <td>NaN</td>\n      <td>As Unemployment Benefits End Today Trump Admin...</td>\n      <td>NaN</td>\n    </tr>\n    <tr>\n      <th>2396</th>\n      <td>AsianHate</td>\n      <td>ChinaVirus</td>\n      <td>1299044347480928257</td>\n      <td>./data_AsianHate/ChinaVirus/tweets4/Egch8qDVAA...</td>\n      <td>NaN</td>\n      <td>@TheBrandonMorse @shiroihamusan Told you 😀 \\n\\...</td>\n      <td>NaN</td>\n    </tr>\n    <tr>\n      <th>2397</th>\n      <td>AsianHate</td>\n      <td>CCPVirus</td>\n      <td>1290292534346883077</td>\n      <td>./data_AsianHate/CCPVirus/tweets1/EegKN1sXsAEv...</td>\n      <td>NaN</td>\n      <td>@realDonaldTrump Chinese communist party won’t...</td>\n      <td>NaN</td>\n    </tr>\n    <tr>\n      <th>2398</th>\n      <td>Boomer</td>\n      <td>trumpliesamericansdie</td>\n      <td>1299009244696645632</td>\n      <td>./data_Boomer/trumpliesamericansdie/tweets4/Eg...</td>\n      <td>NaN</td>\n      <td>.@vp Pence should really stop plagiarizing the...</td>\n      <td>NaN</td>\n    </tr>\n    <tr>\n      <th>2399</th>\n      <td>AsianHate</td>\n      <td>ChinaVirus</td>\n      <td>1291407105531031552</td>\n      <td>./data_AsianHate/ChinaVirus/tweets1/Eev_6t_XYA...</td>\n      <td>NaN</td>\n      <td>@MSNBC @kurtbardella Wouldn’t have to be negot...</td>\n      <td>NaN</td>\n    </tr>\n  </tbody>\n</table>\n<p>2400 rows × 7 columns</p>\n</div>"
     },
     "metadata": {},
     "execution_count": 7
    }
   ],
   "source": [
    "df_samples = pd.DataFrame(columns=['topic', 'hashtag', 'tweet_id', 'image_path', 'sample_path', 'body_text', 'image_text'])\n",
    "\n",
    "for _, row in df_count.iterrows():\n",
    "    topic_name = row['topic']\n",
    "    df_topic = csv_dfs[topic_name].sample(n=row['proportion_count'], random_state=42)\n",
    "    df_topic.insert(loc=0, column='topic', value=topic_name)\n",
    "    df_topic.insert(loc=4, column='sample_path', value=np.nan)\n",
    "    df_topic.insert(loc=len(df_topic.columns), column='image_text', value=np.nan)\n",
    "    df_samples = df_samples.append(df_topic)\n",
    "\n",
    "df_samples = df_samples.sample(frac=1, random_state=42).reset_index(drop=True)\n",
    "df_samples.to_csv('./csv_data/sample_data.csv', index=False)\n",
    "df_samples"
   ]
  },
  {
   "source": [
    "# Please only run cells below\n",
    "\n",
    "## Copy selected samples and generate sample path\n",
    "\n",
    "### Before running this part, please check that the topics you want to process is NOT in the annotation_data folder"
   ],
   "cell_type": "markdown",
   "metadata": {}
  },
  {
   "cell_type": "code",
   "execution_count": 8,
   "metadata": {},
   "outputs": [],
   "source": [
    "import os\n",
    "from pathlib import Path\n",
    "from shutil import copyfile\n",
    "import pandas as pd\n",
    "import numpy as np"
   ]
  },
  {
   "cell_type": "code",
   "execution_count": 9,
   "metadata": {},
   "outputs": [],
   "source": [
    "df_count = pd.read_csv('./csv_data/sample_count.csv')\n",
    "df_samples = pd.read_csv('./csv_data/sample_data.csv')"
   ]
  },
  {
   "cell_type": "code",
   "execution_count": 10,
   "metadata": {},
   "outputs": [],
   "source": [
    "def get_sample_path_and_copy(df, topic, annot_data_path):\n",
    "    # if the sample_path already exists\n",
    "    if not pd.isna(df['sample_path']):\n",
    "        return df['sample_path']\n",
    "\n",
    "    # if topic is not the selected topic\n",
    "    if pd.isna(df['sample_path']) and df['topic'] != topic:\n",
    "        return np.nan\n",
    "    \n",
    "    image_name = df['image_path'].split('/')[-1]\n",
    "    dst_path = os.path.join(annot_data_path, image_name)\n",
    "    copyfile(df['image_path'], dst_path)\n",
    "    return dst_path"
   ]
  },
  {
   "cell_type": "code",
   "execution_count": 11,
   "metadata": {
    "tags": []
   },
   "outputs": [
    {
     "output_type": "stream",
     "name": "stdout",
     "text": [
      "./data_Political not exists; pass this topic\n",
      "Topic \"Immigration\" processed\n",
      "./data_AsianHate not exists; pass this topic\n",
      "./data_Boomer not exists; pass this topic\n",
      "Topic \"Vaccine\" processed\n",
      "./data_Mask not exists; pass this topic\n"
     ]
    }
   ],
   "source": [
    "sample_folder = './annotation_data'\n",
    "Path(sample_folder).mkdir(exist_ok=True)\n",
    "\n",
    "for _, row in df_count.iterrows():\n",
    "    topic_name = row['topic']\n",
    "    topic_data_path = os.path.join('./', 'data_' + topic_name)\n",
    "    annot_data_path = os.path.join(sample_folder, topic_name)\n",
    "    # if data_{topic_name} folder doesn't exist\n",
    "    if not Path(topic_data_path).is_dir():\n",
    "        print('{} not exists; pass this topic'.format(topic_data_path))\n",
    "        continue\n",
    "\n",
    "    # if the sampled data for this topic already exists\n",
    "    if Path(annot_data_path).is_dir():\n",
    "        print('{} already exist; pass this topic'.format(annot_data_path))\n",
    "        continue\n",
    "\n",
    "    Path(annot_data_path).mkdir()\n",
    "\n",
    "    df_samples['sample_path'] = df_samples.apply(get_sample_path_and_copy, axis=1, topic=topic_name, annot_data_path=annot_data_path)\n",
    "\n",
    "    print('Topic \\\"{}\\\" processed'.format(topic_name))"
   ]
  },
  {
   "cell_type": "code",
   "execution_count": 12,
   "metadata": {},
   "outputs": [
    {
     "output_type": "execute_result",
     "data": {
      "text/plain": [
       "          topic                hashtag             tweet_id  \\\n",
       "0          Mask               masksoff  1290868734429560833   \n",
       "1       Vaccine              CovidHoax  1298333011654533121   \n",
       "2     AsianHate             ChinaVirus  1298416220341809153   \n",
       "3       Vaccine         COVID19Vaccine  1297957738069110784   \n",
       "4          Mask                NoMasks  1295274000311099392   \n",
       "...         ...                    ...                  ...   \n",
       "2395    Vaccine              CovidHoax  1289652181981786114   \n",
       "2396  AsianHate             ChinaVirus  1299044347480928257   \n",
       "2397  AsianHate               CCPVirus  1290292534346883077   \n",
       "2398     Boomer  trumpliesamericansdie  1299009244696645632   \n",
       "2399  AsianHate             ChinaVirus  1291407105531031552   \n",
       "\n",
       "                                             image_path  \\\n",
       "0      ./data_Mask/masksoff/tweets1/EeoWRcMUcAkQCPv.jpg   \n",
       "1     ./data_Vaccine/CovidHoax/tweets4/EgSYL8-UEAAvm...   \n",
       "2     ./data_AsianHate/ChinaVirus/tweets4/EgTmq8KVoA...   \n",
       "3     ./data_Vaccine/COVID19Vaccine/tweets4/EgNFrqDU...   \n",
       "4       ./data_Mask/NoMasks/tweets3/Efm8eAkWkAAdDdq.jpg   \n",
       "...                                                 ...   \n",
       "2395  ./data_Vaccine/CovidHoax/tweets1/EeXD00OXsAAHT...   \n",
       "2396  ./data_AsianHate/ChinaVirus/tweets4/Egch8qDVAA...   \n",
       "2397  ./data_AsianHate/CCPVirus/tweets1/EegKN1sXsAEv...   \n",
       "2398  ./data_Boomer/trumpliesamericansdie/tweets4/Eg...   \n",
       "2399  ./data_AsianHate/ChinaVirus/tweets1/Eev_6t_XYA...   \n",
       "\n",
       "                                        sample_path  \\\n",
       "0                                               NaN   \n",
       "1     ./annotation_data/Vaccine/EgSYL8-UEAAvmqv.jpg   \n",
       "2                                               NaN   \n",
       "3     ./annotation_data/Vaccine/EgNFrqDU4AAnVOF.jpg   \n",
       "4                                               NaN   \n",
       "...                                             ...   \n",
       "2395  ./annotation_data/Vaccine/EeXD00OXsAAHTF9.jpg   \n",
       "2396                                            NaN   \n",
       "2397                                            NaN   \n",
       "2398                                            NaN   \n",
       "2399                                            NaN   \n",
       "\n",
       "                                              body_text  image_text  \n",
       "0     @realDonaldTrump Is this the correct way to we...         NaN  \n",
       "1     #covidHOAX #PLANDEMIC \\n\\nWhy FORCE vaccines?\\...         NaN  \n",
       "2     In a “wartime state” of lockdown, residents in...         NaN  \n",
       "3     @briantylercohen @realDonaldTrump needs Russia...         NaN  \n",
       "4     @Uber ...you won't be getting my business from...         NaN  \n",
       "...                                                 ...         ...  \n",
       "2395  As Unemployment Benefits End Today Trump Admin...         NaN  \n",
       "2396  @TheBrandonMorse @shiroihamusan Told you 😀 \\n\\...         NaN  \n",
       "2397  @realDonaldTrump Chinese communist party won’t...         NaN  \n",
       "2398  .@vp Pence should really stop plagiarizing the...         NaN  \n",
       "2399  @MSNBC @kurtbardella Wouldn’t have to be negot...         NaN  \n",
       "\n",
       "[2400 rows x 7 columns]"
      ],
      "text/html": "<div>\n<style scoped>\n    .dataframe tbody tr th:only-of-type {\n        vertical-align: middle;\n    }\n\n    .dataframe tbody tr th {\n        vertical-align: top;\n    }\n\n    .dataframe thead th {\n        text-align: right;\n    }\n</style>\n<table border=\"1\" class=\"dataframe\">\n  <thead>\n    <tr style=\"text-align: right;\">\n      <th></th>\n      <th>topic</th>\n      <th>hashtag</th>\n      <th>tweet_id</th>\n      <th>image_path</th>\n      <th>sample_path</th>\n      <th>body_text</th>\n      <th>image_text</th>\n    </tr>\n  </thead>\n  <tbody>\n    <tr>\n      <th>0</th>\n      <td>Mask</td>\n      <td>masksoff</td>\n      <td>1290868734429560833</td>\n      <td>./data_Mask/masksoff/tweets1/EeoWRcMUcAkQCPv.jpg</td>\n      <td>NaN</td>\n      <td>@realDonaldTrump Is this the correct way to we...</td>\n      <td>NaN</td>\n    </tr>\n    <tr>\n      <th>1</th>\n      <td>Vaccine</td>\n      <td>CovidHoax</td>\n      <td>1298333011654533121</td>\n      <td>./data_Vaccine/CovidHoax/tweets4/EgSYL8-UEAAvm...</td>\n      <td>./annotation_data/Vaccine/EgSYL8-UEAAvmqv.jpg</td>\n      <td>#covidHOAX #PLANDEMIC \\n\\nWhy FORCE vaccines?\\...</td>\n      <td>NaN</td>\n    </tr>\n    <tr>\n      <th>2</th>\n      <td>AsianHate</td>\n      <td>ChinaVirus</td>\n      <td>1298416220341809153</td>\n      <td>./data_AsianHate/ChinaVirus/tweets4/EgTmq8KVoA...</td>\n      <td>NaN</td>\n      <td>In a “wartime state” of lockdown, residents in...</td>\n      <td>NaN</td>\n    </tr>\n    <tr>\n      <th>3</th>\n      <td>Vaccine</td>\n      <td>COVID19Vaccine</td>\n      <td>1297957738069110784</td>\n      <td>./data_Vaccine/COVID19Vaccine/tweets4/EgNFrqDU...</td>\n      <td>./annotation_data/Vaccine/EgNFrqDU4AAnVOF.jpg</td>\n      <td>@briantylercohen @realDonaldTrump needs Russia...</td>\n      <td>NaN</td>\n    </tr>\n    <tr>\n      <th>4</th>\n      <td>Mask</td>\n      <td>NoMasks</td>\n      <td>1295274000311099392</td>\n      <td>./data_Mask/NoMasks/tweets3/Efm8eAkWkAAdDdq.jpg</td>\n      <td>NaN</td>\n      <td>@Uber ...you won't be getting my business from...</td>\n      <td>NaN</td>\n    </tr>\n    <tr>\n      <th>...</th>\n      <td>...</td>\n      <td>...</td>\n      <td>...</td>\n      <td>...</td>\n      <td>...</td>\n      <td>...</td>\n      <td>...</td>\n    </tr>\n    <tr>\n      <th>2395</th>\n      <td>Vaccine</td>\n      <td>CovidHoax</td>\n      <td>1289652181981786114</td>\n      <td>./data_Vaccine/CovidHoax/tweets1/EeXD00OXsAAHT...</td>\n      <td>./annotation_data/Vaccine/EeXD00OXsAAHTF9.jpg</td>\n      <td>As Unemployment Benefits End Today Trump Admin...</td>\n      <td>NaN</td>\n    </tr>\n    <tr>\n      <th>2396</th>\n      <td>AsianHate</td>\n      <td>ChinaVirus</td>\n      <td>1299044347480928257</td>\n      <td>./data_AsianHate/ChinaVirus/tweets4/Egch8qDVAA...</td>\n      <td>NaN</td>\n      <td>@TheBrandonMorse @shiroihamusan Told you 😀 \\n\\...</td>\n      <td>NaN</td>\n    </tr>\n    <tr>\n      <th>2397</th>\n      <td>AsianHate</td>\n      <td>CCPVirus</td>\n      <td>1290292534346883077</td>\n      <td>./data_AsianHate/CCPVirus/tweets1/EegKN1sXsAEv...</td>\n      <td>NaN</td>\n      <td>@realDonaldTrump Chinese communist party won’t...</td>\n      <td>NaN</td>\n    </tr>\n    <tr>\n      <th>2398</th>\n      <td>Boomer</td>\n      <td>trumpliesamericansdie</td>\n      <td>1299009244696645632</td>\n      <td>./data_Boomer/trumpliesamericansdie/tweets4/Eg...</td>\n      <td>NaN</td>\n      <td>.@vp Pence should really stop plagiarizing the...</td>\n      <td>NaN</td>\n    </tr>\n    <tr>\n      <th>2399</th>\n      <td>AsianHate</td>\n      <td>ChinaVirus</td>\n      <td>1291407105531031552</td>\n      <td>./data_AsianHate/ChinaVirus/tweets1/Eev_6t_XYA...</td>\n      <td>NaN</td>\n      <td>@MSNBC @kurtbardella Wouldn’t have to be negot...</td>\n      <td>NaN</td>\n    </tr>\n  </tbody>\n</table>\n<p>2400 rows × 7 columns</p>\n</div>"
     },
     "metadata": {},
     "execution_count": 12
    }
   ],
   "source": [
    "df_samples.to_csv('./csv_data/sample_data.csv', index=False)\n",
    "df_samples"
   ]
  },
  {
   "cell_type": "code",
   "execution_count": null,
   "metadata": {},
   "outputs": [],
   "source": []
  }
 ]
}