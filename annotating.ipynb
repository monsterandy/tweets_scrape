{
 "metadata": {
  "language_info": {
   "codemirror_mode": {
    "name": "ipython",
    "version": 3
   },
   "file_extension": ".py",
   "mimetype": "text/x-python",
   "name": "python",
   "nbconvert_exporter": "python",
   "pygments_lexer": "ipython3",
   "version": "3.9.2"
  },
  "orig_nbformat": 2,
  "kernelspec": {
   "name": "python392jvsc74a57bd0cd1f5da85199302314bd73b2bb6f21c64cad1b4f001173fa3ddb4057b62cb3fe",
   "display_name": "Python 3.9.2 64-bit ('tweets': conda)"
  }
 },
 "nbformat": 4,
 "nbformat_minor": 2,
 "cells": [
  {
   "cell_type": "code",
   "execution_count": 1,
   "metadata": {},
   "outputs": [],
   "source": [
    "import os\n",
    "import re\n",
    "from pathlib import Path\n",
    "from shutil import copyfile\n",
    "import pandas as pd"
   ]
  },
  {
   "cell_type": "code",
   "execution_count": 2,
   "metadata": {},
   "outputs": [],
   "source": [
    "data_folder = './csv_data'\n",
    "total_samples = 2400"
   ]
  },
  {
   "cell_type": "code",
   "execution_count": 3,
   "metadata": {},
   "outputs": [
    {
     "output_type": "stream",
     "name": "stdout",
     "text": [
      "Immigration  6854   \n",
      "AsianHate    1602   \n",
      "Boomer       2184   \n",
      "Vaccine      2671   \n",
      "Mask         20149  \n"
     ]
    }
   ],
   "source": [
    "df_count = pd.DataFrame(columns=['topic', 'count', 'proportion_count'])\n",
    "\n",
    "csv_dfs = {}\n",
    "total_count = 0\n",
    "\n",
    "entries = os.listdir(data_folder)\n",
    "regex = re.compile('data_([a-zA-Z]*)_nodups_wobj\\.csv')\n",
    "\n",
    "for filename in entries:\n",
    "    if filename.startswith('.'): continue\n",
    "    matched = regex.search(filename)\n",
    "    if matched:\n",
    "        topic_name = matched.group(1)\n",
    "        csv_path = os.path.join(data_folder, filename)\n",
    "        csv_dfs[topic_name] = pd.read_csv(csv_path, index_col=0)\n",
    "        row_count = len(csv_dfs[topic_name].index)\n",
    "        total_count += row_count\n",
    "        df_count.loc[len(df_count)] = [topic_name, row_count, -1]\n",
    "        print('{:<13}{:<7}'.format(topic_name, row_count))\n"
   ]
  },
  {
   "cell_type": "code",
   "execution_count": 4,
   "metadata": {},
   "outputs": [],
   "source": [
    "df_count['proportion_count'] = df_count['count'].apply(lambda x: round((x/total_count)*total_samples))"
   ]
  },
  {
   "cell_type": "code",
   "execution_count": 5,
   "metadata": {},
   "outputs": [
    {
     "output_type": "execute_result",
     "data": {
      "text/plain": [
       "         topic  count  proportion_count\n",
       "0  Immigration   6854               492\n",
       "1    AsianHate   1602               115\n",
       "2       Boomer   2184               157\n",
       "3      Vaccine   2671               192\n",
       "4         Mask  20149              1445"
      ],
      "text/html": "<div>\n<style scoped>\n    .dataframe tbody tr th:only-of-type {\n        vertical-align: middle;\n    }\n\n    .dataframe tbody tr th {\n        vertical-align: top;\n    }\n\n    .dataframe thead th {\n        text-align: right;\n    }\n</style>\n<table border=\"1\" class=\"dataframe\">\n  <thead>\n    <tr style=\"text-align: right;\">\n      <th></th>\n      <th>topic</th>\n      <th>count</th>\n      <th>proportion_count</th>\n    </tr>\n  </thead>\n  <tbody>\n    <tr>\n      <th>0</th>\n      <td>Immigration</td>\n      <td>6854</td>\n      <td>492</td>\n    </tr>\n    <tr>\n      <th>1</th>\n      <td>AsianHate</td>\n      <td>1602</td>\n      <td>115</td>\n    </tr>\n    <tr>\n      <th>2</th>\n      <td>Boomer</td>\n      <td>2184</td>\n      <td>157</td>\n    </tr>\n    <tr>\n      <th>3</th>\n      <td>Vaccine</td>\n      <td>2671</td>\n      <td>192</td>\n    </tr>\n    <tr>\n      <th>4</th>\n      <td>Mask</td>\n      <td>20149</td>\n      <td>1445</td>\n    </tr>\n  </tbody>\n</table>\n</div>"
     },
     "metadata": {},
     "execution_count": 5
    }
   ],
   "source": [
    "df_count.to_csv('./csv_data/sample_count.csv', index=False)\n",
    "df_count"
   ]
  },
  {
   "cell_type": "code",
   "execution_count": 6,
   "metadata": {},
   "outputs": [
    {
     "output_type": "execute_result",
     "data": {
      "text/plain": [
       "2401"
      ]
     },
     "metadata": {},
     "execution_count": 6
    }
   ],
   "source": [
    "df_count['proportion_count'].sum()"
   ]
  },
  {
   "cell_type": "code",
   "execution_count": 7,
   "metadata": {},
   "outputs": [
    {
     "output_type": "execute_result",
     "data": {
      "text/plain": [
       "            topic      hashtag             tweet_id  \\\n",
       "0     Immigration  immigration  1298354080579035137   \n",
       "1     Immigration      cdnpoli  1291074721195397120   \n",
       "2     Immigration      cdnpoli  1297904197569056768   \n",
       "3     Immigration     refugees  1296060608635379712   \n",
       "4     Immigration      cdnpoli  1298211948895571968   \n",
       "...           ...          ...                  ...   \n",
       "2396         Mask     facemask  1293301322524037120   \n",
       "2397         Mask      NoMasks  1293053718292766720   \n",
       "2398         Mask     facemask  1292890249446797317   \n",
       "2399         Mask    WearAMask  1294605153031589888   \n",
       "2400         Mask    facemasks  1297519531368288257   \n",
       "\n",
       "                                             image_path sample_path  \\\n",
       "0     ./data_Immigration/immigration/tweets4/EgSuFY5...          -1   \n",
       "1     ./data_Immigration/cdnpoli/tweets1/EerRnVOXgAA...          -1   \n",
       "2     ./data_Immigration/cdnpoli/tweets4/EgMU7eQWoAI...          -1   \n",
       "3     ./data_Immigration/refugees/tweets3/EfyIQTXXsA...          -1   \n",
       "4     ./data_Immigration/cdnpoli/tweets4/EgQs4zzXgAA...          -1   \n",
       "...                                                 ...         ...   \n",
       "2396   ./data_Mask/facemask/tweets2/EfK6stXX0AUMHN4.jpg          -1   \n",
       "2397    ./data_Mask/NoMasks/tweets2/EfHZf-4XkAEkRSF.jpg          -1   \n",
       "2398   ./data_Mask/facemask/tweets2/EfFE1IsWAAIntrB.jpg          -1   \n",
       "2399  ./data_Mask/WearAMask/tweets3/EfdchVCWkAEjgqG.jpg          -1   \n",
       "2400  ./data_Mask/facemasks/tweets4/EgG3IwWWsAAuXpg.jpg          -1   \n",
       "\n",
       "                                              body_text image_text  \n",
       "0     @LeftIsBest10 nah, cos they are both using the...         -1  \n",
       "1     @SethDKlein This is my underground version ver...         -1  \n",
       "2     Join Us on Sunday, August 30th, 6:30pm!\\nVirtu...         -1  \n",
       "3     #CleanCookingIs more than preparing meals...\\n...         -1  \n",
       "4     Sounds like the Canadian version of @realDonal...         -1  \n",
       "...                                                 ...        ...  \n",
       "2396  Excited to share the latest addition to my #et...         -1  \n",
       "2397  @ShotgunHolliday 🤣 Nice! \\n#CovidHoax #NoMasks...         -1  \n",
       "2398  👉 https://t.co/JrYD3TuXl7\\n\\nThese face masks ...         -1  \n",
       "2399  #WearAMask 😷 to protect yourself and others . ...         -1  \n",
       "2400  We face a different battle today, and one of o...         -1  \n",
       "\n",
       "[2401 rows x 7 columns]"
      ],
      "text/html": "<div>\n<style scoped>\n    .dataframe tbody tr th:only-of-type {\n        vertical-align: middle;\n    }\n\n    .dataframe tbody tr th {\n        vertical-align: top;\n    }\n\n    .dataframe thead th {\n        text-align: right;\n    }\n</style>\n<table border=\"1\" class=\"dataframe\">\n  <thead>\n    <tr style=\"text-align: right;\">\n      <th></th>\n      <th>topic</th>\n      <th>hashtag</th>\n      <th>tweet_id</th>\n      <th>image_path</th>\n      <th>sample_path</th>\n      <th>body_text</th>\n      <th>image_text</th>\n    </tr>\n  </thead>\n  <tbody>\n    <tr>\n      <th>0</th>\n      <td>Immigration</td>\n      <td>immigration</td>\n      <td>1298354080579035137</td>\n      <td>./data_Immigration/immigration/tweets4/EgSuFY5...</td>\n      <td>-1</td>\n      <td>@LeftIsBest10 nah, cos they are both using the...</td>\n      <td>-1</td>\n    </tr>\n    <tr>\n      <th>1</th>\n      <td>Immigration</td>\n      <td>cdnpoli</td>\n      <td>1291074721195397120</td>\n      <td>./data_Immigration/cdnpoli/tweets1/EerRnVOXgAA...</td>\n      <td>-1</td>\n      <td>@SethDKlein This is my underground version ver...</td>\n      <td>-1</td>\n    </tr>\n    <tr>\n      <th>2</th>\n      <td>Immigration</td>\n      <td>cdnpoli</td>\n      <td>1297904197569056768</td>\n      <td>./data_Immigration/cdnpoli/tweets4/EgMU7eQWoAI...</td>\n      <td>-1</td>\n      <td>Join Us on Sunday, August 30th, 6:30pm!\\nVirtu...</td>\n      <td>-1</td>\n    </tr>\n    <tr>\n      <th>3</th>\n      <td>Immigration</td>\n      <td>refugees</td>\n      <td>1296060608635379712</td>\n      <td>./data_Immigration/refugees/tweets3/EfyIQTXXsA...</td>\n      <td>-1</td>\n      <td>#CleanCookingIs more than preparing meals...\\n...</td>\n      <td>-1</td>\n    </tr>\n    <tr>\n      <th>4</th>\n      <td>Immigration</td>\n      <td>cdnpoli</td>\n      <td>1298211948895571968</td>\n      <td>./data_Immigration/cdnpoli/tweets4/EgQs4zzXgAA...</td>\n      <td>-1</td>\n      <td>Sounds like the Canadian version of @realDonal...</td>\n      <td>-1</td>\n    </tr>\n    <tr>\n      <th>...</th>\n      <td>...</td>\n      <td>...</td>\n      <td>...</td>\n      <td>...</td>\n      <td>...</td>\n      <td>...</td>\n      <td>...</td>\n    </tr>\n    <tr>\n      <th>2396</th>\n      <td>Mask</td>\n      <td>facemask</td>\n      <td>1293301322524037120</td>\n      <td>./data_Mask/facemask/tweets2/EfK6stXX0AUMHN4.jpg</td>\n      <td>-1</td>\n      <td>Excited to share the latest addition to my #et...</td>\n      <td>-1</td>\n    </tr>\n    <tr>\n      <th>2397</th>\n      <td>Mask</td>\n      <td>NoMasks</td>\n      <td>1293053718292766720</td>\n      <td>./data_Mask/NoMasks/tweets2/EfHZf-4XkAEkRSF.jpg</td>\n      <td>-1</td>\n      <td>@ShotgunHolliday 🤣 Nice! \\n#CovidHoax #NoMasks...</td>\n      <td>-1</td>\n    </tr>\n    <tr>\n      <th>2398</th>\n      <td>Mask</td>\n      <td>facemask</td>\n      <td>1292890249446797317</td>\n      <td>./data_Mask/facemask/tweets2/EfFE1IsWAAIntrB.jpg</td>\n      <td>-1</td>\n      <td>👉 https://t.co/JrYD3TuXl7\\n\\nThese face masks ...</td>\n      <td>-1</td>\n    </tr>\n    <tr>\n      <th>2399</th>\n      <td>Mask</td>\n      <td>WearAMask</td>\n      <td>1294605153031589888</td>\n      <td>./data_Mask/WearAMask/tweets3/EfdchVCWkAEjgqG.jpg</td>\n      <td>-1</td>\n      <td>#WearAMask 😷 to protect yourself and others . ...</td>\n      <td>-1</td>\n    </tr>\n    <tr>\n      <th>2400</th>\n      <td>Mask</td>\n      <td>facemasks</td>\n      <td>1297519531368288257</td>\n      <td>./data_Mask/facemasks/tweets4/EgG3IwWWsAAuXpg.jpg</td>\n      <td>-1</td>\n      <td>We face a different battle today, and one of o...</td>\n      <td>-1</td>\n    </tr>\n  </tbody>\n</table>\n<p>2401 rows × 7 columns</p>\n</div>"
     },
     "metadata": {},
     "execution_count": 7
    }
   ],
   "source": [
    "df_samples = pd.DataFrame(columns=['topic', 'hashtag', 'tweet_id', 'image_path', 'sample_path', 'body_text', 'image_text'])\n",
    "\n",
    "for _, row in df_count.iterrows():\n",
    "    topic_name = row['topic']\n",
    "    df_topic = csv_dfs[topic_name].sample(n=row['proportion_count'], random_state=42)\n",
    "    df_topic.insert(loc=0, column='topic', value=topic_name)\n",
    "    df_topic.insert(loc=4, column='sample_path', value=-1)\n",
    "    df_topic.insert(loc=len(df_topic.columns), column='image_text', value=-1)\n",
    "    df_samples = df_samples.append(df_topic)\n",
    "\n",
    "df_samples.reset_index(drop=True, inplace=True)\n",
    "df_samples.to_csv('./csv_data/sample_data.csv', index=False)\n",
    "df_samples"
   ]
  },
  {
   "source": [
    "## Copy selected samples and generate sample path (Please run cells below)"
   ],
   "cell_type": "markdown",
   "metadata": {}
  },
  {
   "cell_type": "code",
   "execution_count": 1,
   "metadata": {},
   "outputs": [],
   "source": [
    "import os\n",
    "from pathlib import Path\n",
    "from shutil import copyfile\n",
    "import pandas as pd"
   ]
  },
  {
   "cell_type": "code",
   "execution_count": 2,
   "metadata": {},
   "outputs": [],
   "source": [
    "df_count = pd.read_csv('./csv_data/sample_count.csv')\n",
    "df_samples = pd.read_csv('./csv_data/sample_data.csv')"
   ]
  },
  {
   "cell_type": "code",
   "execution_count": 3,
   "metadata": {},
   "outputs": [],
   "source": [
    "def get_sample_path_and_copy(df, topic, annot_data_path):\n",
    "    # if the sample_path already exists\n",
    "    if df['sample_path'] != -1:\n",
    "        return df['sample_path']\n",
    "\n",
    "    # if topic is not the selected topic\n",
    "    if df['sample_path'] == -1 and df['topic'] != topic:\n",
    "        return -1\n",
    "    \n",
    "    image_name = df['image_path'].split('/')[-1]\n",
    "    dst_path = os.path.join(annot_data_path, image_name)\n",
    "    copyfile(df['image_path'], dst_path)\n",
    "    return dst_path"
   ]
  },
  {
   "cell_type": "code",
   "execution_count": 4,
   "metadata": {
    "tags": []
   },
   "outputs": [
    {
     "output_type": "stream",
     "name": "stdout",
     "text": [
      "Topic \"Immigration\" processed\n",
      "./data_AsianHate not exists; pass this topic\n",
      "./data_Boomer not exists; pass this topic\n",
      "Topic \"Vaccine\" processed\n",
      "./data_Mask not exists; pass this topic\n"
     ]
    }
   ],
   "source": [
    "sample_folder = './annotation_data'\n",
    "Path(sample_folder).mkdir(exist_ok=True)\n",
    "\n",
    "for _, row in df_count.iterrows():\n",
    "    topic_name = row['topic']\n",
    "    topic_data_path = os.path.join('./', 'data_' + topic_name)\n",
    "    annot_data_path = os.path.join(sample_folder, topic_name)\n",
    "    # if data_{topic_name} folder doesn't exist\n",
    "    if not Path(topic_data_path).is_dir():\n",
    "        print('{} not exists; pass this topic'.format(topic_data_path))\n",
    "        continue\n",
    "\n",
    "    # if the sampled data for this topic already exists\n",
    "    if Path(annot_data_path).is_dir():\n",
    "        print('{} already exist; pass this topic'.format(annot_data_path))\n",
    "        continue\n",
    "\n",
    "    Path(annot_data_path).mkdir()\n",
    "\n",
    "    df_samples['sample_path'] = df_samples.apply(get_sample_path_and_copy, axis=1, topic=topic_name, annot_data_path=annot_data_path)\n",
    "\n",
    "    print('Topic \\\"{}\\\" processed'.format(topic_name))"
   ]
  },
  {
   "cell_type": "code",
   "execution_count": 5,
   "metadata": {},
   "outputs": [
    {
     "output_type": "execute_result",
     "data": {
      "text/plain": [
       "            topic      hashtag             tweet_id  \\\n",
       "0     Immigration  immigration  1298354080579035137   \n",
       "1     Immigration      cdnpoli  1291074721195397120   \n",
       "2     Immigration      cdnpoli  1297904197569056768   \n",
       "3     Immigration     refugees  1296060608635379712   \n",
       "4     Immigration      cdnpoli  1298211948895571968   \n",
       "...           ...          ...                  ...   \n",
       "2396         Mask     facemask  1293301322524037120   \n",
       "2397         Mask      NoMasks  1293053718292766720   \n",
       "2398         Mask     facemask  1292890249446797317   \n",
       "2399         Mask    WearAMask  1294605153031589888   \n",
       "2400         Mask    facemasks  1297519531368288257   \n",
       "\n",
       "                                             image_path  \\\n",
       "0     ./data_Immigration/immigration/tweets4/EgSuFY5...   \n",
       "1     ./data_Immigration/cdnpoli/tweets1/EerRnVOXgAA...   \n",
       "2     ./data_Immigration/cdnpoli/tweets4/EgMU7eQWoAI...   \n",
       "3     ./data_Immigration/refugees/tweets3/EfyIQTXXsA...   \n",
       "4     ./data_Immigration/cdnpoli/tweets4/EgQs4zzXgAA...   \n",
       "...                                                 ...   \n",
       "2396   ./data_Mask/facemask/tweets2/EfK6stXX0AUMHN4.jpg   \n",
       "2397    ./data_Mask/NoMasks/tweets2/EfHZf-4XkAEkRSF.jpg   \n",
       "2398   ./data_Mask/facemask/tweets2/EfFE1IsWAAIntrB.jpg   \n",
       "2399  ./data_Mask/WearAMask/tweets3/EfdchVCWkAEjgqG.jpg   \n",
       "2400  ./data_Mask/facemasks/tweets4/EgG3IwWWsAAuXpg.jpg   \n",
       "\n",
       "                                            sample_path  \\\n",
       "0     ./annotation_data/Immigration/EgSuFY5WsAEjjyv.png   \n",
       "1     ./annotation_data/Immigration/EerRnVOXgAACHWo.jpg   \n",
       "2     ./annotation_data/Immigration/EgMU7eQWoAIY5lY.jpg   \n",
       "3     ./annotation_data/Immigration/EfyIQTXXsAAIRXH.jpg   \n",
       "4     ./annotation_data/Immigration/EgQs4zzXgAAsL7s.jpg   \n",
       "...                                                 ...   \n",
       "2396                                                 -1   \n",
       "2397                                                 -1   \n",
       "2398                                                 -1   \n",
       "2399                                                 -1   \n",
       "2400                                                 -1   \n",
       "\n",
       "                                              body_text  image_text  \n",
       "0     @LeftIsBest10 nah, cos they are both using the...          -1  \n",
       "1     @SethDKlein This is my underground version ver...          -1  \n",
       "2     Join Us on Sunday, August 30th, 6:30pm!\\nVirtu...          -1  \n",
       "3     #CleanCookingIs more than preparing meals...\\n...          -1  \n",
       "4     Sounds like the Canadian version of @realDonal...          -1  \n",
       "...                                                 ...         ...  \n",
       "2396  Excited to share the latest addition to my #et...          -1  \n",
       "2397  @ShotgunHolliday 🤣 Nice! \\n#CovidHoax #NoMasks...          -1  \n",
       "2398  👉 https://t.co/JrYD3TuXl7\\n\\nThese face masks ...          -1  \n",
       "2399  #WearAMask 😷 to protect yourself and others . ...          -1  \n",
       "2400  We face a different battle today, and one of o...          -1  \n",
       "\n",
       "[2401 rows x 7 columns]"
      ],
      "text/html": "<div>\n<style scoped>\n    .dataframe tbody tr th:only-of-type {\n        vertical-align: middle;\n    }\n\n    .dataframe tbody tr th {\n        vertical-align: top;\n    }\n\n    .dataframe thead th {\n        text-align: right;\n    }\n</style>\n<table border=\"1\" class=\"dataframe\">\n  <thead>\n    <tr style=\"text-align: right;\">\n      <th></th>\n      <th>topic</th>\n      <th>hashtag</th>\n      <th>tweet_id</th>\n      <th>image_path</th>\n      <th>sample_path</th>\n      <th>body_text</th>\n      <th>image_text</th>\n    </tr>\n  </thead>\n  <tbody>\n    <tr>\n      <th>0</th>\n      <td>Immigration</td>\n      <td>immigration</td>\n      <td>1298354080579035137</td>\n      <td>./data_Immigration/immigration/tweets4/EgSuFY5...</td>\n      <td>./annotation_data/Immigration/EgSuFY5WsAEjjyv.png</td>\n      <td>@LeftIsBest10 nah, cos they are both using the...</td>\n      <td>-1</td>\n    </tr>\n    <tr>\n      <th>1</th>\n      <td>Immigration</td>\n      <td>cdnpoli</td>\n      <td>1291074721195397120</td>\n      <td>./data_Immigration/cdnpoli/tweets1/EerRnVOXgAA...</td>\n      <td>./annotation_data/Immigration/EerRnVOXgAACHWo.jpg</td>\n      <td>@SethDKlein This is my underground version ver...</td>\n      <td>-1</td>\n    </tr>\n    <tr>\n      <th>2</th>\n      <td>Immigration</td>\n      <td>cdnpoli</td>\n      <td>1297904197569056768</td>\n      <td>./data_Immigration/cdnpoli/tweets4/EgMU7eQWoAI...</td>\n      <td>./annotation_data/Immigration/EgMU7eQWoAIY5lY.jpg</td>\n      <td>Join Us on Sunday, August 30th, 6:30pm!\\nVirtu...</td>\n      <td>-1</td>\n    </tr>\n    <tr>\n      <th>3</th>\n      <td>Immigration</td>\n      <td>refugees</td>\n      <td>1296060608635379712</td>\n      <td>./data_Immigration/refugees/tweets3/EfyIQTXXsA...</td>\n      <td>./annotation_data/Immigration/EfyIQTXXsAAIRXH.jpg</td>\n      <td>#CleanCookingIs more than preparing meals...\\n...</td>\n      <td>-1</td>\n    </tr>\n    <tr>\n      <th>4</th>\n      <td>Immigration</td>\n      <td>cdnpoli</td>\n      <td>1298211948895571968</td>\n      <td>./data_Immigration/cdnpoli/tweets4/EgQs4zzXgAA...</td>\n      <td>./annotation_data/Immigration/EgQs4zzXgAAsL7s.jpg</td>\n      <td>Sounds like the Canadian version of @realDonal...</td>\n      <td>-1</td>\n    </tr>\n    <tr>\n      <th>...</th>\n      <td>...</td>\n      <td>...</td>\n      <td>...</td>\n      <td>...</td>\n      <td>...</td>\n      <td>...</td>\n      <td>...</td>\n    </tr>\n    <tr>\n      <th>2396</th>\n      <td>Mask</td>\n      <td>facemask</td>\n      <td>1293301322524037120</td>\n      <td>./data_Mask/facemask/tweets2/EfK6stXX0AUMHN4.jpg</td>\n      <td>-1</td>\n      <td>Excited to share the latest addition to my #et...</td>\n      <td>-1</td>\n    </tr>\n    <tr>\n      <th>2397</th>\n      <td>Mask</td>\n      <td>NoMasks</td>\n      <td>1293053718292766720</td>\n      <td>./data_Mask/NoMasks/tweets2/EfHZf-4XkAEkRSF.jpg</td>\n      <td>-1</td>\n      <td>@ShotgunHolliday 🤣 Nice! \\n#CovidHoax #NoMasks...</td>\n      <td>-1</td>\n    </tr>\n    <tr>\n      <th>2398</th>\n      <td>Mask</td>\n      <td>facemask</td>\n      <td>1292890249446797317</td>\n      <td>./data_Mask/facemask/tweets2/EfFE1IsWAAIntrB.jpg</td>\n      <td>-1</td>\n      <td>👉 https://t.co/JrYD3TuXl7\\n\\nThese face masks ...</td>\n      <td>-1</td>\n    </tr>\n    <tr>\n      <th>2399</th>\n      <td>Mask</td>\n      <td>WearAMask</td>\n      <td>1294605153031589888</td>\n      <td>./data_Mask/WearAMask/tweets3/EfdchVCWkAEjgqG.jpg</td>\n      <td>-1</td>\n      <td>#WearAMask 😷 to protect yourself and others . ...</td>\n      <td>-1</td>\n    </tr>\n    <tr>\n      <th>2400</th>\n      <td>Mask</td>\n      <td>facemasks</td>\n      <td>1297519531368288257</td>\n      <td>./data_Mask/facemasks/tweets4/EgG3IwWWsAAuXpg.jpg</td>\n      <td>-1</td>\n      <td>We face a different battle today, and one of o...</td>\n      <td>-1</td>\n    </tr>\n  </tbody>\n</table>\n<p>2401 rows × 7 columns</p>\n</div>"
     },
     "metadata": {},
     "execution_count": 5
    }
   ],
   "source": [
    "df_samples.to_csv('./csv_data/sample_data.csv', index=False)\n",
    "df_samples"
   ]
  },
  {
   "cell_type": "code",
   "execution_count": null,
   "metadata": {},
   "outputs": [],
   "source": []
  }
 ]
}