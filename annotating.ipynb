{
 "metadata": {
  "language_info": {
   "codemirror_mode": {
    "name": "ipython",
    "version": 3
   },
   "file_extension": ".py",
   "mimetype": "text/x-python",
   "name": "python",
   "nbconvert_exporter": "python",
   "pygments_lexer": "ipython3",
   "version": "3.9.2"
  },
  "orig_nbformat": 2,
  "kernelspec": {
   "name": "python3",
   "display_name": "Python 3.9.2 64-bit ('tweets': conda)"
  },
  "interpreter": {
   "hash": "cd1f5da85199302314bd73b2bb6f21c64cad1b4f001173fa3ddb4057b62cb3fe"
  }
 },
 "nbformat": 4,
 "nbformat_minor": 2,
 "cells": [
  {
   "cell_type": "code",
   "execution_count": 1,
   "metadata": {},
   "outputs": [],
   "source": [
    "import os\n",
    "import re\n",
    "from pathlib import Path\n",
    "from shutil import copyfile\n",
    "import pandas as pd\n",
    "import numpy as np"
   ]
  },
  {
   "cell_type": "code",
   "execution_count": 2,
   "metadata": {},
   "outputs": [],
   "source": [
    "data_folder = './csv_data'\n",
    "total_samples = 2400"
   ]
  },
  {
   "cell_type": "code",
   "execution_count": 3,
   "metadata": {},
   "outputs": [
    {
     "output_type": "stream",
     "name": "stdout",
     "text": [
      "Vaccine      2038   \n",
      "AsianHate    1146   \n",
      "Boomer       1712   \n",
      "Political    22606  \n",
      "Mask         13397  \n",
      "Immigration  4998   \n"
     ]
    }
   ],
   "source": [
    "df_count = pd.DataFrame(columns=['topic', 'count', 'proportion_count'])\n",
    "\n",
    "csv_dfs = {}\n",
    "total_count = 0\n",
    "\n",
    "entries = os.listdir(data_folder)\n",
    "regex = re.compile('data_([a-zA-Z]*)_final\\.csv')\n",
    "\n",
    "for filename in entries:\n",
    "    if filename.startswith('.'): continue\n",
    "    matched = regex.search(filename)\n",
    "    if matched:\n",
    "        topic_name = matched.group(1)\n",
    "        csv_path = os.path.join(data_folder, filename)\n",
    "        csv_dfs[topic_name] = pd.read_csv(csv_path, index_col=0)\n",
    "        row_count = len(csv_dfs[topic_name].index)\n",
    "        total_count += row_count\n",
    "        df_count.loc[len(df_count)] = [topic_name, row_count, -1]\n",
    "        print('{:<13}{:<7}'.format(topic_name, row_count))\n"
   ]
  },
  {
   "cell_type": "code",
   "execution_count": 4,
   "metadata": {},
   "outputs": [],
   "source": [
    "# df_count['proportion_count'] = df_count['count'].apply(lambda x: round((x/total_count)*total_samples))\n",
    "df_count['proportion_count'] = round(total_samples / len(df_count.index))"
   ]
  },
  {
   "cell_type": "code",
   "execution_count": 5,
   "metadata": {},
   "outputs": [
    {
     "output_type": "execute_result",
     "data": {
      "text/plain": [
       "         topic  count  proportion_count\n",
       "0      Vaccine   2038               400\n",
       "1    AsianHate   1146               400\n",
       "2       Boomer   1712               400\n",
       "3    Political  22606               400\n",
       "4         Mask  13397               400\n",
       "5  Immigration   4998               400"
      ],
      "text/html": "<div>\n<style scoped>\n    .dataframe tbody tr th:only-of-type {\n        vertical-align: middle;\n    }\n\n    .dataframe tbody tr th {\n        vertical-align: top;\n    }\n\n    .dataframe thead th {\n        text-align: right;\n    }\n</style>\n<table border=\"1\" class=\"dataframe\">\n  <thead>\n    <tr style=\"text-align: right;\">\n      <th></th>\n      <th>topic</th>\n      <th>count</th>\n      <th>proportion_count</th>\n    </tr>\n  </thead>\n  <tbody>\n    <tr>\n      <th>0</th>\n      <td>Vaccine</td>\n      <td>2038</td>\n      <td>400</td>\n    </tr>\n    <tr>\n      <th>1</th>\n      <td>AsianHate</td>\n      <td>1146</td>\n      <td>400</td>\n    </tr>\n    <tr>\n      <th>2</th>\n      <td>Boomer</td>\n      <td>1712</td>\n      <td>400</td>\n    </tr>\n    <tr>\n      <th>3</th>\n      <td>Political</td>\n      <td>22606</td>\n      <td>400</td>\n    </tr>\n    <tr>\n      <th>4</th>\n      <td>Mask</td>\n      <td>13397</td>\n      <td>400</td>\n    </tr>\n    <tr>\n      <th>5</th>\n      <td>Immigration</td>\n      <td>4998</td>\n      <td>400</td>\n    </tr>\n  </tbody>\n</table>\n</div>"
     },
     "metadata": {},
     "execution_count": 5
    }
   ],
   "source": [
    "df_count.to_csv('./csv_data/sample_count.csv', index=False)\n",
    "df_count"
   ]
  },
  {
   "cell_type": "code",
   "execution_count": 6,
   "metadata": {},
   "outputs": [
    {
     "output_type": "execute_result",
     "data": {
      "text/plain": [
       "2400"
      ]
     },
     "metadata": {},
     "execution_count": 6
    }
   ],
   "source": [
    "df_count['proportion_count'].sum()"
   ]
  },
  {
   "cell_type": "code",
   "execution_count": 7,
   "metadata": {},
   "outputs": [
    {
     "output_type": "execute_result",
     "data": {
      "text/plain": [
       "            topic                hashtag             tweet_id  \\\n",
       "0     Immigration               refugees  1297606828461883394   \n",
       "1            Mask                 maskup  1297309098669510656   \n",
       "2          Boomer               caresact  1291464418715459589   \n",
       "3            Mask                NoMasks  1290561571312328706   \n",
       "4     Immigration                cdnpoli  1297693936782213123   \n",
       "...           ...                    ...                  ...   \n",
       "2395         Mask                NoMasks  1291460379638484994   \n",
       "2396       Boomer  trumpliesamericansdie  1290437319611342851   \n",
       "2397       Boomer               caresact  1293904775055052801   \n",
       "2398    Political              Trump2020  1291952240534728704   \n",
       "2399       Boomer                  karen  1292188919639859200   \n",
       "\n",
       "                                             image_path sample_path  \\\n",
       "0     ./data_Immigration/refugees/tweets4/EgIGg6aXsA...         NaN   \n",
       "1        ./data_Mask/maskup/tweets4/EgD3vYTUcAE_JMC.jpg         NaN   \n",
       "2     ./data_Boomer/caresact/tweets1/Eew0B6PWAAYZPCX...         NaN   \n",
       "3       ./data_Mask/NoMasks/tweets1/Eej-523WsAAJa6h.jpg         NaN   \n",
       "4     ./data_Immigration/cdnpoli/tweets4/EgJVvpkUMAA...         NaN   \n",
       "...                                                 ...         ...   \n",
       "2395    ./data_Mask/NoMasks/tweets1/EewwXv5WkAEb91v.jpg         NaN   \n",
       "2396  ./data_Boomer/trumpliesamericansdie/tweets1/Ee...         NaN   \n",
       "2397  ./data_Boomer/caresact/tweets2/EfTfiMrWsAA35Y4...         NaN   \n",
       "2398  ./data_Political/Trump2020/tweets2/Ee3vtmRX0AA...         NaN   \n",
       "2399    ./data_Boomer/karen/tweets2/Ee7G-YNU4AIU4Mh.jpg         NaN   \n",
       "\n",
       "                                              body_text image_text  \\\n",
       "0     Just one week left to get one of these hand em...        NaN   \n",
       "1     🚧 #SFSO keeping our citizens updated on evacua...        NaN   \n",
       "2     Arguably, this one segment from the #CARESAct ...        NaN   \n",
       "3     @RupertaMargate @FrancaisFarage @John35542712 ...        NaN   \n",
       "4     You beat me to it, lol .. #cpc #cpcldr #cdnpol...        NaN   \n",
       "...                                                 ...        ...   \n",
       "2395  What's this...a new wave of virus???\\n\\n#KBF #...        NaN   \n",
       "2396  @realDonaldTrump 1st-To be so proud of a large...        NaN   \n",
       "2397  Ready to re-open? Use your #CARESAct Funding t...        NaN   \n",
       "2398  @HowDoYouMakeAU2 @Jenny06980536 @TerriSm600279...        NaN   \n",
       "2399  3 Bedroom (2 En-suite) - Near Yaya https://t.c...        NaN   \n",
       "\n",
       "                                          text_with_OCR  \n",
       "0                                                    oe  \n",
       "1     er ha an ey st ge at Bra wy yo ae ae ay at oes...  \n",
       "2                                              aS is he  \n",
       "3                                                Ser ah  \n",
       "4            You organize two car funeral procession iS  \n",
       "...                                                 ...  \n",
       "2395  Let me introduce you to our next problem Seen ...  \n",
       "2396  reed la HI WA ha ant aa Trump to draw out at l...  \n",
       "2397                       YOUR GO HERE Oe WEVE GOT vol  \n",
       "2398                               al LEAVE NEVER LEAVE  \n",
       "2399                                              re as  \n",
       "\n",
       "[2400 rows x 8 columns]"
      ],
      "text/html": "<div>\n<style scoped>\n    .dataframe tbody tr th:only-of-type {\n        vertical-align: middle;\n    }\n\n    .dataframe tbody tr th {\n        vertical-align: top;\n    }\n\n    .dataframe thead th {\n        text-align: right;\n    }\n</style>\n<table border=\"1\" class=\"dataframe\">\n  <thead>\n    <tr style=\"text-align: right;\">\n      <th></th>\n      <th>topic</th>\n      <th>hashtag</th>\n      <th>tweet_id</th>\n      <th>image_path</th>\n      <th>sample_path</th>\n      <th>body_text</th>\n      <th>image_text</th>\n      <th>text_with_OCR</th>\n    </tr>\n  </thead>\n  <tbody>\n    <tr>\n      <th>0</th>\n      <td>Immigration</td>\n      <td>refugees</td>\n      <td>1297606828461883394</td>\n      <td>./data_Immigration/refugees/tweets4/EgIGg6aXsA...</td>\n      <td>NaN</td>\n      <td>Just one week left to get one of these hand em...</td>\n      <td>NaN</td>\n      <td>oe</td>\n    </tr>\n    <tr>\n      <th>1</th>\n      <td>Mask</td>\n      <td>maskup</td>\n      <td>1297309098669510656</td>\n      <td>./data_Mask/maskup/tweets4/EgD3vYTUcAE_JMC.jpg</td>\n      <td>NaN</td>\n      <td>🚧 #SFSO keeping our citizens updated on evacua...</td>\n      <td>NaN</td>\n      <td>er ha an ey st ge at Bra wy yo ae ae ay at oes...</td>\n    </tr>\n    <tr>\n      <th>2</th>\n      <td>Boomer</td>\n      <td>caresact</td>\n      <td>1291464418715459589</td>\n      <td>./data_Boomer/caresact/tweets1/Eew0B6PWAAYZPCX...</td>\n      <td>NaN</td>\n      <td>Arguably, this one segment from the #CARESAct ...</td>\n      <td>NaN</td>\n      <td>aS is he</td>\n    </tr>\n    <tr>\n      <th>3</th>\n      <td>Mask</td>\n      <td>NoMasks</td>\n      <td>1290561571312328706</td>\n      <td>./data_Mask/NoMasks/tweets1/Eej-523WsAAJa6h.jpg</td>\n      <td>NaN</td>\n      <td>@RupertaMargate @FrancaisFarage @John35542712 ...</td>\n      <td>NaN</td>\n      <td>Ser ah</td>\n    </tr>\n    <tr>\n      <th>4</th>\n      <td>Immigration</td>\n      <td>cdnpoli</td>\n      <td>1297693936782213123</td>\n      <td>./data_Immigration/cdnpoli/tweets4/EgJVvpkUMAA...</td>\n      <td>NaN</td>\n      <td>You beat me to it, lol .. #cpc #cpcldr #cdnpol...</td>\n      <td>NaN</td>\n      <td>You organize two car funeral procession iS</td>\n    </tr>\n    <tr>\n      <th>...</th>\n      <td>...</td>\n      <td>...</td>\n      <td>...</td>\n      <td>...</td>\n      <td>...</td>\n      <td>...</td>\n      <td>...</td>\n      <td>...</td>\n    </tr>\n    <tr>\n      <th>2395</th>\n      <td>Mask</td>\n      <td>NoMasks</td>\n      <td>1291460379638484994</td>\n      <td>./data_Mask/NoMasks/tweets1/EewwXv5WkAEb91v.jpg</td>\n      <td>NaN</td>\n      <td>What's this...a new wave of virus???\\n\\n#KBF #...</td>\n      <td>NaN</td>\n      <td>Let me introduce you to our next problem Seen ...</td>\n    </tr>\n    <tr>\n      <th>2396</th>\n      <td>Boomer</td>\n      <td>trumpliesamericansdie</td>\n      <td>1290437319611342851</td>\n      <td>./data_Boomer/trumpliesamericansdie/tweets1/Ee...</td>\n      <td>NaN</td>\n      <td>@realDonaldTrump 1st-To be so proud of a large...</td>\n      <td>NaN</td>\n      <td>reed la HI WA ha ant aa Trump to draw out at l...</td>\n    </tr>\n    <tr>\n      <th>2397</th>\n      <td>Boomer</td>\n      <td>caresact</td>\n      <td>1293904775055052801</td>\n      <td>./data_Boomer/caresact/tweets2/EfTfiMrWsAA35Y4...</td>\n      <td>NaN</td>\n      <td>Ready to re-open? Use your #CARESAct Funding t...</td>\n      <td>NaN</td>\n      <td>YOUR GO HERE Oe WEVE GOT vol</td>\n    </tr>\n    <tr>\n      <th>2398</th>\n      <td>Political</td>\n      <td>Trump2020</td>\n      <td>1291952240534728704</td>\n      <td>./data_Political/Trump2020/tweets2/Ee3vtmRX0AA...</td>\n      <td>NaN</td>\n      <td>@HowDoYouMakeAU2 @Jenny06980536 @TerriSm600279...</td>\n      <td>NaN</td>\n      <td>al LEAVE NEVER LEAVE</td>\n    </tr>\n    <tr>\n      <th>2399</th>\n      <td>Boomer</td>\n      <td>karen</td>\n      <td>1292188919639859200</td>\n      <td>./data_Boomer/karen/tweets2/Ee7G-YNU4AIU4Mh.jpg</td>\n      <td>NaN</td>\n      <td>3 Bedroom (2 En-suite) - Near Yaya https://t.c...</td>\n      <td>NaN</td>\n      <td>re as</td>\n    </tr>\n  </tbody>\n</table>\n<p>2400 rows × 8 columns</p>\n</div>"
     },
     "metadata": {},
     "execution_count": 7
    }
   ],
   "source": [
    "df_samples = pd.DataFrame(columns=['topic', 'hashtag', 'tweet_id', 'image_path', 'sample_path', 'body_text', 'image_text'])\n",
    "\n",
    "for _, row in df_count.iterrows():\n",
    "    topic_name = row['topic']\n",
    "    df_topic = csv_dfs[topic_name].sample(n=row['proportion_count'], random_state=42)\n",
    "    df_topic.insert(loc=0, column='topic', value=topic_name)\n",
    "    df_topic.insert(loc=4, column='sample_path', value=np.nan)\n",
    "    df_topic.insert(loc=len(df_topic.columns), column='image_text', value=np.nan)\n",
    "    df_samples = df_samples.append(df_topic)\n",
    "\n",
    "df_samples = df_samples.sample(frac=1, random_state=42).reset_index(drop=True)\n",
    "df_samples.to_csv('./csv_data/sample_data.csv', index=False)\n",
    "df_samples"
   ]
  },
  {
   "source": [
    "# Please only run cells below\n",
    "\n",
    "## Copy selected samples and generate sample path\n",
    "\n",
    "### Before running this part, please check that the topics you want to process is NOT in the annotation_data folder"
   ],
   "cell_type": "markdown",
   "metadata": {}
  },
  {
   "cell_type": "code",
   "execution_count": 1,
   "metadata": {},
   "outputs": [],
   "source": [
    "import os\n",
    "from pathlib import Path\n",
    "from shutil import copyfile\n",
    "import pandas as pd\n",
    "import numpy as np"
   ]
  },
  {
   "cell_type": "code",
   "execution_count": 2,
   "metadata": {},
   "outputs": [],
   "source": [
    "df_count = pd.read_csv('./csv_data/sample_count.csv')\n",
    "df_samples = pd.read_csv('./csv_data/sample_data.csv')"
   ]
  },
  {
   "cell_type": "code",
   "execution_count": 3,
   "metadata": {},
   "outputs": [],
   "source": [
    "def get_sample_path_and_copy(df, topic, annot_data_path):\n",
    "    # if the sample_path already exists\n",
    "    if not pd.isna(df['sample_path']):\n",
    "        return df['sample_path']\n",
    "\n",
    "    # if topic is not the selected topic\n",
    "    if pd.isna(df['sample_path']) and df['topic'] != topic:\n",
    "        return np.nan\n",
    "    \n",
    "    image_name = df['image_path'].split('/')[-1]\n",
    "    dst_path = os.path.join(annot_data_path, image_name)\n",
    "    copyfile(df['image_path'], dst_path)\n",
    "    return dst_path"
   ]
  },
  {
   "cell_type": "code",
   "execution_count": 4,
   "metadata": {
    "tags": []
   },
   "outputs": [
    {
     "output_type": "stream",
     "name": "stdout",
     "text": [
      "Topic \"Vaccine\" processed\n",
      "./data_AsianHate not exists; pass this topic\n",
      "./data_Boomer not exists; pass this topic\n",
      "./data_Political not exists; pass this topic\n",
      "./data_Mask not exists; pass this topic\n",
      "Topic \"Immigration\" processed\n"
     ]
    }
   ],
   "source": [
    "sample_folder = './annotation_data'\n",
    "Path(sample_folder).mkdir(exist_ok=True)\n",
    "\n",
    "for _, row in df_count.iterrows():\n",
    "    topic_name = row['topic']\n",
    "    topic_data_path = os.path.join('./', 'data_' + topic_name)\n",
    "    annot_data_path = os.path.join(sample_folder, topic_name)\n",
    "    # if data_{topic_name} folder doesn't exist\n",
    "    if not Path(topic_data_path).is_dir():\n",
    "        print('{} not exists; pass this topic'.format(topic_data_path))\n",
    "        continue\n",
    "\n",
    "    # if the sampled data for this topic already exists\n",
    "    if Path(annot_data_path).is_dir():\n",
    "        print('{} already exist; pass this topic'.format(annot_data_path))\n",
    "        continue\n",
    "\n",
    "    Path(annot_data_path).mkdir()\n",
    "\n",
    "    df_samples['sample_path'] = df_samples.apply(get_sample_path_and_copy, axis=1, topic=topic_name, annot_data_path=annot_data_path)\n",
    "\n",
    "    print('Topic \\\"{}\\\" processed'.format(topic_name))"
   ]
  },
  {
   "cell_type": "code",
   "execution_count": 5,
   "metadata": {},
   "outputs": [
    {
     "output_type": "execute_result",
     "data": {
      "text/plain": [
       "            topic                hashtag             tweet_id  \\\n",
       "0     Immigration               refugees  1297606828461883394   \n",
       "1            Mask                 maskup  1297309098669510656   \n",
       "2          Boomer               caresact  1291464418715459589   \n",
       "3            Mask                NoMasks  1290561571312328706   \n",
       "4     Immigration                cdnpoli  1297693936782213123   \n",
       "...           ...                    ...                  ...   \n",
       "2395         Mask                NoMasks  1291460379638484994   \n",
       "2396       Boomer  trumpliesamericansdie  1290437319611342851   \n",
       "2397       Boomer               caresact  1293904775055052801   \n",
       "2398    Political              Trump2020  1291952240534728704   \n",
       "2399       Boomer                  karen  1292188919639859200   \n",
       "\n",
       "                                             image_path  \\\n",
       "0     ./data_Immigration/refugees/tweets4/EgIGg6aXsA...   \n",
       "1        ./data_Mask/maskup/tweets4/EgD3vYTUcAE_JMC.jpg   \n",
       "2     ./data_Boomer/caresact/tweets1/Eew0B6PWAAYZPCX...   \n",
       "3       ./data_Mask/NoMasks/tweets1/Eej-523WsAAJa6h.jpg   \n",
       "4     ./data_Immigration/cdnpoli/tweets4/EgJVvpkUMAA...   \n",
       "...                                                 ...   \n",
       "2395    ./data_Mask/NoMasks/tweets1/EewwXv5WkAEb91v.jpg   \n",
       "2396  ./data_Boomer/trumpliesamericansdie/tweets1/Ee...   \n",
       "2397  ./data_Boomer/caresact/tweets2/EfTfiMrWsAA35Y4...   \n",
       "2398  ./data_Political/Trump2020/tweets2/Ee3vtmRX0AA...   \n",
       "2399    ./data_Boomer/karen/tweets2/Ee7G-YNU4AIU4Mh.jpg   \n",
       "\n",
       "                                            sample_path  \\\n",
       "0     ./annotation_data/Immigration/EgIGg6aXsAAX5-Y.jpg   \n",
       "1                                                   NaN   \n",
       "2                                                   NaN   \n",
       "3                                                   NaN   \n",
       "4     ./annotation_data/Immigration/EgJVvpkUMAALB8Z.png   \n",
       "...                                                 ...   \n",
       "2395                                                NaN   \n",
       "2396                                                NaN   \n",
       "2397                                                NaN   \n",
       "2398                                                NaN   \n",
       "2399                                                NaN   \n",
       "\n",
       "                                              body_text  image_text  \\\n",
       "0     Just one week left to get one of these hand em...         NaN   \n",
       "1     🚧 #SFSO keeping our citizens updated on evacua...         NaN   \n",
       "2     Arguably, this one segment from the #CARESAct ...         NaN   \n",
       "3     @RupertaMargate @FrancaisFarage @John35542712 ...         NaN   \n",
       "4     You beat me to it, lol .. #cpc #cpcldr #cdnpol...         NaN   \n",
       "...                                                 ...         ...   \n",
       "2395  What's this...a new wave of virus???\\n\\n#KBF #...         NaN   \n",
       "2396  @realDonaldTrump 1st-To be so proud of a large...         NaN   \n",
       "2397  Ready to re-open? Use your #CARESAct Funding t...         NaN   \n",
       "2398  @HowDoYouMakeAU2 @Jenny06980536 @TerriSm600279...         NaN   \n",
       "2399  3 Bedroom (2 En-suite) - Near Yaya https://t.c...         NaN   \n",
       "\n",
       "                                          text_with_OCR  \n",
       "0                                                    oe  \n",
       "1     er ha an ey st ge at Bra wy yo ae ae ay at oes...  \n",
       "2                                              aS is he  \n",
       "3                                                Ser ah  \n",
       "4            You organize two car funeral procession iS  \n",
       "...                                                 ...  \n",
       "2395  Let me introduce you to our next problem Seen ...  \n",
       "2396  reed la HI WA ha ant aa Trump to draw out at l...  \n",
       "2397                       YOUR GO HERE Oe WEVE GOT vol  \n",
       "2398                               al LEAVE NEVER LEAVE  \n",
       "2399                                              re as  \n",
       "\n",
       "[2400 rows x 8 columns]"
      ],
      "text/html": "<div>\n<style scoped>\n    .dataframe tbody tr th:only-of-type {\n        vertical-align: middle;\n    }\n\n    .dataframe tbody tr th {\n        vertical-align: top;\n    }\n\n    .dataframe thead th {\n        text-align: right;\n    }\n</style>\n<table border=\"1\" class=\"dataframe\">\n  <thead>\n    <tr style=\"text-align: right;\">\n      <th></th>\n      <th>topic</th>\n      <th>hashtag</th>\n      <th>tweet_id</th>\n      <th>image_path</th>\n      <th>sample_path</th>\n      <th>body_text</th>\n      <th>image_text</th>\n      <th>text_with_OCR</th>\n    </tr>\n  </thead>\n  <tbody>\n    <tr>\n      <th>0</th>\n      <td>Immigration</td>\n      <td>refugees</td>\n      <td>1297606828461883394</td>\n      <td>./data_Immigration/refugees/tweets4/EgIGg6aXsA...</td>\n      <td>./annotation_data/Immigration/EgIGg6aXsAAX5-Y.jpg</td>\n      <td>Just one week left to get one of these hand em...</td>\n      <td>NaN</td>\n      <td>oe</td>\n    </tr>\n    <tr>\n      <th>1</th>\n      <td>Mask</td>\n      <td>maskup</td>\n      <td>1297309098669510656</td>\n      <td>./data_Mask/maskup/tweets4/EgD3vYTUcAE_JMC.jpg</td>\n      <td>NaN</td>\n      <td>🚧 #SFSO keeping our citizens updated on evacua...</td>\n      <td>NaN</td>\n      <td>er ha an ey st ge at Bra wy yo ae ae ay at oes...</td>\n    </tr>\n    <tr>\n      <th>2</th>\n      <td>Boomer</td>\n      <td>caresact</td>\n      <td>1291464418715459589</td>\n      <td>./data_Boomer/caresact/tweets1/Eew0B6PWAAYZPCX...</td>\n      <td>NaN</td>\n      <td>Arguably, this one segment from the #CARESAct ...</td>\n      <td>NaN</td>\n      <td>aS is he</td>\n    </tr>\n    <tr>\n      <th>3</th>\n      <td>Mask</td>\n      <td>NoMasks</td>\n      <td>1290561571312328706</td>\n      <td>./data_Mask/NoMasks/tweets1/Eej-523WsAAJa6h.jpg</td>\n      <td>NaN</td>\n      <td>@RupertaMargate @FrancaisFarage @John35542712 ...</td>\n      <td>NaN</td>\n      <td>Ser ah</td>\n    </tr>\n    <tr>\n      <th>4</th>\n      <td>Immigration</td>\n      <td>cdnpoli</td>\n      <td>1297693936782213123</td>\n      <td>./data_Immigration/cdnpoli/tweets4/EgJVvpkUMAA...</td>\n      <td>./annotation_data/Immigration/EgJVvpkUMAALB8Z.png</td>\n      <td>You beat me to it, lol .. #cpc #cpcldr #cdnpol...</td>\n      <td>NaN</td>\n      <td>You organize two car funeral procession iS</td>\n    </tr>\n    <tr>\n      <th>...</th>\n      <td>...</td>\n      <td>...</td>\n      <td>...</td>\n      <td>...</td>\n      <td>...</td>\n      <td>...</td>\n      <td>...</td>\n      <td>...</td>\n    </tr>\n    <tr>\n      <th>2395</th>\n      <td>Mask</td>\n      <td>NoMasks</td>\n      <td>1291460379638484994</td>\n      <td>./data_Mask/NoMasks/tweets1/EewwXv5WkAEb91v.jpg</td>\n      <td>NaN</td>\n      <td>What's this...a new wave of virus???\\n\\n#KBF #...</td>\n      <td>NaN</td>\n      <td>Let me introduce you to our next problem Seen ...</td>\n    </tr>\n    <tr>\n      <th>2396</th>\n      <td>Boomer</td>\n      <td>trumpliesamericansdie</td>\n      <td>1290437319611342851</td>\n      <td>./data_Boomer/trumpliesamericansdie/tweets1/Ee...</td>\n      <td>NaN</td>\n      <td>@realDonaldTrump 1st-To be so proud of a large...</td>\n      <td>NaN</td>\n      <td>reed la HI WA ha ant aa Trump to draw out at l...</td>\n    </tr>\n    <tr>\n      <th>2397</th>\n      <td>Boomer</td>\n      <td>caresact</td>\n      <td>1293904775055052801</td>\n      <td>./data_Boomer/caresact/tweets2/EfTfiMrWsAA35Y4...</td>\n      <td>NaN</td>\n      <td>Ready to re-open? Use your #CARESAct Funding t...</td>\n      <td>NaN</td>\n      <td>YOUR GO HERE Oe WEVE GOT vol</td>\n    </tr>\n    <tr>\n      <th>2398</th>\n      <td>Political</td>\n      <td>Trump2020</td>\n      <td>1291952240534728704</td>\n      <td>./data_Political/Trump2020/tweets2/Ee3vtmRX0AA...</td>\n      <td>NaN</td>\n      <td>@HowDoYouMakeAU2 @Jenny06980536 @TerriSm600279...</td>\n      <td>NaN</td>\n      <td>al LEAVE NEVER LEAVE</td>\n    </tr>\n    <tr>\n      <th>2399</th>\n      <td>Boomer</td>\n      <td>karen</td>\n      <td>1292188919639859200</td>\n      <td>./data_Boomer/karen/tweets2/Ee7G-YNU4AIU4Mh.jpg</td>\n      <td>NaN</td>\n      <td>3 Bedroom (2 En-suite) - Near Yaya https://t.c...</td>\n      <td>NaN</td>\n      <td>re as</td>\n    </tr>\n  </tbody>\n</table>\n<p>2400 rows × 8 columns</p>\n</div>"
     },
     "metadata": {},
     "execution_count": 5
    }
   ],
   "source": [
    "df_samples.to_csv('./csv_data/sample_data.csv', index=False)\n",
    "df_samples"
   ]
  },
  {
   "cell_type": "code",
   "execution_count": null,
   "metadata": {},
   "outputs": [],
   "source": []
  }
 ]
}