{
 "metadata": {
  "language_info": {
   "codemirror_mode": {
    "name": "ipython",
    "version": 3
   },
   "file_extension": ".py",
   "mimetype": "text/x-python",
   "name": "python",
   "nbconvert_exporter": "python",
   "pygments_lexer": "ipython3",
   "version": "3.9.2"
  },
  "orig_nbformat": 2,
  "kernelspec": {
   "name": "python392jvsc74a57bd0cd1f5da85199302314bd73b2bb6f21c64cad1b4f001173fa3ddb4057b62cb3fe",
   "display_name": "Python 3.9.2 64-bit ('tweets': conda)"
  }
 },
 "nbformat": 4,
 "nbformat_minor": 2,
 "cells": [
  {
   "cell_type": "code",
   "execution_count": 1,
   "metadata": {},
   "outputs": [],
   "source": [
    "import os\n",
    "import re\n",
    "from pathlib import Path\n",
    "from shutil import copyfile\n",
    "import pandas as pd"
   ]
  },
  {
   "cell_type": "code",
   "execution_count": 2,
   "metadata": {},
   "outputs": [],
   "source": [
    "data_folder = './csv_data'\n",
    "total_samples = 2400"
   ]
  },
  {
   "cell_type": "code",
   "execution_count": 3,
   "metadata": {},
   "outputs": [
    {
     "output_type": "stream",
     "name": "stdout",
     "text": [
      "Political    29663  \n",
      "Immigration  6854   \n",
      "AsianHate    1602   \n",
      "Boomer       2184   \n",
      "Vaccine      2671   \n",
      "Mask         20149  \n"
     ]
    }
   ],
   "source": [
    "df_count = pd.DataFrame(columns=['topic', 'count', 'proportion_count'])\n",
    "\n",
    "csv_dfs = {}\n",
    "total_count = 0\n",
    "\n",
    "entries = os.listdir(data_folder)\n",
    "regex = re.compile('data_([a-zA-Z]*)_nodups_wobj\\.csv')\n",
    "\n",
    "for filename in entries:\n",
    "    if filename.startswith('.'): continue\n",
    "    matched = regex.search(filename)\n",
    "    if matched:\n",
    "        topic_name = matched.group(1)\n",
    "        csv_path = os.path.join(data_folder, filename)\n",
    "        csv_dfs[topic_name] = pd.read_csv(csv_path, index_col=0)\n",
    "        row_count = len(csv_dfs[topic_name].index)\n",
    "        total_count += row_count\n",
    "        df_count.loc[len(df_count)] = [topic_name, row_count, -1]\n",
    "        print('{:<13}{:<7}'.format(topic_name, row_count))\n"
   ]
  },
  {
   "cell_type": "code",
   "execution_count": 4,
   "metadata": {},
   "outputs": [],
   "source": [
    "# df_count['proportion_count'] = df_count['count'].apply(lambda x: round((x/total_count)*total_samples))\n",
    "df_count['proportion_count'] = round(total_samples / len(df_count.index))"
   ]
  },
  {
   "cell_type": "code",
   "execution_count": 5,
   "metadata": {},
   "outputs": [
    {
     "output_type": "execute_result",
     "data": {
      "text/plain": [
       "         topic  count  proportion_count\n",
       "0    Political  29663               400\n",
       "1  Immigration   6854               400\n",
       "2    AsianHate   1602               400\n",
       "3       Boomer   2184               400\n",
       "4      Vaccine   2671               400\n",
       "5         Mask  20149               400"
      ],
      "text/html": "<div>\n<style scoped>\n    .dataframe tbody tr th:only-of-type {\n        vertical-align: middle;\n    }\n\n    .dataframe tbody tr th {\n        vertical-align: top;\n    }\n\n    .dataframe thead th {\n        text-align: right;\n    }\n</style>\n<table border=\"1\" class=\"dataframe\">\n  <thead>\n    <tr style=\"text-align: right;\">\n      <th></th>\n      <th>topic</th>\n      <th>count</th>\n      <th>proportion_count</th>\n    </tr>\n  </thead>\n  <tbody>\n    <tr>\n      <th>0</th>\n      <td>Political</td>\n      <td>29663</td>\n      <td>400</td>\n    </tr>\n    <tr>\n      <th>1</th>\n      <td>Immigration</td>\n      <td>6854</td>\n      <td>400</td>\n    </tr>\n    <tr>\n      <th>2</th>\n      <td>AsianHate</td>\n      <td>1602</td>\n      <td>400</td>\n    </tr>\n    <tr>\n      <th>3</th>\n      <td>Boomer</td>\n      <td>2184</td>\n      <td>400</td>\n    </tr>\n    <tr>\n      <th>4</th>\n      <td>Vaccine</td>\n      <td>2671</td>\n      <td>400</td>\n    </tr>\n    <tr>\n      <th>5</th>\n      <td>Mask</td>\n      <td>20149</td>\n      <td>400</td>\n    </tr>\n  </tbody>\n</table>\n</div>"
     },
     "metadata": {},
     "execution_count": 5
    }
   ],
   "source": [
    "df_count.to_csv('./csv_data/sample_count.csv', index=False)\n",
    "df_count"
   ]
  },
  {
   "cell_type": "code",
   "execution_count": 6,
   "metadata": {},
   "outputs": [
    {
     "output_type": "execute_result",
     "data": {
      "text/plain": [
       "2400"
      ]
     },
     "metadata": {},
     "execution_count": 6
    }
   ],
   "source": [
    "df_count['proportion_count'].sum()"
   ]
  },
  {
   "cell_type": "code",
   "execution_count": 7,
   "metadata": {},
   "outputs": [
    {
     "output_type": "execute_result",
     "data": {
      "text/plain": [
       "          topic     hashtag             tweet_id  \\\n",
       "0     Political        maga  1293438333503373312   \n",
       "1     Political  trumpvirus  1289888955568140289   \n",
       "2     Political   Trump2020  1297529851587497986   \n",
       "3     Political        maga  1292446789623193601   \n",
       "4     Political  trumpvirus  1293388373223243776   \n",
       "...         ...         ...                  ...   \n",
       "2395       Mask      maskup  1298350209957863424   \n",
       "2396       Mask      maskup  1296596061876899842   \n",
       "2397       Mask   WearAMask  1292250597593415685   \n",
       "2398       Mask   facemasks  1298568754327171072   \n",
       "2399       Mask    facemask  1293509861213339648   \n",
       "\n",
       "                                             image_path sample_path  \\\n",
       "0     ./data_Political/maga/tweets2/EfM3M8yXoAAmx8N.jpg          -1   \n",
       "1     ./data_Political/trumpvirus/tweets1/EeabK0xWAA...          -1   \n",
       "2     ./data_Political/Trump2020/tweets4/EgHAYRDWkAg...          -1   \n",
       "3     ./data_Political/maga/tweets2/Ee-xgU8UEAIVBgx.jpg          -1   \n",
       "4     ./data_Political/trumpvirus/tweets2/EfMJ3QwWoA...          -1   \n",
       "...                                                 ...         ...   \n",
       "2395     ./data_Mask/maskup/tweets4/EgSqoY-WoAQeCSK.jpg          -1   \n",
       "2396     ./data_Mask/maskup/tweets3/Ef5vPcfWoAE-waN.jpg          -1   \n",
       "2397  ./data_Mask/WearAMask/tweets2/Ee7_EdIWsAMb3KI.jpg          -1   \n",
       "2398  ./data_Mask/facemasks/tweets4/EgVxXGsXoAIastL.jpg          -1   \n",
       "2399   ./data_Mask/facemask/tweets2/EfN4XJbXsAA7Jch.jpg          -1   \n",
       "\n",
       "                                              body_text image_text  \n",
       "0     .@realDonaldTrump  and #MAGA you know your boy...         -1  \n",
       "1     @Heritage @realDonaldTrump @HvonSpakovsky @Liz...         -1  \n",
       "2     I'm getting close to 200 followers in a record...         -1  \n",
       "3     @w_terrence And exactly WHO do y’all give a da...         -1  \n",
       "4     @realDonaldTrump How canUeven ALLOW these #Fak...         -1  \n",
       "...                                                 ...        ...  \n",
       "2395  Don't forget to stay up-to-date with all the l...         -1  \n",
       "2396  Come Help Us Celebrate Heaven’s Birthday Tonig...         -1  \n",
       "2397  Just a reminder to set your reminder to remind...         -1  \n",
       "2398  #life continues\\n-\\n#Indian woman Sree Giri Sh...         -1  \n",
       "2399  Do you need face masks? 😷\\n\\n@SweetwaterMayor ...         -1  \n",
       "\n",
       "[2400 rows x 7 columns]"
      ],
      "text/html": "<div>\n<style scoped>\n    .dataframe tbody tr th:only-of-type {\n        vertical-align: middle;\n    }\n\n    .dataframe tbody tr th {\n        vertical-align: top;\n    }\n\n    .dataframe thead th {\n        text-align: right;\n    }\n</style>\n<table border=\"1\" class=\"dataframe\">\n  <thead>\n    <tr style=\"text-align: right;\">\n      <th></th>\n      <th>topic</th>\n      <th>hashtag</th>\n      <th>tweet_id</th>\n      <th>image_path</th>\n      <th>sample_path</th>\n      <th>body_text</th>\n      <th>image_text</th>\n    </tr>\n  </thead>\n  <tbody>\n    <tr>\n      <th>0</th>\n      <td>Political</td>\n      <td>maga</td>\n      <td>1293438333503373312</td>\n      <td>./data_Political/maga/tweets2/EfM3M8yXoAAmx8N.jpg</td>\n      <td>-1</td>\n      <td>.@realDonaldTrump  and #MAGA you know your boy...</td>\n      <td>-1</td>\n    </tr>\n    <tr>\n      <th>1</th>\n      <td>Political</td>\n      <td>trumpvirus</td>\n      <td>1289888955568140289</td>\n      <td>./data_Political/trumpvirus/tweets1/EeabK0xWAA...</td>\n      <td>-1</td>\n      <td>@Heritage @realDonaldTrump @HvonSpakovsky @Liz...</td>\n      <td>-1</td>\n    </tr>\n    <tr>\n      <th>2</th>\n      <td>Political</td>\n      <td>Trump2020</td>\n      <td>1297529851587497986</td>\n      <td>./data_Political/Trump2020/tweets4/EgHAYRDWkAg...</td>\n      <td>-1</td>\n      <td>I'm getting close to 200 followers in a record...</td>\n      <td>-1</td>\n    </tr>\n    <tr>\n      <th>3</th>\n      <td>Political</td>\n      <td>maga</td>\n      <td>1292446789623193601</td>\n      <td>./data_Political/maga/tweets2/Ee-xgU8UEAIVBgx.jpg</td>\n      <td>-1</td>\n      <td>@w_terrence And exactly WHO do y’all give a da...</td>\n      <td>-1</td>\n    </tr>\n    <tr>\n      <th>4</th>\n      <td>Political</td>\n      <td>trumpvirus</td>\n      <td>1293388373223243776</td>\n      <td>./data_Political/trumpvirus/tweets2/EfMJ3QwWoA...</td>\n      <td>-1</td>\n      <td>@realDonaldTrump How canUeven ALLOW these #Fak...</td>\n      <td>-1</td>\n    </tr>\n    <tr>\n      <th>...</th>\n      <td>...</td>\n      <td>...</td>\n      <td>...</td>\n      <td>...</td>\n      <td>...</td>\n      <td>...</td>\n      <td>...</td>\n    </tr>\n    <tr>\n      <th>2395</th>\n      <td>Mask</td>\n      <td>maskup</td>\n      <td>1298350209957863424</td>\n      <td>./data_Mask/maskup/tweets4/EgSqoY-WoAQeCSK.jpg</td>\n      <td>-1</td>\n      <td>Don't forget to stay up-to-date with all the l...</td>\n      <td>-1</td>\n    </tr>\n    <tr>\n      <th>2396</th>\n      <td>Mask</td>\n      <td>maskup</td>\n      <td>1296596061876899842</td>\n      <td>./data_Mask/maskup/tweets3/Ef5vPcfWoAE-waN.jpg</td>\n      <td>-1</td>\n      <td>Come Help Us Celebrate Heaven’s Birthday Tonig...</td>\n      <td>-1</td>\n    </tr>\n    <tr>\n      <th>2397</th>\n      <td>Mask</td>\n      <td>WearAMask</td>\n      <td>1292250597593415685</td>\n      <td>./data_Mask/WearAMask/tweets2/Ee7_EdIWsAMb3KI.jpg</td>\n      <td>-1</td>\n      <td>Just a reminder to set your reminder to remind...</td>\n      <td>-1</td>\n    </tr>\n    <tr>\n      <th>2398</th>\n      <td>Mask</td>\n      <td>facemasks</td>\n      <td>1298568754327171072</td>\n      <td>./data_Mask/facemasks/tweets4/EgVxXGsXoAIastL.jpg</td>\n      <td>-1</td>\n      <td>#life continues\\n-\\n#Indian woman Sree Giri Sh...</td>\n      <td>-1</td>\n    </tr>\n    <tr>\n      <th>2399</th>\n      <td>Mask</td>\n      <td>facemask</td>\n      <td>1293509861213339648</td>\n      <td>./data_Mask/facemask/tweets2/EfN4XJbXsAA7Jch.jpg</td>\n      <td>-1</td>\n      <td>Do you need face masks? 😷\\n\\n@SweetwaterMayor ...</td>\n      <td>-1</td>\n    </tr>\n  </tbody>\n</table>\n<p>2400 rows × 7 columns</p>\n</div>"
     },
     "metadata": {},
     "execution_count": 7
    }
   ],
   "source": [
    "df_samples = pd.DataFrame(columns=['topic', 'hashtag', 'tweet_id', 'image_path', 'sample_path', 'body_text', 'image_text'])\n",
    "\n",
    "for _, row in df_count.iterrows():\n",
    "    topic_name = row['topic']\n",
    "    df_topic = csv_dfs[topic_name].sample(n=row['proportion_count'], random_state=42)\n",
    "    df_topic.insert(loc=0, column='topic', value=topic_name)\n",
    "    df_topic.insert(loc=4, column='sample_path', value=-1)\n",
    "    df_topic.insert(loc=len(df_topic.columns), column='image_text', value=-1)\n",
    "    df_samples = df_samples.append(df_topic)\n",
    "\n",
    "df_samples.reset_index(drop=True, inplace=True)\n",
    "df_samples.to_csv('./csv_data/sample_data.csv', index=False)\n",
    "df_samples"
   ]
  },
  {
   "source": [
    "# Please only run cells below\n",
    "\n",
    "## Copy selected samples and generate sample path"
   ],
   "cell_type": "markdown",
   "metadata": {}
  },
  {
   "cell_type": "code",
   "execution_count": 8,
   "metadata": {},
   "outputs": [],
   "source": [
    "import os\n",
    "from pathlib import Path\n",
    "from shutil import copyfile\n",
    "import pandas as pd"
   ]
  },
  {
   "cell_type": "code",
   "execution_count": 9,
   "metadata": {},
   "outputs": [],
   "source": [
    "df_count = pd.read_csv('./csv_data/sample_count.csv')\n",
    "df_samples = pd.read_csv('./csv_data/sample_data.csv')"
   ]
  },
  {
   "cell_type": "code",
   "execution_count": 10,
   "metadata": {},
   "outputs": [],
   "source": [
    "def get_sample_path_and_copy(df, topic, annot_data_path):\n",
    "    # if the sample_path already exists\n",
    "    if df['sample_path'] != -1:\n",
    "        return df['sample_path']\n",
    "\n",
    "    # if topic is not the selected topic\n",
    "    if df['sample_path'] == -1 and df['topic'] != topic:\n",
    "        return -1\n",
    "    \n",
    "    image_name = df['image_path'].split('/')[-1]\n",
    "    dst_path = os.path.join(annot_data_path, image_name)\n",
    "    copyfile(df['image_path'], dst_path)\n",
    "    return dst_path"
   ]
  },
  {
   "cell_type": "code",
   "execution_count": 11,
   "metadata": {
    "tags": []
   },
   "outputs": [
    {
     "output_type": "stream",
     "name": "stdout",
     "text": [
      "./data_Political not exists; pass this topic\n",
      "Topic \"Immigration\" processed\n",
      "./data_AsianHate not exists; pass this topic\n",
      "./data_Boomer not exists; pass this topic\n",
      "Topic \"Vaccine\" processed\n",
      "./data_Mask not exists; pass this topic\n"
     ]
    }
   ],
   "source": [
    "sample_folder = './annotation_data'\n",
    "Path(sample_folder).mkdir(exist_ok=True)\n",
    "\n",
    "for _, row in df_count.iterrows():\n",
    "    topic_name = row['topic']\n",
    "    topic_data_path = os.path.join('./', 'data_' + topic_name)\n",
    "    annot_data_path = os.path.join(sample_folder, topic_name)\n",
    "    # if data_{topic_name} folder doesn't exist\n",
    "    if not Path(topic_data_path).is_dir():\n",
    "        print('{} not exists; pass this topic'.format(topic_data_path))\n",
    "        continue\n",
    "\n",
    "    # if the sampled data for this topic already exists\n",
    "    if Path(annot_data_path).is_dir():\n",
    "        print('{} already exist; pass this topic'.format(annot_data_path))\n",
    "        continue\n",
    "\n",
    "    Path(annot_data_path).mkdir()\n",
    "\n",
    "    df_samples['sample_path'] = df_samples.apply(get_sample_path_and_copy, axis=1, topic=topic_name, annot_data_path=annot_data_path)\n",
    "\n",
    "    print('Topic \\\"{}\\\" processed'.format(topic_name))"
   ]
  },
  {
   "cell_type": "code",
   "execution_count": 12,
   "metadata": {},
   "outputs": [
    {
     "output_type": "execute_result",
     "data": {
      "text/plain": [
       "          topic     hashtag             tweet_id  \\\n",
       "0     Political        maga  1293438333503373312   \n",
       "1     Political  trumpvirus  1289888955568140289   \n",
       "2     Political   Trump2020  1297529851587497986   \n",
       "3     Political        maga  1292446789623193601   \n",
       "4     Political  trumpvirus  1293388373223243776   \n",
       "...         ...         ...                  ...   \n",
       "2395       Mask      maskup  1298350209957863424   \n",
       "2396       Mask      maskup  1296596061876899842   \n",
       "2397       Mask   WearAMask  1292250597593415685   \n",
       "2398       Mask   facemasks  1298568754327171072   \n",
       "2399       Mask    facemask  1293509861213339648   \n",
       "\n",
       "                                             image_path sample_path  \\\n",
       "0     ./data_Political/maga/tweets2/EfM3M8yXoAAmx8N.jpg          -1   \n",
       "1     ./data_Political/trumpvirus/tweets1/EeabK0xWAA...          -1   \n",
       "2     ./data_Political/Trump2020/tweets4/EgHAYRDWkAg...          -1   \n",
       "3     ./data_Political/maga/tweets2/Ee-xgU8UEAIVBgx.jpg          -1   \n",
       "4     ./data_Political/trumpvirus/tweets2/EfMJ3QwWoA...          -1   \n",
       "...                                                 ...         ...   \n",
       "2395     ./data_Mask/maskup/tweets4/EgSqoY-WoAQeCSK.jpg          -1   \n",
       "2396     ./data_Mask/maskup/tweets3/Ef5vPcfWoAE-waN.jpg          -1   \n",
       "2397  ./data_Mask/WearAMask/tweets2/Ee7_EdIWsAMb3KI.jpg          -1   \n",
       "2398  ./data_Mask/facemasks/tweets4/EgVxXGsXoAIastL.jpg          -1   \n",
       "2399   ./data_Mask/facemask/tweets2/EfN4XJbXsAA7Jch.jpg          -1   \n",
       "\n",
       "                                              body_text  image_text  \n",
       "0     .@realDonaldTrump  and #MAGA you know your boy...          -1  \n",
       "1     @Heritage @realDonaldTrump @HvonSpakovsky @Liz...          -1  \n",
       "2     I'm getting close to 200 followers in a record...          -1  \n",
       "3     @w_terrence And exactly WHO do y’all give a da...          -1  \n",
       "4     @realDonaldTrump How canUeven ALLOW these #Fak...          -1  \n",
       "...                                                 ...         ...  \n",
       "2395  Don't forget to stay up-to-date with all the l...          -1  \n",
       "2396  Come Help Us Celebrate Heaven’s Birthday Tonig...          -1  \n",
       "2397  Just a reminder to set your reminder to remind...          -1  \n",
       "2398  #life continues\\n-\\n#Indian woman Sree Giri Sh...          -1  \n",
       "2399  Do you need face masks? 😷\\n\\n@SweetwaterMayor ...          -1  \n",
       "\n",
       "[2400 rows x 7 columns]"
      ],
      "text/html": "<div>\n<style scoped>\n    .dataframe tbody tr th:only-of-type {\n        vertical-align: middle;\n    }\n\n    .dataframe tbody tr th {\n        vertical-align: top;\n    }\n\n    .dataframe thead th {\n        text-align: right;\n    }\n</style>\n<table border=\"1\" class=\"dataframe\">\n  <thead>\n    <tr style=\"text-align: right;\">\n      <th></th>\n      <th>topic</th>\n      <th>hashtag</th>\n      <th>tweet_id</th>\n      <th>image_path</th>\n      <th>sample_path</th>\n      <th>body_text</th>\n      <th>image_text</th>\n    </tr>\n  </thead>\n  <tbody>\n    <tr>\n      <th>0</th>\n      <td>Political</td>\n      <td>maga</td>\n      <td>1293438333503373312</td>\n      <td>./data_Political/maga/tweets2/EfM3M8yXoAAmx8N.jpg</td>\n      <td>-1</td>\n      <td>.@realDonaldTrump  and #MAGA you know your boy...</td>\n      <td>-1</td>\n    </tr>\n    <tr>\n      <th>1</th>\n      <td>Political</td>\n      <td>trumpvirus</td>\n      <td>1289888955568140289</td>\n      <td>./data_Political/trumpvirus/tweets1/EeabK0xWAA...</td>\n      <td>-1</td>\n      <td>@Heritage @realDonaldTrump @HvonSpakovsky @Liz...</td>\n      <td>-1</td>\n    </tr>\n    <tr>\n      <th>2</th>\n      <td>Political</td>\n      <td>Trump2020</td>\n      <td>1297529851587497986</td>\n      <td>./data_Political/Trump2020/tweets4/EgHAYRDWkAg...</td>\n      <td>-1</td>\n      <td>I'm getting close to 200 followers in a record...</td>\n      <td>-1</td>\n    </tr>\n    <tr>\n      <th>3</th>\n      <td>Political</td>\n      <td>maga</td>\n      <td>1292446789623193601</td>\n      <td>./data_Political/maga/tweets2/Ee-xgU8UEAIVBgx.jpg</td>\n      <td>-1</td>\n      <td>@w_terrence And exactly WHO do y’all give a da...</td>\n      <td>-1</td>\n    </tr>\n    <tr>\n      <th>4</th>\n      <td>Political</td>\n      <td>trumpvirus</td>\n      <td>1293388373223243776</td>\n      <td>./data_Political/trumpvirus/tweets2/EfMJ3QwWoA...</td>\n      <td>-1</td>\n      <td>@realDonaldTrump How canUeven ALLOW these #Fak...</td>\n      <td>-1</td>\n    </tr>\n    <tr>\n      <th>...</th>\n      <td>...</td>\n      <td>...</td>\n      <td>...</td>\n      <td>...</td>\n      <td>...</td>\n      <td>...</td>\n      <td>...</td>\n    </tr>\n    <tr>\n      <th>2395</th>\n      <td>Mask</td>\n      <td>maskup</td>\n      <td>1298350209957863424</td>\n      <td>./data_Mask/maskup/tweets4/EgSqoY-WoAQeCSK.jpg</td>\n      <td>-1</td>\n      <td>Don't forget to stay up-to-date with all the l...</td>\n      <td>-1</td>\n    </tr>\n    <tr>\n      <th>2396</th>\n      <td>Mask</td>\n      <td>maskup</td>\n      <td>1296596061876899842</td>\n      <td>./data_Mask/maskup/tweets3/Ef5vPcfWoAE-waN.jpg</td>\n      <td>-1</td>\n      <td>Come Help Us Celebrate Heaven’s Birthday Tonig...</td>\n      <td>-1</td>\n    </tr>\n    <tr>\n      <th>2397</th>\n      <td>Mask</td>\n      <td>WearAMask</td>\n      <td>1292250597593415685</td>\n      <td>./data_Mask/WearAMask/tweets2/Ee7_EdIWsAMb3KI.jpg</td>\n      <td>-1</td>\n      <td>Just a reminder to set your reminder to remind...</td>\n      <td>-1</td>\n    </tr>\n    <tr>\n      <th>2398</th>\n      <td>Mask</td>\n      <td>facemasks</td>\n      <td>1298568754327171072</td>\n      <td>./data_Mask/facemasks/tweets4/EgVxXGsXoAIastL.jpg</td>\n      <td>-1</td>\n      <td>#life continues\\n-\\n#Indian woman Sree Giri Sh...</td>\n      <td>-1</td>\n    </tr>\n    <tr>\n      <th>2399</th>\n      <td>Mask</td>\n      <td>facemask</td>\n      <td>1293509861213339648</td>\n      <td>./data_Mask/facemask/tweets2/EfN4XJbXsAA7Jch.jpg</td>\n      <td>-1</td>\n      <td>Do you need face masks? 😷\\n\\n@SweetwaterMayor ...</td>\n      <td>-1</td>\n    </tr>\n  </tbody>\n</table>\n<p>2400 rows × 7 columns</p>\n</div>"
     },
     "metadata": {},
     "execution_count": 12
    }
   ],
   "source": [
    "df_samples.to_csv('./csv_data/sample_data.csv', index=False)\n",
    "df_samples"
   ]
  },
  {
   "cell_type": "code",
   "execution_count": null,
   "metadata": {},
   "outputs": [],
   "source": []
  }
 ]
}