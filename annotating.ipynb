{
 "metadata": {
  "language_info": {
   "codemirror_mode": {
    "name": "ipython",
    "version": 3
   },
   "file_extension": ".py",
   "mimetype": "text/x-python",
   "name": "python",
   "nbconvert_exporter": "python",
   "pygments_lexer": "ipython3",
   "version": "3.9.2"
  },
  "orig_nbformat": 2,
  "kernelspec": {
   "name": "python392jvsc74a57bd0cd1f5da85199302314bd73b2bb6f21c64cad1b4f001173fa3ddb4057b62cb3fe",
   "display_name": "Python 3.9.2 64-bit ('tweets': conda)"
  }
 },
 "nbformat": 4,
 "nbformat_minor": 2,
 "cells": [
  {
   "cell_type": "code",
   "execution_count": 1,
   "metadata": {},
   "outputs": [],
   "source": [
    "import os\n",
    "import re\n",
    "from pathlib import Path\n",
    "from shutil import copyfile\n",
    "import pandas as pd"
   ]
  },
  {
   "cell_type": "code",
   "execution_count": 2,
   "metadata": {},
   "outputs": [],
   "source": [
    "data_folder = './csv_data'\n",
    "total_samples = 2400"
   ]
  },
  {
   "cell_type": "code",
   "execution_count": 3,
   "metadata": {},
   "outputs": [
    {
     "output_type": "stream",
     "name": "stdout",
     "text": [
      "Political    29663  \n",
      "Immigration  6854   \n",
      "AsianHate    1602   \n",
      "Boomer       2184   \n",
      "Vaccine      2671   \n",
      "Mask         20149  \n"
     ]
    }
   ],
   "source": [
    "df_count = pd.DataFrame(columns=['topic', 'count', 'proportion_count'])\n",
    "\n",
    "csv_dfs = {}\n",
    "total_count = 0\n",
    "\n",
    "entries = os.listdir(data_folder)\n",
    "regex = re.compile('data_([a-zA-Z]*)_nodups_wobj\\.csv')\n",
    "\n",
    "for filename in entries:\n",
    "    if filename.startswith('.'): continue\n",
    "    matched = regex.search(filename)\n",
    "    if matched:\n",
    "        topic_name = matched.group(1)\n",
    "        csv_path = os.path.join(data_folder, filename)\n",
    "        csv_dfs[topic_name] = pd.read_csv(csv_path, index_col=0)\n",
    "        row_count = len(csv_dfs[topic_name].index)\n",
    "        total_count += row_count\n",
    "        df_count.loc[len(df_count)] = [topic_name, row_count, -1]\n",
    "        print('{:<13}{:<7}'.format(topic_name, row_count))\n"
   ]
  },
  {
   "cell_type": "code",
   "execution_count": 4,
   "metadata": {},
   "outputs": [],
   "source": [
    "# df_count['proportion_count'] = df_count['count'].apply(lambda x: round((x/total_count)*total_samples))\n",
    "df_count['proportion_count'] = round(total_samples / len(df_count.index))"
   ]
  },
  {
   "cell_type": "code",
   "execution_count": 5,
   "metadata": {},
   "outputs": [
    {
     "output_type": "execute_result",
     "data": {
      "text/plain": [
       "         topic  count  proportion_count\n",
       "0    Political  29663               400\n",
       "1  Immigration   6854               400\n",
       "2    AsianHate   1602               400\n",
       "3       Boomer   2184               400\n",
       "4      Vaccine   2671               400\n",
       "5         Mask  20149               400"
      ],
      "text/html": "<div>\n<style scoped>\n    .dataframe tbody tr th:only-of-type {\n        vertical-align: middle;\n    }\n\n    .dataframe tbody tr th {\n        vertical-align: top;\n    }\n\n    .dataframe thead th {\n        text-align: right;\n    }\n</style>\n<table border=\"1\" class=\"dataframe\">\n  <thead>\n    <tr style=\"text-align: right;\">\n      <th></th>\n      <th>topic</th>\n      <th>count</th>\n      <th>proportion_count</th>\n    </tr>\n  </thead>\n  <tbody>\n    <tr>\n      <th>0</th>\n      <td>Political</td>\n      <td>29663</td>\n      <td>400</td>\n    </tr>\n    <tr>\n      <th>1</th>\n      <td>Immigration</td>\n      <td>6854</td>\n      <td>400</td>\n    </tr>\n    <tr>\n      <th>2</th>\n      <td>AsianHate</td>\n      <td>1602</td>\n      <td>400</td>\n    </tr>\n    <tr>\n      <th>3</th>\n      <td>Boomer</td>\n      <td>2184</td>\n      <td>400</td>\n    </tr>\n    <tr>\n      <th>4</th>\n      <td>Vaccine</td>\n      <td>2671</td>\n      <td>400</td>\n    </tr>\n    <tr>\n      <th>5</th>\n      <td>Mask</td>\n      <td>20149</td>\n      <td>400</td>\n    </tr>\n  </tbody>\n</table>\n</div>"
     },
     "metadata": {},
     "execution_count": 5
    }
   ],
   "source": [
    "df_count.to_csv('./csv_data/sample_count.csv', index=False)\n",
    "df_count"
   ]
  },
  {
   "cell_type": "code",
   "execution_count": 6,
   "metadata": {},
   "outputs": [
    {
     "output_type": "execute_result",
     "data": {
      "text/plain": [
       "2400"
      ]
     },
     "metadata": {},
     "execution_count": 6
    }
   ],
   "source": [
    "df_count['proportion_count'].sum()"
   ]
  },
  {
   "cell_type": "code",
   "execution_count": 7,
   "metadata": {},
   "outputs": [
    {
     "output_type": "execute_result",
     "data": {
      "text/plain": [
       "            topic              hashtag             tweet_id  \\\n",
       "0     Immigration              cdnpoli  1291029706708402179   \n",
       "1         Vaccine   CoronavirusVaccine  1293151196354494464   \n",
       "2       Political            Plandemic  1293314583667630081   \n",
       "3     Immigration             liberals  1294014092383080454   \n",
       "4       AsianHate  ChinaLiedPeopleDied  1292841029167652866   \n",
       "...           ...                  ...                  ...   \n",
       "2395    AsianHate             CCPVirus  1297010723495849985   \n",
       "2396    AsianHate  ChinaLiedPeopleDied  1293946442487406594   \n",
       "2397    AsianHate           wuhanvirus  1290422707683766272   \n",
       "2398         Mask            WearAMask  1290709415105048576   \n",
       "2399  Immigration             refugees  1296449211035197446   \n",
       "\n",
       "                                             image_path sample_path  \\\n",
       "0     ./data_Immigration/cdnpoli/tweets1/EeqoptLU8AA...          -1   \n",
       "1     ./data_Vaccine/CoronavirusVaccine/tweets2/EfIy...          -1   \n",
       "2     ./data_Political/Plandemic/tweets2/EfLGwjaWAAM...          -1   \n",
       "3     ./data_Immigration/liberals/tweets2/EfVC9bFWkA...          -1   \n",
       "4     ./data_AsianHate/ChinaLiedPeopleDied/tweets2/E...          -1   \n",
       "...                                                 ...         ...   \n",
       "2395  ./data_AsianHate/CCPVirus/tweets4/Ef_oXSgWkAEW...          -1   \n",
       "2396  ./data_AsianHate/ChinaLiedPeopleDied/tweets2/E...          -1   \n",
       "2397  ./data_AsianHate/wuhanvirus/tweets1/EeiAnIqVAA...          -1   \n",
       "2398  ./data_Mask/WearAMask/tweets1/EemFX43WkAARIu7.jpg          -1   \n",
       "2399  ./data_Immigration/refugees/tweets3/Ef3pr43WkA...          -1   \n",
       "\n",
       "                                              body_text image_text  \n",
       "0     On this day in 1960, the Ninth Prime Minister ...         -1  \n",
       "1     \"Putin\" taking orders for the Covid-19 Vaccine...         -1  \n",
       "2     @AlexanderSoros @KamalaHarris Criminals are no...         -1  \n",
       "3     #Antifa and #Liberals everywhere claiming to p...         -1  \n",
       "4     No more press freedom in Hong Kong #antielab #...         -1  \n",
       "...                                                 ...        ...  \n",
       "2395  @robert_spalding #CCP cover up the #CCPVirus i...         -1  \n",
       "2396  @BloombergAsia Sure, the problem is imported c...         -1  \n",
       "2397  These are largely peaceful protesters. -#CNN\\n...         -1  \n",
       "2398  GTFO\\n#coronavirus #wearamask https://t.co/r2n...         -1  \n",
       "2399  This week's @TalkGMA is not to get missed!! Pl...         -1  \n",
       "\n",
       "[2400 rows x 7 columns]"
      ],
      "text/html": "<div>\n<style scoped>\n    .dataframe tbody tr th:only-of-type {\n        vertical-align: middle;\n    }\n\n    .dataframe tbody tr th {\n        vertical-align: top;\n    }\n\n    .dataframe thead th {\n        text-align: right;\n    }\n</style>\n<table border=\"1\" class=\"dataframe\">\n  <thead>\n    <tr style=\"text-align: right;\">\n      <th></th>\n      <th>topic</th>\n      <th>hashtag</th>\n      <th>tweet_id</th>\n      <th>image_path</th>\n      <th>sample_path</th>\n      <th>body_text</th>\n      <th>image_text</th>\n    </tr>\n  </thead>\n  <tbody>\n    <tr>\n      <th>0</th>\n      <td>Immigration</td>\n      <td>cdnpoli</td>\n      <td>1291029706708402179</td>\n      <td>./data_Immigration/cdnpoli/tweets1/EeqoptLU8AA...</td>\n      <td>-1</td>\n      <td>On this day in 1960, the Ninth Prime Minister ...</td>\n      <td>-1</td>\n    </tr>\n    <tr>\n      <th>1</th>\n      <td>Vaccine</td>\n      <td>CoronavirusVaccine</td>\n      <td>1293151196354494464</td>\n      <td>./data_Vaccine/CoronavirusVaccine/tweets2/EfIy...</td>\n      <td>-1</td>\n      <td>\"Putin\" taking orders for the Covid-19 Vaccine...</td>\n      <td>-1</td>\n    </tr>\n    <tr>\n      <th>2</th>\n      <td>Political</td>\n      <td>Plandemic</td>\n      <td>1293314583667630081</td>\n      <td>./data_Political/Plandemic/tweets2/EfLGwjaWAAM...</td>\n      <td>-1</td>\n      <td>@AlexanderSoros @KamalaHarris Criminals are no...</td>\n      <td>-1</td>\n    </tr>\n    <tr>\n      <th>3</th>\n      <td>Immigration</td>\n      <td>liberals</td>\n      <td>1294014092383080454</td>\n      <td>./data_Immigration/liberals/tweets2/EfVC9bFWkA...</td>\n      <td>-1</td>\n      <td>#Antifa and #Liberals everywhere claiming to p...</td>\n      <td>-1</td>\n    </tr>\n    <tr>\n      <th>4</th>\n      <td>AsianHate</td>\n      <td>ChinaLiedPeopleDied</td>\n      <td>1292841029167652866</td>\n      <td>./data_AsianHate/ChinaLiedPeopleDied/tweets2/E...</td>\n      <td>-1</td>\n      <td>No more press freedom in Hong Kong #antielab #...</td>\n      <td>-1</td>\n    </tr>\n    <tr>\n      <th>...</th>\n      <td>...</td>\n      <td>...</td>\n      <td>...</td>\n      <td>...</td>\n      <td>...</td>\n      <td>...</td>\n      <td>...</td>\n    </tr>\n    <tr>\n      <th>2395</th>\n      <td>AsianHate</td>\n      <td>CCPVirus</td>\n      <td>1297010723495849985</td>\n      <td>./data_AsianHate/CCPVirus/tweets4/Ef_oXSgWkAEW...</td>\n      <td>-1</td>\n      <td>@robert_spalding #CCP cover up the #CCPVirus i...</td>\n      <td>-1</td>\n    </tr>\n    <tr>\n      <th>2396</th>\n      <td>AsianHate</td>\n      <td>ChinaLiedPeopleDied</td>\n      <td>1293946442487406594</td>\n      <td>./data_AsianHate/ChinaLiedPeopleDied/tweets2/E...</td>\n      <td>-1</td>\n      <td>@BloombergAsia Sure, the problem is imported c...</td>\n      <td>-1</td>\n    </tr>\n    <tr>\n      <th>2397</th>\n      <td>AsianHate</td>\n      <td>wuhanvirus</td>\n      <td>1290422707683766272</td>\n      <td>./data_AsianHate/wuhanvirus/tweets1/EeiAnIqVAA...</td>\n      <td>-1</td>\n      <td>These are largely peaceful protesters. -#CNN\\n...</td>\n      <td>-1</td>\n    </tr>\n    <tr>\n      <th>2398</th>\n      <td>Mask</td>\n      <td>WearAMask</td>\n      <td>1290709415105048576</td>\n      <td>./data_Mask/WearAMask/tweets1/EemFX43WkAARIu7.jpg</td>\n      <td>-1</td>\n      <td>GTFO\\n#coronavirus #wearamask https://t.co/r2n...</td>\n      <td>-1</td>\n    </tr>\n    <tr>\n      <th>2399</th>\n      <td>Immigration</td>\n      <td>refugees</td>\n      <td>1296449211035197446</td>\n      <td>./data_Immigration/refugees/tweets3/Ef3pr43WkA...</td>\n      <td>-1</td>\n      <td>This week's @TalkGMA is not to get missed!! Pl...</td>\n      <td>-1</td>\n    </tr>\n  </tbody>\n</table>\n<p>2400 rows × 7 columns</p>\n</div>"
     },
     "metadata": {},
     "execution_count": 7
    }
   ],
   "source": [
    "df_samples = pd.DataFrame(columns=['topic', 'hashtag', 'tweet_id', 'image_path', 'sample_path', 'body_text', 'image_text'])\n",
    "\n",
    "for _, row in df_count.iterrows():\n",
    "    topic_name = row['topic']\n",
    "    df_topic = csv_dfs[topic_name].sample(n=row['proportion_count'], random_state=42)\n",
    "    df_topic.insert(loc=0, column='topic', value=topic_name)\n",
    "    df_topic.insert(loc=4, column='sample_path', value=-1)\n",
    "    df_topic.insert(loc=len(df_topic.columns), column='image_text', value=-1)\n",
    "    df_samples = df_samples.append(df_topic)\n",
    "\n",
    "df_samples = df_samples.sample(frac=1).reset_index(drop=True)\n",
    "df_samples.to_csv('./csv_data/sample_data.csv', index=False)\n",
    "df_samples"
   ]
  },
  {
   "source": [
    "# Please only run cells below\n",
    "\n",
    "## Copy selected samples and generate sample path"
   ],
   "cell_type": "markdown",
   "metadata": {}
  },
  {
   "cell_type": "code",
   "execution_count": 8,
   "metadata": {},
   "outputs": [],
   "source": [
    "import os\n",
    "from pathlib import Path\n",
    "from shutil import copyfile\n",
    "import pandas as pd"
   ]
  },
  {
   "cell_type": "code",
   "execution_count": 9,
   "metadata": {},
   "outputs": [],
   "source": [
    "df_count = pd.read_csv('./csv_data/sample_count.csv')\n",
    "df_samples = pd.read_csv('./csv_data/sample_data.csv')"
   ]
  },
  {
   "cell_type": "code",
   "execution_count": 10,
   "metadata": {},
   "outputs": [],
   "source": [
    "def get_sample_path_and_copy(df, topic, annot_data_path):\n",
    "    # if the sample_path already exists\n",
    "    if df['sample_path'] != -1:\n",
    "        return df['sample_path']\n",
    "\n",
    "    # if topic is not the selected topic\n",
    "    if df['sample_path'] == -1 and df['topic'] != topic:\n",
    "        return -1\n",
    "    \n",
    "    image_name = df['image_path'].split('/')[-1]\n",
    "    dst_path = os.path.join(annot_data_path, image_name)\n",
    "    copyfile(df['image_path'], dst_path)\n",
    "    return dst_path"
   ]
  },
  {
   "cell_type": "code",
   "execution_count": 11,
   "metadata": {
    "tags": []
   },
   "outputs": [
    {
     "output_type": "stream",
     "name": "stdout",
     "text": [
      "./data_Political not exists; pass this topic\n",
      "Topic \"Immigration\" processed\n",
      "./data_AsianHate not exists; pass this topic\n",
      "./data_Boomer not exists; pass this topic\n",
      "Topic \"Vaccine\" processed\n",
      "./data_Mask not exists; pass this topic\n"
     ]
    }
   ],
   "source": [
    "sample_folder = './annotation_data'\n",
    "Path(sample_folder).mkdir(exist_ok=True)\n",
    "\n",
    "for _, row in df_count.iterrows():\n",
    "    topic_name = row['topic']\n",
    "    topic_data_path = os.path.join('./', 'data_' + topic_name)\n",
    "    annot_data_path = os.path.join(sample_folder, topic_name)\n",
    "    # if data_{topic_name} folder doesn't exist\n",
    "    if not Path(topic_data_path).is_dir():\n",
    "        print('{} not exists; pass this topic'.format(topic_data_path))\n",
    "        continue\n",
    "\n",
    "    # if the sampled data for this topic already exists\n",
    "    if Path(annot_data_path).is_dir():\n",
    "        print('{} already exist; pass this topic'.format(annot_data_path))\n",
    "        continue\n",
    "\n",
    "    Path(annot_data_path).mkdir()\n",
    "\n",
    "    df_samples['sample_path'] = df_samples.apply(get_sample_path_and_copy, axis=1, topic=topic_name, annot_data_path=annot_data_path)\n",
    "\n",
    "    print('Topic \\\"{}\\\" processed'.format(topic_name))"
   ]
  },
  {
   "cell_type": "code",
   "execution_count": 12,
   "metadata": {},
   "outputs": [
    {
     "output_type": "execute_result",
     "data": {
      "text/plain": [
       "            topic              hashtag             tweet_id  \\\n",
       "0     Immigration              cdnpoli  1291029706708402179   \n",
       "1         Vaccine   CoronavirusVaccine  1293151196354494464   \n",
       "2       Political            Plandemic  1293314583667630081   \n",
       "3     Immigration             liberals  1294014092383080454   \n",
       "4       AsianHate  ChinaLiedPeopleDied  1292841029167652866   \n",
       "...           ...                  ...                  ...   \n",
       "2395    AsianHate             CCPVirus  1297010723495849985   \n",
       "2396    AsianHate  ChinaLiedPeopleDied  1293946442487406594   \n",
       "2397    AsianHate           wuhanvirus  1290422707683766272   \n",
       "2398         Mask            WearAMask  1290709415105048576   \n",
       "2399  Immigration             refugees  1296449211035197446   \n",
       "\n",
       "                                             image_path  \\\n",
       "0     ./data_Immigration/cdnpoli/tweets1/EeqoptLU8AA...   \n",
       "1     ./data_Vaccine/CoronavirusVaccine/tweets2/EfIy...   \n",
       "2     ./data_Political/Plandemic/tweets2/EfLGwjaWAAM...   \n",
       "3     ./data_Immigration/liberals/tweets2/EfVC9bFWkA...   \n",
       "4     ./data_AsianHate/ChinaLiedPeopleDied/tweets2/E...   \n",
       "...                                                 ...   \n",
       "2395  ./data_AsianHate/CCPVirus/tweets4/Ef_oXSgWkAEW...   \n",
       "2396  ./data_AsianHate/ChinaLiedPeopleDied/tweets2/E...   \n",
       "2397  ./data_AsianHate/wuhanvirus/tweets1/EeiAnIqVAA...   \n",
       "2398  ./data_Mask/WearAMask/tweets1/EemFX43WkAARIu7.jpg   \n",
       "2399  ./data_Immigration/refugees/tweets3/Ef3pr43WkA...   \n",
       "\n",
       "                                            sample_path  \\\n",
       "0     ./annotation_data/Immigration/EeqoptLU8AAKRcp.jpg   \n",
       "1         ./annotation_data/Vaccine/EfIyJfmUYAE1eJo.jpg   \n",
       "2                                                    -1   \n",
       "3     ./annotation_data/Immigration/EfVC9bFWkAI-En1.jpg   \n",
       "4                                                    -1   \n",
       "...                                                 ...   \n",
       "2395                                                 -1   \n",
       "2396                                                 -1   \n",
       "2397                                                 -1   \n",
       "2398                                                 -1   \n",
       "2399  ./annotation_data/Immigration/Ef3pr43WkAUogeq.jpg   \n",
       "\n",
       "                                              body_text  image_text  \n",
       "0     On this day in 1960, the Ninth Prime Minister ...          -1  \n",
       "1     \"Putin\" taking orders for the Covid-19 Vaccine...          -1  \n",
       "2     @AlexanderSoros @KamalaHarris Criminals are no...          -1  \n",
       "3     #Antifa and #Liberals everywhere claiming to p...          -1  \n",
       "4     No more press freedom in Hong Kong #antielab #...          -1  \n",
       "...                                                 ...         ...  \n",
       "2395  @robert_spalding #CCP cover up the #CCPVirus i...          -1  \n",
       "2396  @BloombergAsia Sure, the problem is imported c...          -1  \n",
       "2397  These are largely peaceful protesters. -#CNN\\n...          -1  \n",
       "2398  GTFO\\n#coronavirus #wearamask https://t.co/r2n...          -1  \n",
       "2399  This week's @TalkGMA is not to get missed!! Pl...          -1  \n",
       "\n",
       "[2400 rows x 7 columns]"
      ],
      "text/html": "<div>\n<style scoped>\n    .dataframe tbody tr th:only-of-type {\n        vertical-align: middle;\n    }\n\n    .dataframe tbody tr th {\n        vertical-align: top;\n    }\n\n    .dataframe thead th {\n        text-align: right;\n    }\n</style>\n<table border=\"1\" class=\"dataframe\">\n  <thead>\n    <tr style=\"text-align: right;\">\n      <th></th>\n      <th>topic</th>\n      <th>hashtag</th>\n      <th>tweet_id</th>\n      <th>image_path</th>\n      <th>sample_path</th>\n      <th>body_text</th>\n      <th>image_text</th>\n    </tr>\n  </thead>\n  <tbody>\n    <tr>\n      <th>0</th>\n      <td>Immigration</td>\n      <td>cdnpoli</td>\n      <td>1291029706708402179</td>\n      <td>./data_Immigration/cdnpoli/tweets1/EeqoptLU8AA...</td>\n      <td>./annotation_data/Immigration/EeqoptLU8AAKRcp.jpg</td>\n      <td>On this day in 1960, the Ninth Prime Minister ...</td>\n      <td>-1</td>\n    </tr>\n    <tr>\n      <th>1</th>\n      <td>Vaccine</td>\n      <td>CoronavirusVaccine</td>\n      <td>1293151196354494464</td>\n      <td>./data_Vaccine/CoronavirusVaccine/tweets2/EfIy...</td>\n      <td>./annotation_data/Vaccine/EfIyJfmUYAE1eJo.jpg</td>\n      <td>\"Putin\" taking orders for the Covid-19 Vaccine...</td>\n      <td>-1</td>\n    </tr>\n    <tr>\n      <th>2</th>\n      <td>Political</td>\n      <td>Plandemic</td>\n      <td>1293314583667630081</td>\n      <td>./data_Political/Plandemic/tweets2/EfLGwjaWAAM...</td>\n      <td>-1</td>\n      <td>@AlexanderSoros @KamalaHarris Criminals are no...</td>\n      <td>-1</td>\n    </tr>\n    <tr>\n      <th>3</th>\n      <td>Immigration</td>\n      <td>liberals</td>\n      <td>1294014092383080454</td>\n      <td>./data_Immigration/liberals/tweets2/EfVC9bFWkA...</td>\n      <td>./annotation_data/Immigration/EfVC9bFWkAI-En1.jpg</td>\n      <td>#Antifa and #Liberals everywhere claiming to p...</td>\n      <td>-1</td>\n    </tr>\n    <tr>\n      <th>4</th>\n      <td>AsianHate</td>\n      <td>ChinaLiedPeopleDied</td>\n      <td>1292841029167652866</td>\n      <td>./data_AsianHate/ChinaLiedPeopleDied/tweets2/E...</td>\n      <td>-1</td>\n      <td>No more press freedom in Hong Kong #antielab #...</td>\n      <td>-1</td>\n    </tr>\n    <tr>\n      <th>...</th>\n      <td>...</td>\n      <td>...</td>\n      <td>...</td>\n      <td>...</td>\n      <td>...</td>\n      <td>...</td>\n      <td>...</td>\n    </tr>\n    <tr>\n      <th>2395</th>\n      <td>AsianHate</td>\n      <td>CCPVirus</td>\n      <td>1297010723495849985</td>\n      <td>./data_AsianHate/CCPVirus/tweets4/Ef_oXSgWkAEW...</td>\n      <td>-1</td>\n      <td>@robert_spalding #CCP cover up the #CCPVirus i...</td>\n      <td>-1</td>\n    </tr>\n    <tr>\n      <th>2396</th>\n      <td>AsianHate</td>\n      <td>ChinaLiedPeopleDied</td>\n      <td>1293946442487406594</td>\n      <td>./data_AsianHate/ChinaLiedPeopleDied/tweets2/E...</td>\n      <td>-1</td>\n      <td>@BloombergAsia Sure, the problem is imported c...</td>\n      <td>-1</td>\n    </tr>\n    <tr>\n      <th>2397</th>\n      <td>AsianHate</td>\n      <td>wuhanvirus</td>\n      <td>1290422707683766272</td>\n      <td>./data_AsianHate/wuhanvirus/tweets1/EeiAnIqVAA...</td>\n      <td>-1</td>\n      <td>These are largely peaceful protesters. -#CNN\\n...</td>\n      <td>-1</td>\n    </tr>\n    <tr>\n      <th>2398</th>\n      <td>Mask</td>\n      <td>WearAMask</td>\n      <td>1290709415105048576</td>\n      <td>./data_Mask/WearAMask/tweets1/EemFX43WkAARIu7.jpg</td>\n      <td>-1</td>\n      <td>GTFO\\n#coronavirus #wearamask https://t.co/r2n...</td>\n      <td>-1</td>\n    </tr>\n    <tr>\n      <th>2399</th>\n      <td>Immigration</td>\n      <td>refugees</td>\n      <td>1296449211035197446</td>\n      <td>./data_Immigration/refugees/tweets3/Ef3pr43WkA...</td>\n      <td>./annotation_data/Immigration/Ef3pr43WkAUogeq.jpg</td>\n      <td>This week's @TalkGMA is not to get missed!! Pl...</td>\n      <td>-1</td>\n    </tr>\n  </tbody>\n</table>\n<p>2400 rows × 7 columns</p>\n</div>"
     },
     "metadata": {},
     "execution_count": 12
    }
   ],
   "source": [
    "df_samples.to_csv('./csv_data/sample_data.csv', index=False)\n",
    "df_samples"
   ]
  },
  {
   "cell_type": "code",
   "execution_count": null,
   "metadata": {},
   "outputs": [],
   "source": []
  }
 ]
}