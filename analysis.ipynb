{
 "cells": [
  {
   "cell_type": "code",
   "execution_count": 1,
   "source": [
    "import pandas as pd\n",
    "\n",
    "csv_path = 'csv_data_hate/hateful_cleaned.csv'\n",
    "df_hateful = pd.read_csv(csv_path, index_col=False)\n",
    "csv_path = 'csv_data_general/general_cleaned.csv'\n",
    "df_general = pd.read_csv(csv_path, index_col=False)"
   ],
   "outputs": [],
   "metadata": {}
  },
  {
   "cell_type": "code",
   "execution_count": 2,
   "source": [
    "df_all = df_hateful.append(df_general, ignore_index=True)"
   ],
   "outputs": [],
   "metadata": {}
  },
  {
   "cell_type": "code",
   "execution_count": 3,
   "source": [
    "df_all.to_csv('all_cleaned.csv', index=False)\n",
    "\n",
    "df_test = df_all[:100]\n",
    "df_test.to_csv('test_cleaned.csv', index=False)"
   ],
   "outputs": [],
   "metadata": {}
  },
  {
   "cell_type": "code",
   "execution_count": 1,
   "source": [
    "import pandas as pd\n",
    "\n",
    "csv_path = 'all_cleaned.csv'\n",
    "df_csv = pd.read_csv(csv_path, index_col=False)"
   ],
   "outputs": [],
   "metadata": {}
  },
  {
   "cell_type": "code",
   "execution_count": 2,
   "source": [
    "def remove_dup(obj_str):\n",
    "    li = obj_str.split(',')\n",
    "    li = list(set(li))\n",
    "    return ','.join(li)"
   ],
   "outputs": [],
   "metadata": {}
  },
  {
   "cell_type": "code",
   "execution_count": 3,
   "source": [
    "df_csv['yolo'] = df_csv['yolo'].apply(remove_dup)\n",
    "df_csv.to_csv('all_cleaned.csv', index=False)"
   ],
   "outputs": [],
   "metadata": {}
  },
  {
   "cell_type": "code",
   "execution_count": 3,
   "source": [
    "import pandas as pd\n",
    "import matplotlib.pyplot as plt\n",
    "import seaborn as sns\n",
    "from operator import itemgetter"
   ],
   "outputs": [],
   "metadata": {}
  },
  {
   "cell_type": "code",
   "execution_count": 5,
   "source": [
    "csv_path = 'all_cleaned.csv'\n",
    "df_csv = pd.read_csv(csv_path, index_col=False)"
   ],
   "outputs": [],
   "metadata": {}
  },
  {
   "cell_type": "code",
   "execution_count": 13,
   "source": [
    "df_csv = df_csv.loc[df_csv['topic'].isin(['ageism'])]"
   ],
   "outputs": [],
   "metadata": {}
  },
  {
   "cell_type": "code",
   "execution_count": 3,
   "source": [
    "obj_dict = {}\n",
    "\n",
    "def count_objs(obj_str):\n",
    "    li = obj_str.split(',')\n",
    "    for item in li:\n",
    "        if item in obj_dict:\n",
    "            obj_dict[item] += 1\n",
    "        else:\n",
    "            obj_dict[item] = 1\n",
    "\n",
    "df_csv['yolo'].apply(count_objs)"
   ],
   "outputs": [
    {
     "output_type": "execute_result",
     "data": {
      "text/plain": [
       "0         None\n",
       "1         None\n",
       "2         None\n",
       "3         None\n",
       "4         None\n",
       "          ... \n",
       "114059    None\n",
       "114060    None\n",
       "114061    None\n",
       "114062    None\n",
       "114063    None\n",
       "Name: yolo, Length: 114064, dtype: object"
      ]
     },
     "metadata": {},
     "execution_count": 3
    }
   ],
   "metadata": {}
  },
  {
   "cell_type": "code",
   "execution_count": 4,
   "source": [
    "N = 10\n",
    "top_dict = dict(sorted(obj_dict.items(), key = itemgetter(1), reverse = True)[:N])"
   ],
   "outputs": [],
   "metadata": {}
  },
  {
   "cell_type": "code",
   "execution_count": 5,
   "source": [
    "len_all = len(df_csv.index)\n",
    "top_dict_per = {}\n",
    "\n",
    "for key, val in top_dict.items():\n",
    "    top_dict_per[key] = val / len_all"
   ],
   "outputs": [],
   "metadata": {}
  },
  {
   "cell_type": "code",
   "execution_count": 25,
   "source": [
    "df_top_per = pd.DataFrame(top_dict_per.items(), columns=['Object', 'Percentage'])\n",
    "csv_path = 'plot_data/yolo_top_all.csv'\n",
    "df_top_per.to_csv(csv_path, index=False)"
   ],
   "outputs": [],
   "metadata": {}
  },
  {
   "cell_type": "code",
   "execution_count": 5,
   "source": [
    "csv_path = 'plot_data/yolo_top_all.csv'\n",
    "df_top_per = pd.read_csv(csv_path, index_col=False)"
   ],
   "outputs": [],
   "metadata": {}
  },
  {
   "cell_type": "code",
   "execution_count": 38,
   "source": [
    "sns.set_theme()\n",
    "sns.set_context('paper')\n",
    "sns.set_style('whitegrid')\n",
    "\n",
    "plt.rc('axes', titlesize=18)     # fontsize of the axes title\n",
    "plt.rc('axes', labelsize=14)    # fontsize of the x and y labels\n",
    "plt.rc('xtick', labelsize=10)    # fontsize of the tick labels\n",
    "plt.rc('ytick', labelsize=10)    # fontsize of the tick labels\n",
    "plt.rc('legend', fontsize=13)    # legend fontsize\n",
    "plt.rc('font', size=13)          # controls default text sizes"
   ],
   "outputs": [],
   "metadata": {}
  },
  {
   "cell_type": "code",
   "execution_count": 44,
   "source": [
    "plt.figure(figsize=(4,4), tight_layout=True)\n",
    "# plt.bar(df_top_per.Object, df_top_per.Percentage, width=0.7)\n",
    "plt.xticks(rotation='vertical')\n",
    "sns.barplot(data=df_top_per, x='Object', y='Percentage', palette=sns.color_palette('husl', 10))\n",
    "plt.xlabel('All')\n",
    "\n",
    "plt.show()"
   ],
   "outputs": [
    {
     "output_type": "display_data",
     "data": {
      "image/png": "[encoded data removed]",
      "text/plain": [
       "<Figure size 400x400 with 1 Axes>"
      ]
     },
     "metadata": {}
    }
   ],
   "metadata": {}
  },
  {
   "cell_type": "code",
   "execution_count": null,
   "source": [],
   "outputs": [],
   "metadata": {}
  }
 ],
 "metadata": {
  "orig_nbformat": 4,
  "language_info": {
   "name": "python",
   "version": "3.9.6",
   "mimetype": "text/x-python",
   "codemirror_mode": {
    "name": "ipython",
    "version": 3
   },
   "pygments_lexer": "ipython3",
   "nbconvert_exporter": "python",
   "file_extension": ".py"
  },
  "kernelspec": {
   "name": "python3",
   "display_name": "Python 3.9.6 64-bit ('tweets': conda)"
  },
  "interpreter": {
   "hash": "e64168a403e0804874b075e7b6468cca96d8c5314402ac5ba31c751068750194"
  }
 },
 "nbformat": 4,
 "nbformat_minor": 2
}